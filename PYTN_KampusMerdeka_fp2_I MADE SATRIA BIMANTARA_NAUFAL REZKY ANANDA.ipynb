{
 "cells": [
  {
   "cell_type": "markdown",
   "id": "1ae13d3d",
   "metadata": {},
   "source": [
    "# Deskripsi Projek"
   ]
  },
  {
   "cell_type": "markdown",
   "id": "c0fb0602",
   "metadata": {},
   "source": [
    "## Pendahuluan Projek"
   ]
  },
  {
   "cell_type": "markdown",
   "id": "9fddc47f",
   "metadata": {},
   "source": [
    "Notebook ini akan berisi implementasi beberapa algoritma klasifikasi dengan pustaka sklearn untuk mengklasifikasikan prediksi hujan di hari besoknya dari tanggal pengamatan ke dalam \"No\" atau \"Yes\""
   ]
  },
  {
   "cell_type": "markdown",
   "id": "7e8c9ef6",
   "metadata": {},
   "source": [
    "## Instruksi\n",
    "***\n",
    "Isi notebook harus mengikuti **outline** seperti di bawah: <br>\n",
    "1. Perkenalan\n",
    "2. Import libraries\n",
    "3. Data Loading\n",
    "4. Data cleaning\n",
    "5. Explorasi Data\n",
    "6. Data Preprocessing\n",
    "7. Pendefinisian model\n",
    "8. Pelatihan model\n",
    "9. Evaluasi Model\n",
    "10. Model Inference\n",
    "11. Pengambilan keputusan"
   ]
  },
  {
   "cell_type": "markdown",
   "id": "ab7dc9ea",
   "metadata": {},
   "source": [
    "## Projek Rubrik\n",
    "***\n",
    "1. Mengimplementasikan model klasifikasi machine learning dengan Sklearn\n",
    "> Logistic Regression,\n",
    "> KNN,\n",
    "> SVM,\n",
    "> DT,\n",
    "> RF,\n",
    "> NB,\n",
    "2. Mengimplementasikan dan menganalisa confusion matrix\n",
    "3. Menganalisa data setidaknya dengan 2 tipe grafik (Visualisasi)\n",
    "4. Preprocessing data sebelum melakukan pengolahan lebih lanjut\n",
    "5. Tanpa error\n",
    "6. Tertata dengan baik (markdown) setiap kode\n",
    "7. Analisis algoritma yang digunakan"
   ]
  },
  {
   "cell_type": "markdown",
   "id": "6fa11c09",
   "metadata": {},
   "source": [
    "## Form Penilaian Projek\n",
    "***\n",
    "**Exploratory Data Analysis** <br>\n",
    "1. Melakukan data query dan grouping\n",
    "2. Mencari central tendency\n",
    "3. Mencari variability\n",
    "4. Deskripsi penjelasan untuk nomor 2 dan 3\n",
    "5. Tanpa error <br>\n",
    "\n",
    "**Preprocessing** <br>\n",
    "1. Fix (rename) nama kolom\n",
    "2. Handling missing values (standard missing values, unstandard missing values, invalid values)\n",
    "3. Memperbaiki tipe data setiap kolom dengan tipe data yang semestinya\n",
    "4. Menambahkan kolom baru dari operasi kolom\n",
    "5. Semua baris kode terdokumentasi dengan markdown dan tanpa error <br>\n",
    "\n",
    "**Modeling**<br>\n",
    "1. Ada visualisasi\n",
    "2. Visualisasi yang baik dengan title, label axes, legend, custom size, custom color, dan anotasi\n",
    "3. Implementasi Model Klasifikasi Machine Learning Pada Projek Rubrik\n",
    "4. Mencoba model yang telah dibuat dengan data baru yang disediakan\n",
    "5. Tanpa error <br>\n",
    "\n",
    "**Analysis** <br>\n",
    "1. Mendeskripsikan model yang telah dibuat\n",
    "2. Menganalisa informasi dari model yang dibuat\n",
    "3. Membuat lebih dari 1 informasi\n",
    "4. Menarik informasi/kesimpulan dari keseluruhan kegiatan yang dilakukan <br>\n",
    "\n",
    "**Deployment**\n",
    "1. Membuat flask\n",
    "2. Menambahkan requirement heroku\n",
    "3. Melakukan deployment\n",
    "4. tanpa error\n",
    "5. Model yang dideploy dapat melakukan inference"
   ]
  },
  {
   "cell_type": "markdown",
   "id": "8bda3091",
   "metadata": {},
   "source": [
    "# Final Projek 2\n",
    "***\n",
    "Authors and Creators: <br>\n",
    "1. I Made Satria Bimantara\n",
    "2. Naufal Rezky Ananda"
   ]
  },
  {
   "cell_type": "markdown",
   "id": "68131650",
   "metadata": {},
   "source": [
    "## Perkenalan\n",
    "***\n",
    "1. Latar belakang memilih kasus\n",
    "2. Data yang digunakan (jumlah data, kelas, sumber)\n",
    "3. Objective yang ingin dicapai"
   ]
  },
  {
   "cell_type": "markdown",
   "id": "b274def2",
   "metadata": {},
   "source": [
    "### Latar belakang memilih kasus\n",
    "***\n",
    "Ingin membangun sebuah model klasifikasi yang bisa memprediksi terjadinya hujan di Australia berdasarkan nilai fitur yang diinputkan."
   ]
  },
  {
   "cell_type": "markdown",
   "id": "f31489b7",
   "metadata": {},
   "source": [
    "### Data Penelitian (Rain in Austalia)\n",
    "***\n",
    "Data ini bernama **Rain in Australia** yang diperoleh dari https://www.kaggle.com/jsphyg/weather-dataset-rattle-package. Data ini digunakan untuk memprediksi apakah terjadi hujan pada keesokan hari dari tanggal pengamatan. Data ini adalah data hujan harian selama 10 tahun di berbagai lokasi di Australia. Jumlah dataset ini adalah **145.460** baris data dengan **23** atribut. <br>\n",
    "Atribut yang menjadi label kelas yaitu **RainTomorrow** yang berisi \"No\" (tidak terjadi hujan besok harinya) dan \"Yes\" (terjadi hujan besok harinya 1mm atau lebih). "
   ]
  },
  {
   "cell_type": "markdown",
   "id": "892ad55c",
   "metadata": {},
   "source": [
    "**Deskripsi Atribut** <br>\n",
    "Nama, penjelasannya, serta tipe data dari atribut yang terdapat pada datasets, adalah sebagai berikut: <br>\n",
    "Atribut bertipe kategorikal (nominal dan/atau ordinal) <br>\n",
    "1. Location - lokasi, nama kota di Australia\n",
    "2. WindGustDir - arah kecepatan angin yang paling tinggi selama 24 jam sebelum jam 12 malam hari itu\n",
    "3. WindDir9am - arah angin jam 9 pagi\n",
    "4. WindDir3pm - arah angin jam 3 sore\n",
    "5. RainToday - apakah hari ini hujan: jika curah hujan 24 jam sebelum jam 9 pagi melebihi 1mm, maka nilai ini adalah 1, jika tidak nilai nya 0\n",
    "6. RainTomorrow - variable yang mau di prediksi\n",
    "\n",
    "Atribut bertipe numerikal (int, float) <br>\n",
    "1. MinTemp - temperatur terendah hari itu dalam celcius\n",
    "2. MaxTemp - temperatur tertinggi hari itu dalam celcius\n",
    "3. Rainfall - jumlah curah hujan hari itu dalam mm\n",
    "4. Evaporation - jumlah evaporasi dalam mm dari Class A pan selama 24 jam sebelum jam 9 pagi hari itu\n",
    "5. Sunshine - jumlah jam hari itu cerah dengan cahaya matahari\n",
    "6. WindGustSpeed - kecepatan angin yang paling tinggi dalam km/jam selama 24 jam sebelum jam 12 malam hari itu\n",
    "72. WindSpeed9am - kecepatan angin jam 9 pagi dalam km/jam dihitung dari rata-rata kecepatan angin 10 menit sebelum jam 3 sore\n",
    "8. WindSpeed3pm - kecepatan angin jam 3 sore dalam km/jam dihitung dari rata-rata kecepatan angin 10 menit sebelum jam 3 sore\n",
    "9. Humidity9am - humiditas jam 9 pagi dalam persen\n",
    "10. Humidity3pm - humiditas jam 3 sore dalam persen\n",
    "11. Pressure9am - tekanan udara jam 9 pagi dalam hpa\n",
    "12. Pressure3pm - tekanan udara jam 3 sore dalam hpa\n",
    "13. Cloud9am - persentase langit yang tertutup awan jam 9 pagi. dihitung dalam oktas, unit ⅛, menghitung berapa unit ⅛ dari langit yang tertutup awan. Jika 0, langit cerah, jika 8, langit sepenuhnya tertutup awan.\n",
    "14. Cloud3pm - persentase langit yang tertutup awan jam 3 sore\n",
    "15. Temp9am - temperatur jam 9 pagi dalam celcius\n",
    "16. Temp3pm - temperatur jam 3 sore dalam celcius\n",
    "\n",
    "Atribut bertipe date (time series) <br>\n",
    "1. Date - tanggal hari itu\n"
   ]
  },
  {
   "cell_type": "markdown",
   "id": "1c9ad986",
   "metadata": {},
   "source": [
    "### Objective yang ingin dicapai\n",
    "***\n",
    "Model prediksi hujan yang dibangun tentunya dapat memberikan hasil akurasi yang maksimal. Selain itu, model prediksi hujan yang dibangun berusaha untuk meminimumkan FN, sehingga model sebisa mungkin memberikan **recall maksimum**"
   ]
  },
  {
   "cell_type": "markdown",
   "id": "46a8ac8f",
   "metadata": {},
   "source": [
    "## Install dan Import Pustaka yang dibutuhkan"
   ]
  },
  {
   "cell_type": "markdown",
   "id": "20c949d4",
   "metadata": {},
   "source": [
    "### Install Pustaka "
   ]
  },
  {
   "cell_type": "code",
   "execution_count": null,
   "id": "ca78f8c7",
   "metadata": {},
   "outputs": [],
   "source": []
  },
  {
   "cell_type": "markdown",
   "id": "8514b881",
   "metadata": {},
   "source": [
    "### Pustaka untuk pengolahan data"
   ]
  },
  {
   "cell_type": "code",
   "execution_count": 1,
   "id": "96bcab1e",
   "metadata": {},
   "outputs": [],
   "source": [
    "import pandas as pd\n",
    "import numpy as np"
   ]
  },
  {
   "cell_type": "markdown",
   "id": "56fc1501",
   "metadata": {},
   "source": [
    "### Pustaka untuk proses machine learning dan data science"
   ]
  },
  {
   "cell_type": "code",
   "execution_count": 2,
   "id": "64092356",
   "metadata": {},
   "outputs": [],
   "source": [
    "# Preprocessing\n",
    "from sklearn.preprocessing import OrdinalEncoder #ordinal encoding untuk atribut kategorikal\n",
    "from sklearn.preprocessing import MinMaxScaler,StandardScaler,MaxAbsScaler #scaler for normalization \n",
    "from sklearn.preprocessing import OneHotEncoder #one hot encoding nominal atribut\n",
    "from sklearn.preprocessing import FunctionTransformer\n",
    "\n",
    "# ANOVA feature selection for numeric input and categorical output\n",
    "from sklearn.datasets import make_classification\n",
    "from sklearn.feature_selection import SelectKBest\n",
    "from sklearn.feature_selection import f_classif\n",
    "\n",
    "# Chi-Square and Mutual Information feature selection for numeric input and categorical output\n",
    "from sklearn.feature_selection import chi2,mutual_info_classif\n",
    "\n",
    "\n",
    "# splitting dataset and kfold\n",
    "from sklearn.model_selection import train_test_split,KFold, cross_val_score, GridSearchCV\n",
    "\n",
    "# dimensionality reduction\n",
    "from sklearn.decomposition import PCA, TruncatedSVD\n",
    "\n",
    "# modelling\n",
    "from sklearn.svm import SVC\n",
    "from sklearn.linear_model import LogisticRegression\n",
    "from sklearn.naive_bayes import GaussianNB\n",
    "from sklearn.neighbors import KNeighborsClassifier\n",
    "\n",
    "\n",
    "# model performance\n",
    "from sklearn import metrics\n",
    "\n",
    "# pipeline\n",
    "from sklearn.pipeline import Pipeline\n",
    "from sklearn.compose import ColumnTransformer , make_column_transformer, make_column_selector\n",
    "from sklearn.impute import SimpleImputer"
   ]
  },
  {
   "cell_type": "markdown",
   "id": "20ce6a4a",
   "metadata": {},
   "source": [
    "### Pustaka untuk visualisasi"
   ]
  },
  {
   "cell_type": "code",
   "execution_count": 3,
   "id": "170f31ec",
   "metadata": {},
   "outputs": [],
   "source": [
    "import matplotlib.pyplot as plt\n",
    "import seaborn as sns\n",
    "\n",
    "%matplotlib inline"
   ]
  },
  {
   "cell_type": "markdown",
   "id": "a691c630",
   "metadata": {},
   "source": [
    "### Pustaka pendukung lainnya (jika ada)"
   ]
  },
  {
   "cell_type": "code",
   "execution_count": 4,
   "id": "d08c8979",
   "metadata": {},
   "outputs": [],
   "source": [
    "# save models\n",
    "import pickle"
   ]
  },
  {
   "cell_type": "markdown",
   "id": "c57fcdbf",
   "metadata": {},
   "source": [
    "## Data Loading\n",
    "***\n",
    "Data terdapat dalam folder \"/dataset/weatherAUS.csv\" <br>\n",
    "Data ini nantinya akan dibagi kedalam dua bagian: <br>\n",
    "1. Data Latih (Training) 70%\n",
    "2. Data Uji (Testing) 30%"
   ]
  },
  {
   "cell_type": "code",
   "execution_count": 5,
   "id": "e9a51bb3",
   "metadata": {},
   "outputs": [],
   "source": [
    "# Loading data dengan Pandas\n",
    "rainAus_df = pd.read_csv('./dataset/weatherAUS.csv')"
   ]
  },
  {
   "cell_type": "markdown",
   "id": "787f3be7",
   "metadata": {},
   "source": [
    "### Menampilkan sekilas isi data"
   ]
  },
  {
   "cell_type": "code",
   "execution_count": 6,
   "id": "00ad6370",
   "metadata": {},
   "outputs": [
    {
     "data": {
      "text/html": [
       "<div>\n",
       "<style scoped>\n",
       "    .dataframe tbody tr th:only-of-type {\n",
       "        vertical-align: middle;\n",
       "    }\n",
       "\n",
       "    .dataframe tbody tr th {\n",
       "        vertical-align: top;\n",
       "    }\n",
       "\n",
       "    .dataframe thead th {\n",
       "        text-align: right;\n",
       "    }\n",
       "</style>\n",
       "<table border=\"1\" class=\"dataframe\">\n",
       "  <thead>\n",
       "    <tr style=\"text-align: right;\">\n",
       "      <th></th>\n",
       "      <th>Date</th>\n",
       "      <th>Location</th>\n",
       "      <th>MinTemp</th>\n",
       "      <th>MaxTemp</th>\n",
       "      <th>Rainfall</th>\n",
       "      <th>Evaporation</th>\n",
       "      <th>Sunshine</th>\n",
       "      <th>WindGustDir</th>\n",
       "      <th>WindGustSpeed</th>\n",
       "      <th>WindDir9am</th>\n",
       "      <th>...</th>\n",
       "      <th>Humidity9am</th>\n",
       "      <th>Humidity3pm</th>\n",
       "      <th>Pressure9am</th>\n",
       "      <th>Pressure3pm</th>\n",
       "      <th>Cloud9am</th>\n",
       "      <th>Cloud3pm</th>\n",
       "      <th>Temp9am</th>\n",
       "      <th>Temp3pm</th>\n",
       "      <th>RainToday</th>\n",
       "      <th>RainTomorrow</th>\n",
       "    </tr>\n",
       "  </thead>\n",
       "  <tbody>\n",
       "    <tr>\n",
       "      <th>0</th>\n",
       "      <td>2008-12-01</td>\n",
       "      <td>Albury</td>\n",
       "      <td>13.4</td>\n",
       "      <td>22.9</td>\n",
       "      <td>0.6</td>\n",
       "      <td>NaN</td>\n",
       "      <td>NaN</td>\n",
       "      <td>W</td>\n",
       "      <td>44.0</td>\n",
       "      <td>W</td>\n",
       "      <td>...</td>\n",
       "      <td>71.0</td>\n",
       "      <td>22.0</td>\n",
       "      <td>1007.7</td>\n",
       "      <td>1007.1</td>\n",
       "      <td>8.0</td>\n",
       "      <td>NaN</td>\n",
       "      <td>16.9</td>\n",
       "      <td>21.8</td>\n",
       "      <td>No</td>\n",
       "      <td>No</td>\n",
       "    </tr>\n",
       "    <tr>\n",
       "      <th>1</th>\n",
       "      <td>2008-12-02</td>\n",
       "      <td>Albury</td>\n",
       "      <td>7.4</td>\n",
       "      <td>25.1</td>\n",
       "      <td>0.0</td>\n",
       "      <td>NaN</td>\n",
       "      <td>NaN</td>\n",
       "      <td>WNW</td>\n",
       "      <td>44.0</td>\n",
       "      <td>NNW</td>\n",
       "      <td>...</td>\n",
       "      <td>44.0</td>\n",
       "      <td>25.0</td>\n",
       "      <td>1010.6</td>\n",
       "      <td>1007.8</td>\n",
       "      <td>NaN</td>\n",
       "      <td>NaN</td>\n",
       "      <td>17.2</td>\n",
       "      <td>24.3</td>\n",
       "      <td>No</td>\n",
       "      <td>No</td>\n",
       "    </tr>\n",
       "    <tr>\n",
       "      <th>2</th>\n",
       "      <td>2008-12-03</td>\n",
       "      <td>Albury</td>\n",
       "      <td>12.9</td>\n",
       "      <td>25.7</td>\n",
       "      <td>0.0</td>\n",
       "      <td>NaN</td>\n",
       "      <td>NaN</td>\n",
       "      <td>WSW</td>\n",
       "      <td>46.0</td>\n",
       "      <td>W</td>\n",
       "      <td>...</td>\n",
       "      <td>38.0</td>\n",
       "      <td>30.0</td>\n",
       "      <td>1007.6</td>\n",
       "      <td>1008.7</td>\n",
       "      <td>NaN</td>\n",
       "      <td>2.0</td>\n",
       "      <td>21.0</td>\n",
       "      <td>23.2</td>\n",
       "      <td>No</td>\n",
       "      <td>No</td>\n",
       "    </tr>\n",
       "    <tr>\n",
       "      <th>3</th>\n",
       "      <td>2008-12-04</td>\n",
       "      <td>Albury</td>\n",
       "      <td>9.2</td>\n",
       "      <td>28.0</td>\n",
       "      <td>0.0</td>\n",
       "      <td>NaN</td>\n",
       "      <td>NaN</td>\n",
       "      <td>NE</td>\n",
       "      <td>24.0</td>\n",
       "      <td>SE</td>\n",
       "      <td>...</td>\n",
       "      <td>45.0</td>\n",
       "      <td>16.0</td>\n",
       "      <td>1017.6</td>\n",
       "      <td>1012.8</td>\n",
       "      <td>NaN</td>\n",
       "      <td>NaN</td>\n",
       "      <td>18.1</td>\n",
       "      <td>26.5</td>\n",
       "      <td>No</td>\n",
       "      <td>No</td>\n",
       "    </tr>\n",
       "    <tr>\n",
       "      <th>4</th>\n",
       "      <td>2008-12-05</td>\n",
       "      <td>Albury</td>\n",
       "      <td>17.5</td>\n",
       "      <td>32.3</td>\n",
       "      <td>1.0</td>\n",
       "      <td>NaN</td>\n",
       "      <td>NaN</td>\n",
       "      <td>W</td>\n",
       "      <td>41.0</td>\n",
       "      <td>ENE</td>\n",
       "      <td>...</td>\n",
       "      <td>82.0</td>\n",
       "      <td>33.0</td>\n",
       "      <td>1010.8</td>\n",
       "      <td>1006.0</td>\n",
       "      <td>7.0</td>\n",
       "      <td>8.0</td>\n",
       "      <td>17.8</td>\n",
       "      <td>29.7</td>\n",
       "      <td>No</td>\n",
       "      <td>No</td>\n",
       "    </tr>\n",
       "    <tr>\n",
       "      <th>...</th>\n",
       "      <td>...</td>\n",
       "      <td>...</td>\n",
       "      <td>...</td>\n",
       "      <td>...</td>\n",
       "      <td>...</td>\n",
       "      <td>...</td>\n",
       "      <td>...</td>\n",
       "      <td>...</td>\n",
       "      <td>...</td>\n",
       "      <td>...</td>\n",
       "      <td>...</td>\n",
       "      <td>...</td>\n",
       "      <td>...</td>\n",
       "      <td>...</td>\n",
       "      <td>...</td>\n",
       "      <td>...</td>\n",
       "      <td>...</td>\n",
       "      <td>...</td>\n",
       "      <td>...</td>\n",
       "      <td>...</td>\n",
       "      <td>...</td>\n",
       "    </tr>\n",
       "    <tr>\n",
       "      <th>145455</th>\n",
       "      <td>2017-06-21</td>\n",
       "      <td>Uluru</td>\n",
       "      <td>2.8</td>\n",
       "      <td>23.4</td>\n",
       "      <td>0.0</td>\n",
       "      <td>NaN</td>\n",
       "      <td>NaN</td>\n",
       "      <td>E</td>\n",
       "      <td>31.0</td>\n",
       "      <td>SE</td>\n",
       "      <td>...</td>\n",
       "      <td>51.0</td>\n",
       "      <td>24.0</td>\n",
       "      <td>1024.6</td>\n",
       "      <td>1020.3</td>\n",
       "      <td>NaN</td>\n",
       "      <td>NaN</td>\n",
       "      <td>10.1</td>\n",
       "      <td>22.4</td>\n",
       "      <td>No</td>\n",
       "      <td>No</td>\n",
       "    </tr>\n",
       "    <tr>\n",
       "      <th>145456</th>\n",
       "      <td>2017-06-22</td>\n",
       "      <td>Uluru</td>\n",
       "      <td>3.6</td>\n",
       "      <td>25.3</td>\n",
       "      <td>0.0</td>\n",
       "      <td>NaN</td>\n",
       "      <td>NaN</td>\n",
       "      <td>NNW</td>\n",
       "      <td>22.0</td>\n",
       "      <td>SE</td>\n",
       "      <td>...</td>\n",
       "      <td>56.0</td>\n",
       "      <td>21.0</td>\n",
       "      <td>1023.5</td>\n",
       "      <td>1019.1</td>\n",
       "      <td>NaN</td>\n",
       "      <td>NaN</td>\n",
       "      <td>10.9</td>\n",
       "      <td>24.5</td>\n",
       "      <td>No</td>\n",
       "      <td>No</td>\n",
       "    </tr>\n",
       "    <tr>\n",
       "      <th>145457</th>\n",
       "      <td>2017-06-23</td>\n",
       "      <td>Uluru</td>\n",
       "      <td>5.4</td>\n",
       "      <td>26.9</td>\n",
       "      <td>0.0</td>\n",
       "      <td>NaN</td>\n",
       "      <td>NaN</td>\n",
       "      <td>N</td>\n",
       "      <td>37.0</td>\n",
       "      <td>SE</td>\n",
       "      <td>...</td>\n",
       "      <td>53.0</td>\n",
       "      <td>24.0</td>\n",
       "      <td>1021.0</td>\n",
       "      <td>1016.8</td>\n",
       "      <td>NaN</td>\n",
       "      <td>NaN</td>\n",
       "      <td>12.5</td>\n",
       "      <td>26.1</td>\n",
       "      <td>No</td>\n",
       "      <td>No</td>\n",
       "    </tr>\n",
       "    <tr>\n",
       "      <th>145458</th>\n",
       "      <td>2017-06-24</td>\n",
       "      <td>Uluru</td>\n",
       "      <td>7.8</td>\n",
       "      <td>27.0</td>\n",
       "      <td>0.0</td>\n",
       "      <td>NaN</td>\n",
       "      <td>NaN</td>\n",
       "      <td>SE</td>\n",
       "      <td>28.0</td>\n",
       "      <td>SSE</td>\n",
       "      <td>...</td>\n",
       "      <td>51.0</td>\n",
       "      <td>24.0</td>\n",
       "      <td>1019.4</td>\n",
       "      <td>1016.5</td>\n",
       "      <td>3.0</td>\n",
       "      <td>2.0</td>\n",
       "      <td>15.1</td>\n",
       "      <td>26.0</td>\n",
       "      <td>No</td>\n",
       "      <td>No</td>\n",
       "    </tr>\n",
       "    <tr>\n",
       "      <th>145459</th>\n",
       "      <td>2017-06-25</td>\n",
       "      <td>Uluru</td>\n",
       "      <td>14.9</td>\n",
       "      <td>NaN</td>\n",
       "      <td>0.0</td>\n",
       "      <td>NaN</td>\n",
       "      <td>NaN</td>\n",
       "      <td>NaN</td>\n",
       "      <td>NaN</td>\n",
       "      <td>ESE</td>\n",
       "      <td>...</td>\n",
       "      <td>62.0</td>\n",
       "      <td>36.0</td>\n",
       "      <td>1020.2</td>\n",
       "      <td>1017.9</td>\n",
       "      <td>8.0</td>\n",
       "      <td>8.0</td>\n",
       "      <td>15.0</td>\n",
       "      <td>20.9</td>\n",
       "      <td>No</td>\n",
       "      <td>NaN</td>\n",
       "    </tr>\n",
       "  </tbody>\n",
       "</table>\n",
       "<p>145460 rows × 23 columns</p>\n",
       "</div>"
      ],
      "text/plain": [
       "              Date Location  MinTemp  MaxTemp  Rainfall  Evaporation  \\\n",
       "0       2008-12-01   Albury     13.4     22.9       0.6          NaN   \n",
       "1       2008-12-02   Albury      7.4     25.1       0.0          NaN   \n",
       "2       2008-12-03   Albury     12.9     25.7       0.0          NaN   \n",
       "3       2008-12-04   Albury      9.2     28.0       0.0          NaN   \n",
       "4       2008-12-05   Albury     17.5     32.3       1.0          NaN   \n",
       "...            ...      ...      ...      ...       ...          ...   \n",
       "145455  2017-06-21    Uluru      2.8     23.4       0.0          NaN   \n",
       "145456  2017-06-22    Uluru      3.6     25.3       0.0          NaN   \n",
       "145457  2017-06-23    Uluru      5.4     26.9       0.0          NaN   \n",
       "145458  2017-06-24    Uluru      7.8     27.0       0.0          NaN   \n",
       "145459  2017-06-25    Uluru     14.9      NaN       0.0          NaN   \n",
       "\n",
       "        Sunshine WindGustDir  WindGustSpeed WindDir9am  ... Humidity9am  \\\n",
       "0            NaN           W           44.0          W  ...        71.0   \n",
       "1            NaN         WNW           44.0        NNW  ...        44.0   \n",
       "2            NaN         WSW           46.0          W  ...        38.0   \n",
       "3            NaN          NE           24.0         SE  ...        45.0   \n",
       "4            NaN           W           41.0        ENE  ...        82.0   \n",
       "...          ...         ...            ...        ...  ...         ...   \n",
       "145455       NaN           E           31.0         SE  ...        51.0   \n",
       "145456       NaN         NNW           22.0         SE  ...        56.0   \n",
       "145457       NaN           N           37.0         SE  ...        53.0   \n",
       "145458       NaN          SE           28.0        SSE  ...        51.0   \n",
       "145459       NaN         NaN            NaN        ESE  ...        62.0   \n",
       "\n",
       "        Humidity3pm  Pressure9am  Pressure3pm  Cloud9am  Cloud3pm  Temp9am  \\\n",
       "0              22.0       1007.7       1007.1       8.0       NaN     16.9   \n",
       "1              25.0       1010.6       1007.8       NaN       NaN     17.2   \n",
       "2              30.0       1007.6       1008.7       NaN       2.0     21.0   \n",
       "3              16.0       1017.6       1012.8       NaN       NaN     18.1   \n",
       "4              33.0       1010.8       1006.0       7.0       8.0     17.8   \n",
       "...             ...          ...          ...       ...       ...      ...   \n",
       "145455         24.0       1024.6       1020.3       NaN       NaN     10.1   \n",
       "145456         21.0       1023.5       1019.1       NaN       NaN     10.9   \n",
       "145457         24.0       1021.0       1016.8       NaN       NaN     12.5   \n",
       "145458         24.0       1019.4       1016.5       3.0       2.0     15.1   \n",
       "145459         36.0       1020.2       1017.9       8.0       8.0     15.0   \n",
       "\n",
       "        Temp3pm  RainToday  RainTomorrow  \n",
       "0          21.8         No            No  \n",
       "1          24.3         No            No  \n",
       "2          23.2         No            No  \n",
       "3          26.5         No            No  \n",
       "4          29.7         No            No  \n",
       "...         ...        ...           ...  \n",
       "145455     22.4         No            No  \n",
       "145456     24.5         No            No  \n",
       "145457     26.1         No            No  \n",
       "145458     26.0         No            No  \n",
       "145459     20.9         No           NaN  \n",
       "\n",
       "[145460 rows x 23 columns]"
      ]
     },
     "execution_count": 6,
     "metadata": {},
     "output_type": "execute_result"
    }
   ],
   "source": [
    "rainAus_df"
   ]
  },
  {
   "cell_type": "markdown",
   "id": "8f7058d6",
   "metadata": {},
   "source": [
    "Terlihat cukup banyak data yang mengandung **NaN**, sehingga penanganan (imputasi) *missing values* menjadi penting"
   ]
  },
  {
   "cell_type": "markdown",
   "id": "ad41caa9",
   "metadata": {},
   "source": [
    "### Mengetahui dimensi data"
   ]
  },
  {
   "cell_type": "code",
   "execution_count": 7,
   "id": "4e76aebc",
   "metadata": {},
   "outputs": [
    {
     "name": "stdout",
     "output_type": "stream",
     "text": [
      "(145460, 23)\n"
     ]
    }
   ],
   "source": [
    "print(rainAus_df.shape)"
   ]
  },
  {
   "cell_type": "markdown",
   "id": "252e932c",
   "metadata": {},
   "source": [
    "Jumlah sampel dataset yang ada cukup besar. Ini mungkin akan memakan waktu pada tahap training, sehingga akan dilakukan under sampling"
   ]
  },
  {
   "cell_type": "markdown",
   "id": "e46f19e4",
   "metadata": {},
   "source": [
    "### Mengetahui daftar kolom (atribut)"
   ]
  },
  {
   "cell_type": "code",
   "execution_count": 8,
   "id": "d82e8c6b",
   "metadata": {},
   "outputs": [
    {
     "name": "stdout",
     "output_type": "stream",
     "text": [
      "['Date' 'Location' 'MinTemp' 'MaxTemp' 'Rainfall' 'Evaporation' 'Sunshine'\n",
      " 'WindGustDir' 'WindGustSpeed' 'WindDir9am' 'WindDir3pm' 'WindSpeed9am'\n",
      " 'WindSpeed3pm' 'Humidity9am' 'Humidity3pm' 'Pressure9am' 'Pressure3pm'\n",
      " 'Cloud9am' 'Cloud3pm' 'Temp9am' 'Temp3pm' 'RainToday' 'RainTomorrow']\n"
     ]
    }
   ],
   "source": [
    "attributes = rainAus_df.columns.values\n",
    "print(attributes)"
   ]
  },
  {
   "cell_type": "markdown",
   "id": "6d4143bd",
   "metadata": {},
   "source": [
    "### Melihat tipe data setiap kolom"
   ]
  },
  {
   "cell_type": "code",
   "execution_count": 9,
   "id": "afb47e2c",
   "metadata": {},
   "outputs": [
    {
     "name": "stdout",
     "output_type": "stream",
     "text": [
      "<class 'pandas.core.frame.DataFrame'>\n",
      "RangeIndex: 145460 entries, 0 to 145459\n",
      "Data columns (total 23 columns):\n",
      " #   Column         Non-Null Count   Dtype  \n",
      "---  ------         --------------   -----  \n",
      " 0   Date           145460 non-null  object \n",
      " 1   Location       145460 non-null  object \n",
      " 2   MinTemp        143975 non-null  float64\n",
      " 3   MaxTemp        144199 non-null  float64\n",
      " 4   Rainfall       142199 non-null  float64\n",
      " 5   Evaporation    82670 non-null   float64\n",
      " 6   Sunshine       75625 non-null   float64\n",
      " 7   WindGustDir    135134 non-null  object \n",
      " 8   WindGustSpeed  135197 non-null  float64\n",
      " 9   WindDir9am     134894 non-null  object \n",
      " 10  WindDir3pm     141232 non-null  object \n",
      " 11  WindSpeed9am   143693 non-null  float64\n",
      " 12  WindSpeed3pm   142398 non-null  float64\n",
      " 13  Humidity9am    142806 non-null  float64\n",
      " 14  Humidity3pm    140953 non-null  float64\n",
      " 15  Pressure9am    130395 non-null  float64\n",
      " 16  Pressure3pm    130432 non-null  float64\n",
      " 17  Cloud9am       89572 non-null   float64\n",
      " 18  Cloud3pm       86102 non-null   float64\n",
      " 19  Temp9am        143693 non-null  float64\n",
      " 20  Temp3pm        141851 non-null  float64\n",
      " 21  RainToday      142199 non-null  object \n",
      " 22  RainTomorrow   142193 non-null  object \n",
      "dtypes: float64(16), object(7)\n",
      "memory usage: 25.5+ MB\n"
     ]
    }
   ],
   "source": [
    "rainAus_df.info()"
   ]
  },
  {
   "cell_type": "markdown",
   "id": "4ebb5a12",
   "metadata": {},
   "source": [
    "Dari hasil ini terlihat bahwa ada nilai *missing values* yang banyak pada beberapa atribut, seperti **Evaporation, Sunshine, Cloud9am, Cloud3pm**. Selain itu, ada beberapa tipe data yang beragam dari data yang diperoleh, seperti object (category) dan float"
   ]
  },
  {
   "cell_type": "markdown",
   "id": "9d1b4d35",
   "metadata": {},
   "source": [
    "### Menampilkan statistik deskriptif untuk tipe data numerikal"
   ]
  },
  {
   "cell_type": "code",
   "execution_count": 10,
   "id": "5ae540d5",
   "metadata": {},
   "outputs": [],
   "source": [
    "# Memilih atribut yang bertipe numerik (float, int, ...)\n",
    "numerical_columns = rainAus_df.select_dtypes(include=['float64','int64']).columns.values\n",
    "\n",
    "# Memilih atribut yang bertipe kategorikal (object)\n",
    "categorical_columns = rainAus_df.select_dtypes(include=['object']).columns.values"
   ]
  },
  {
   "cell_type": "code",
   "execution_count": 11,
   "id": "ca2c7bf8",
   "metadata": {},
   "outputs": [
    {
     "name": "stdout",
     "output_type": "stream",
     "text": [
      "Daftar Atribut Numerik\n",
      "['MinTemp' 'MaxTemp' 'Rainfall' 'Evaporation' 'Sunshine' 'WindGustSpeed'\n",
      " 'WindSpeed9am' 'WindSpeed3pm' 'Humidity9am' 'Humidity3pm' 'Pressure9am'\n",
      " 'Pressure3pm' 'Cloud9am' 'Cloud3pm' 'Temp9am' 'Temp3pm']\n",
      "========================================\n",
      "Daftar Atribut Kategorikal\n",
      "['Date' 'Location' 'WindGustDir' 'WindDir9am' 'WindDir3pm' 'RainToday'\n",
      " 'RainTomorrow']\n"
     ]
    }
   ],
   "source": [
    "# cetak daftar atribut numerik dan kategorikal\n",
    "print(\"Daftar Atribut Numerik\")\n",
    "print(numerical_columns)\n",
    "print(\"=\"*40)\n",
    "print(\"Daftar Atribut Kategorikal\")\n",
    "print(categorical_columns)"
   ]
  },
  {
   "cell_type": "code",
   "execution_count": 12,
   "id": "35d97e46",
   "metadata": {},
   "outputs": [
    {
     "data": {
      "text/html": [
       "<div>\n",
       "<style scoped>\n",
       "    .dataframe tbody tr th:only-of-type {\n",
       "        vertical-align: middle;\n",
       "    }\n",
       "\n",
       "    .dataframe tbody tr th {\n",
       "        vertical-align: top;\n",
       "    }\n",
       "\n",
       "    .dataframe thead th {\n",
       "        text-align: right;\n",
       "    }\n",
       "</style>\n",
       "<table border=\"1\" class=\"dataframe\">\n",
       "  <thead>\n",
       "    <tr style=\"text-align: right;\">\n",
       "      <th></th>\n",
       "      <th>MinTemp</th>\n",
       "      <th>MaxTemp</th>\n",
       "      <th>Rainfall</th>\n",
       "      <th>Evaporation</th>\n",
       "      <th>Sunshine</th>\n",
       "      <th>WindGustSpeed</th>\n",
       "      <th>WindSpeed9am</th>\n",
       "      <th>WindSpeed3pm</th>\n",
       "      <th>Humidity9am</th>\n",
       "      <th>Humidity3pm</th>\n",
       "      <th>Pressure9am</th>\n",
       "      <th>Pressure3pm</th>\n",
       "      <th>Cloud9am</th>\n",
       "      <th>Cloud3pm</th>\n",
       "      <th>Temp9am</th>\n",
       "      <th>Temp3pm</th>\n",
       "    </tr>\n",
       "  </thead>\n",
       "  <tbody>\n",
       "    <tr>\n",
       "      <th>count</th>\n",
       "      <td>143975.000000</td>\n",
       "      <td>144199.000000</td>\n",
       "      <td>142199.000000</td>\n",
       "      <td>82670.000000</td>\n",
       "      <td>75625.000000</td>\n",
       "      <td>135197.000000</td>\n",
       "      <td>143693.000000</td>\n",
       "      <td>142398.000000</td>\n",
       "      <td>142806.000000</td>\n",
       "      <td>140953.000000</td>\n",
       "      <td>130395.00000</td>\n",
       "      <td>130432.000000</td>\n",
       "      <td>89572.000000</td>\n",
       "      <td>86102.000000</td>\n",
       "      <td>143693.000000</td>\n",
       "      <td>141851.00000</td>\n",
       "    </tr>\n",
       "    <tr>\n",
       "      <th>mean</th>\n",
       "      <td>12.194034</td>\n",
       "      <td>23.221348</td>\n",
       "      <td>2.360918</td>\n",
       "      <td>5.468232</td>\n",
       "      <td>7.611178</td>\n",
       "      <td>40.035230</td>\n",
       "      <td>14.043426</td>\n",
       "      <td>18.662657</td>\n",
       "      <td>68.880831</td>\n",
       "      <td>51.539116</td>\n",
       "      <td>1017.64994</td>\n",
       "      <td>1015.255889</td>\n",
       "      <td>4.447461</td>\n",
       "      <td>4.509930</td>\n",
       "      <td>16.990631</td>\n",
       "      <td>21.68339</td>\n",
       "    </tr>\n",
       "    <tr>\n",
       "      <th>std</th>\n",
       "      <td>6.398495</td>\n",
       "      <td>7.119049</td>\n",
       "      <td>8.478060</td>\n",
       "      <td>4.193704</td>\n",
       "      <td>3.785483</td>\n",
       "      <td>13.607062</td>\n",
       "      <td>8.915375</td>\n",
       "      <td>8.809800</td>\n",
       "      <td>19.029164</td>\n",
       "      <td>20.795902</td>\n",
       "      <td>7.10653</td>\n",
       "      <td>7.037414</td>\n",
       "      <td>2.887159</td>\n",
       "      <td>2.720357</td>\n",
       "      <td>6.488753</td>\n",
       "      <td>6.93665</td>\n",
       "    </tr>\n",
       "    <tr>\n",
       "      <th>min</th>\n",
       "      <td>-8.500000</td>\n",
       "      <td>-4.800000</td>\n",
       "      <td>0.000000</td>\n",
       "      <td>0.000000</td>\n",
       "      <td>0.000000</td>\n",
       "      <td>6.000000</td>\n",
       "      <td>0.000000</td>\n",
       "      <td>0.000000</td>\n",
       "      <td>0.000000</td>\n",
       "      <td>0.000000</td>\n",
       "      <td>980.50000</td>\n",
       "      <td>977.100000</td>\n",
       "      <td>0.000000</td>\n",
       "      <td>0.000000</td>\n",
       "      <td>-7.200000</td>\n",
       "      <td>-5.40000</td>\n",
       "    </tr>\n",
       "    <tr>\n",
       "      <th>25%</th>\n",
       "      <td>7.600000</td>\n",
       "      <td>17.900000</td>\n",
       "      <td>0.000000</td>\n",
       "      <td>2.600000</td>\n",
       "      <td>4.800000</td>\n",
       "      <td>31.000000</td>\n",
       "      <td>7.000000</td>\n",
       "      <td>13.000000</td>\n",
       "      <td>57.000000</td>\n",
       "      <td>37.000000</td>\n",
       "      <td>1012.90000</td>\n",
       "      <td>1010.400000</td>\n",
       "      <td>1.000000</td>\n",
       "      <td>2.000000</td>\n",
       "      <td>12.300000</td>\n",
       "      <td>16.60000</td>\n",
       "    </tr>\n",
       "    <tr>\n",
       "      <th>50%</th>\n",
       "      <td>12.000000</td>\n",
       "      <td>22.600000</td>\n",
       "      <td>0.000000</td>\n",
       "      <td>4.800000</td>\n",
       "      <td>8.400000</td>\n",
       "      <td>39.000000</td>\n",
       "      <td>13.000000</td>\n",
       "      <td>19.000000</td>\n",
       "      <td>70.000000</td>\n",
       "      <td>52.000000</td>\n",
       "      <td>1017.60000</td>\n",
       "      <td>1015.200000</td>\n",
       "      <td>5.000000</td>\n",
       "      <td>5.000000</td>\n",
       "      <td>16.700000</td>\n",
       "      <td>21.10000</td>\n",
       "    </tr>\n",
       "    <tr>\n",
       "      <th>75%</th>\n",
       "      <td>16.900000</td>\n",
       "      <td>28.200000</td>\n",
       "      <td>0.800000</td>\n",
       "      <td>7.400000</td>\n",
       "      <td>10.600000</td>\n",
       "      <td>48.000000</td>\n",
       "      <td>19.000000</td>\n",
       "      <td>24.000000</td>\n",
       "      <td>83.000000</td>\n",
       "      <td>66.000000</td>\n",
       "      <td>1022.40000</td>\n",
       "      <td>1020.000000</td>\n",
       "      <td>7.000000</td>\n",
       "      <td>7.000000</td>\n",
       "      <td>21.600000</td>\n",
       "      <td>26.40000</td>\n",
       "    </tr>\n",
       "    <tr>\n",
       "      <th>max</th>\n",
       "      <td>33.900000</td>\n",
       "      <td>48.100000</td>\n",
       "      <td>371.000000</td>\n",
       "      <td>145.000000</td>\n",
       "      <td>14.500000</td>\n",
       "      <td>135.000000</td>\n",
       "      <td>130.000000</td>\n",
       "      <td>87.000000</td>\n",
       "      <td>100.000000</td>\n",
       "      <td>100.000000</td>\n",
       "      <td>1041.00000</td>\n",
       "      <td>1039.600000</td>\n",
       "      <td>9.000000</td>\n",
       "      <td>9.000000</td>\n",
       "      <td>40.200000</td>\n",
       "      <td>46.70000</td>\n",
       "    </tr>\n",
       "  </tbody>\n",
       "</table>\n",
       "</div>"
      ],
      "text/plain": [
       "             MinTemp        MaxTemp       Rainfall   Evaporation  \\\n",
       "count  143975.000000  144199.000000  142199.000000  82670.000000   \n",
       "mean       12.194034      23.221348       2.360918      5.468232   \n",
       "std         6.398495       7.119049       8.478060      4.193704   \n",
       "min        -8.500000      -4.800000       0.000000      0.000000   \n",
       "25%         7.600000      17.900000       0.000000      2.600000   \n",
       "50%        12.000000      22.600000       0.000000      4.800000   \n",
       "75%        16.900000      28.200000       0.800000      7.400000   \n",
       "max        33.900000      48.100000     371.000000    145.000000   \n",
       "\n",
       "           Sunshine  WindGustSpeed   WindSpeed9am   WindSpeed3pm  \\\n",
       "count  75625.000000  135197.000000  143693.000000  142398.000000   \n",
       "mean       7.611178      40.035230      14.043426      18.662657   \n",
       "std        3.785483      13.607062       8.915375       8.809800   \n",
       "min        0.000000       6.000000       0.000000       0.000000   \n",
       "25%        4.800000      31.000000       7.000000      13.000000   \n",
       "50%        8.400000      39.000000      13.000000      19.000000   \n",
       "75%       10.600000      48.000000      19.000000      24.000000   \n",
       "max       14.500000     135.000000     130.000000      87.000000   \n",
       "\n",
       "         Humidity9am    Humidity3pm   Pressure9am    Pressure3pm  \\\n",
       "count  142806.000000  140953.000000  130395.00000  130432.000000   \n",
       "mean       68.880831      51.539116    1017.64994    1015.255889   \n",
       "std        19.029164      20.795902       7.10653       7.037414   \n",
       "min         0.000000       0.000000     980.50000     977.100000   \n",
       "25%        57.000000      37.000000    1012.90000    1010.400000   \n",
       "50%        70.000000      52.000000    1017.60000    1015.200000   \n",
       "75%        83.000000      66.000000    1022.40000    1020.000000   \n",
       "max       100.000000     100.000000    1041.00000    1039.600000   \n",
       "\n",
       "           Cloud9am      Cloud3pm        Temp9am       Temp3pm  \n",
       "count  89572.000000  86102.000000  143693.000000  141851.00000  \n",
       "mean       4.447461      4.509930      16.990631      21.68339  \n",
       "std        2.887159      2.720357       6.488753       6.93665  \n",
       "min        0.000000      0.000000      -7.200000      -5.40000  \n",
       "25%        1.000000      2.000000      12.300000      16.60000  \n",
       "50%        5.000000      5.000000      16.700000      21.10000  \n",
       "75%        7.000000      7.000000      21.600000      26.40000  \n",
       "max        9.000000      9.000000      40.200000      46.70000  "
      ]
     },
     "execution_count": 12,
     "metadata": {},
     "output_type": "execute_result"
    }
   ],
   "source": [
    "# Menghitung statistik deskriptif dari data dengan atribut numerik\n",
    "rainAus_df[numerical_columns].describe()"
   ]
  },
  {
   "cell_type": "markdown",
   "id": "77ab6fcd",
   "metadata": {},
   "source": [
    "### Mengetahui nilai unik setiap atribut bertipe kategorikal\n",
    "***\n",
    "Ini dilakukan untuk melihat apakah ada data yang diinput tidak dengan nilai yang seharusnya"
   ]
  },
  {
   "cell_type": "code",
   "execution_count": 13,
   "id": "1f045816",
   "metadata": {},
   "outputs": [
    {
     "name": "stdout",
     "output_type": "stream",
     "text": [
      "Nilai unik atribut DATE (3436 nilai)\n",
      "['2008-12-01' '2008-12-02' '2008-12-03' ... '2008-01-29' '2008-01-30'\n",
      " '2008-01-31']\n",
      "==============================\n",
      "Nilai unik atribut LOCATION (49 nilai)\n",
      "['Albury' 'BadgerysCreek' 'Cobar' 'CoffsHarbour' 'Moree' 'Newcastle'\n",
      " 'NorahHead' 'NorfolkIsland' 'Penrith' 'Richmond' 'Sydney' 'SydneyAirport'\n",
      " 'WaggaWagga' 'Williamtown' 'Wollongong' 'Canberra' 'Tuggeranong'\n",
      " 'MountGinini' 'Ballarat' 'Bendigo' 'Sale' 'MelbourneAirport' 'Melbourne'\n",
      " 'Mildura' 'Nhil' 'Portland' 'Watsonia' 'Dartmoor' 'Brisbane' 'Cairns'\n",
      " 'GoldCoast' 'Townsville' 'Adelaide' 'MountGambier' 'Nuriootpa' 'Woomera'\n",
      " 'Albany' 'Witchcliffe' 'PearceRAAF' 'PerthAirport' 'Perth' 'SalmonGums'\n",
      " 'Walpole' 'Hobart' 'Launceston' 'AliceSprings' 'Darwin' 'Katherine'\n",
      " 'Uluru']\n",
      "==============================\n",
      "Nilai unik atribut WINDGUSTDIR (16 nilai)\n",
      "['W' 'WNW' 'WSW' 'NE' 'NNW' 'N' 'NNE' 'SW' nan 'ENE' 'SSE' 'S' 'NW' 'SE'\n",
      " 'ESE' 'E' 'SSW']\n",
      "==============================\n",
      "Nilai unik atribut WINDDIR9AM (16 nilai)\n",
      "['W' 'NNW' 'SE' 'ENE' 'SW' 'SSE' 'S' 'NE' nan 'SSW' 'N' 'WSW' 'ESE' 'E'\n",
      " 'NW' 'WNW' 'NNE']\n",
      "==============================\n",
      "Nilai unik atribut WINDDIR3PM (16 nilai)\n",
      "['WNW' 'WSW' 'E' 'NW' 'W' 'SSE' 'ESE' 'ENE' 'NNW' 'SSW' 'SW' 'SE' 'N' 'S'\n",
      " 'NNE' nan 'NE']\n",
      "==============================\n",
      "Nilai unik atribut RAINTODAY (2 nilai)\n",
      "['No' 'Yes' nan]\n",
      "==============================\n",
      "Nilai unik atribut RAINTOMORROW (2 nilai)\n",
      "['No' 'Yes' nan]\n",
      "==============================\n"
     ]
    }
   ],
   "source": [
    "# mencetak nilai unik yang terdapat pada setiap atribut yang bertipe categorical\n",
    "for cat_col in categorical_columns:\n",
    "    print(\"Nilai unik atribut {} ({} nilai)\".format(cat_col.upper(),rainAus_df[cat_col].nunique()))\n",
    "    print(rainAus_df[cat_col].unique())\n",
    "    print(\"=\"*30)"
   ]
  },
  {
   "cell_type": "markdown",
   "id": "ce8f22d9",
   "metadata": {},
   "source": [
    "### Mengetahui nilai unik setiap atribut bertipe numerikal\n",
    "***\n",
    "Ini dilakukan untuk melihat apakah ada data yang diinput tidak dengan nilai yang seharusnya"
   ]
  },
  {
   "cell_type": "code",
   "execution_count": 14,
   "id": "b25c4bdf",
   "metadata": {},
   "outputs": [
    {
     "name": "stdout",
     "output_type": "stream",
     "text": [
      "Nilai unik atribut MINTEMP (389 nilai)\n",
      "[-8.5 -8.2 -8.  -7.8 -7.6 -7.5 -7.3 -7.2 -7.1 -7.  -6.9 -6.8 -6.7 -6.6\n",
      " -6.5 -6.4 -6.3 -6.2 -6.1 -6.  -5.9 -5.8 -5.7 -5.6 -5.5 -5.4 -5.3 -5.2\n",
      " -5.1 -5.  -4.9 -4.8 -4.7 -4.6 -4.5 -4.4 -4.3 -4.2 -4.1 -4.  -3.9 -3.8\n",
      " -3.7 -3.6 -3.5 -3.4 -3.3 -3.2 -3.1 -3.  -2.9 -2.8 -2.7 -2.6 -2.5 -2.4\n",
      " -2.3 -2.2 -2.1 -2.  -1.9 -1.8 -1.7 -1.6 -1.5 -1.4 -1.3 -1.2 -1.1 -1.\n",
      " -0.9 -0.8 -0.7 -0.6 -0.5 -0.4 -0.3 -0.2 -0.1  0.   0.1  0.2  0.3  0.4\n",
      "  0.5  0.6  0.7  0.8  0.9  1.   1.1  1.2  1.3  1.4  1.5  1.6  1.7  1.8\n",
      "  1.9  2.   2.1  2.2  2.3  2.4  2.5  2.6  2.7  2.8  2.9  3.   3.1  3.2\n",
      "  3.3  3.4  3.5  3.6  3.7  3.8  3.9  4.   4.1  4.2  4.3  4.4  4.5  4.6\n",
      "  4.7  4.8  4.9  5.   5.1  5.2  5.3  5.4  5.5  5.6  5.7  5.8  5.9  6.\n",
      "  6.1  6.2  6.3  6.4  6.5  6.6  6.7  6.8  6.9  7.   7.1  7.2  7.3  7.4\n",
      "  7.5  7.6  7.7  7.8  7.9  8.   8.1  8.2  8.3  8.4  8.5  8.6  8.7  8.8\n",
      "  8.9  9.   9.1  9.2  9.3  9.4  9.5  9.6  9.7  9.8  9.9 10.  10.1 10.2\n",
      " 10.3 10.4 10.5 10.6 10.7 10.8 10.9 11.  11.1 11.2 11.3 11.4 11.5 11.6\n",
      " 11.7 11.8 11.9 12.  12.1 12.2 12.3 12.4 12.5 12.6 12.7 12.8 12.9 13.\n",
      " 13.1 13.2 13.3 13.4 13.5 13.6 13.7 13.8 13.9 14.  14.1 14.2 14.3 14.4\n",
      " 14.5 14.6 14.7 14.8 14.9 15.  15.1 15.2 15.3 15.4 15.5 15.6 15.7 15.8\n",
      " 15.9 16.  16.1 16.2 16.3 16.4 16.5 16.6 16.7 16.8 16.9 17.  17.1 17.2\n",
      " 17.3 17.4 17.5 17.6 17.7 17.8 17.9 18.  18.1 18.2 18.3 18.4 18.5 18.6\n",
      " 18.7 18.8 18.9 19.  19.1 19.2 19.3 19.4 19.5 19.6 19.7 19.8 19.9 20.\n",
      " 20.1 20.2 20.3 20.4 20.5 20.6 20.7 20.8 20.9 21.  21.1 21.2 21.3 21.4\n",
      " 21.5 21.6 21.7 21.8 21.9 22.  22.1 22.2 22.3 22.4 22.5 22.6 22.7 22.8\n",
      " 22.9 23.  23.1 23.2 23.3 23.4 23.5 23.6 23.7 23.8 23.9 24.  24.1 24.2\n",
      " 24.3 24.4 24.5 24.6 24.7 24.8 24.9 25.  25.1 25.2 25.3 25.4 25.5 25.6\n",
      " 25.7 25.8 25.9 26.  26.1 26.2 26.3 26.4 26.5 26.6 26.7 26.8 26.9 27.\n",
      " 27.1 27.2 27.3 27.4 27.5 27.6 27.7 27.8 27.9 28.  28.1 28.2 28.3 28.4\n",
      " 28.5 28.6 28.7 28.8 28.9 29.  29.1 29.2 29.3 29.4 29.5 29.6 29.7 29.8\n",
      " 29.9 30.2 30.3 30.5 30.7 31.  31.2 31.4 31.8 31.9 33.9  nan]\n",
      "==============================\n",
      "Nilai unik atribut MAXTEMP (505 nilai)\n",
      "[-4.8 -4.1 -3.8 -3.7 -3.2 -3.1 -3.  -2.9 -2.7 -2.5 -2.4 -2.3 -2.2 -2.1\n",
      " -2.  -1.9 -1.8 -1.7 -1.5 -1.4 -1.3 -1.2 -1.1 -1.  -0.9 -0.8 -0.7 -0.6\n",
      " -0.5 -0.4 -0.3 -0.2 -0.1  0.   0.1  0.2  0.3  0.4  0.5  0.6  0.7  0.8\n",
      "  0.9  1.   1.1  1.2  1.3  1.4  1.5  1.6  1.7  1.8  1.9  2.   2.1  2.2\n",
      "  2.3  2.4  2.5  2.6  2.7  2.8  2.9  3.   3.1  3.2  3.3  3.4  3.5  3.6\n",
      "  3.7  3.8  3.9  4.   4.1  4.2  4.3  4.4  4.5  4.6  4.7  4.8  4.9  5.\n",
      "  5.1  5.2  5.3  5.4  5.5  5.6  5.7  5.8  5.9  6.   6.1  6.2  6.3  6.4\n",
      "  6.5  6.6  6.7  6.8  6.9  7.   7.1  7.2  7.3  7.4  7.5  7.6  7.7  7.8\n",
      "  7.9  8.   8.1  8.2  8.3  8.4  8.5  8.6  8.7  8.8  8.9  9.   9.1  9.2\n",
      "  9.3  9.4  9.5  9.6  9.7  9.8  9.9 10.  10.1 10.2 10.3 10.4 10.5 10.6\n",
      " 10.7 10.8 10.9 11.  11.1 11.2 11.3 11.4 11.5 11.6 11.7 11.8 11.9 12.\n",
      " 12.1 12.2 12.3 12.4 12.5 12.6 12.7 12.8 12.9 13.  13.1 13.2 13.3 13.4\n",
      " 13.5 13.6 13.7 13.8 13.9 14.  14.1 14.2 14.3 14.4 14.5 14.6 14.7 14.8\n",
      " 14.9 15.  15.1 15.2 15.3 15.4 15.5 15.6 15.7 15.8 15.9 16.  16.1 16.2\n",
      " 16.3 16.4 16.5 16.6 16.7 16.8 16.9 17.  17.1 17.2 17.3 17.4 17.5 17.6\n",
      " 17.7 17.8 17.9 18.  18.1 18.2 18.3 18.4 18.5 18.6 18.7 18.8 18.9 19.\n",
      " 19.1 19.2 19.3 19.4 19.5 19.6 19.7 19.8 19.9 20.  20.1 20.2 20.3 20.4\n",
      " 20.5 20.6 20.7 20.8 20.9 21.  21.1 21.2 21.3 21.4 21.5 21.6 21.7 21.8\n",
      " 21.9 22.  22.1 22.2 22.3 22.4 22.5 22.6 22.7 22.8 22.9 23.  23.1 23.2\n",
      " 23.3 23.4 23.5 23.6 23.7 23.8 23.9 24.  24.1 24.2 24.3 24.4 24.5 24.6\n",
      " 24.7 24.8 24.9 25.  25.1 25.2 25.3 25.4 25.5 25.6 25.7 25.8 25.9 26.\n",
      " 26.1 26.2 26.3 26.4 26.5 26.6 26.7 26.8 26.9 27.  27.1 27.2 27.3 27.4\n",
      " 27.5 27.6 27.7 27.8 27.9 28.  28.1 28.2 28.3 28.4 28.5 28.6 28.7 28.8\n",
      " 28.9 29.  29.1 29.2 29.3 29.4 29.5 29.6 29.7 29.8 29.9 30.  30.1 30.2\n",
      " 30.3 30.4 30.5 30.6 30.7 30.8 30.9 31.  31.1 31.2 31.3 31.4 31.5 31.6\n",
      " 31.7 31.8 31.9 32.  32.1 32.2 32.3 32.4 32.5 32.6 32.7 32.8 32.9 33.\n",
      " 33.1 33.2 33.3 33.4 33.5 33.6 33.7 33.8 33.9 34.  34.1 34.2 34.3 34.4\n",
      " 34.5 34.6 34.7 34.8 34.9 35.  35.1 35.2 35.3 35.4 35.5 35.6 35.7 35.8\n",
      " 35.9 36.  36.1 36.2 36.3 36.4 36.5 36.6 36.7 36.8 36.9 37.  37.1 37.2\n",
      " 37.3 37.4 37.5 37.6 37.7 37.8 37.9 38.  38.1 38.2 38.3 38.4 38.5 38.6\n",
      " 38.7 38.8 38.9 39.  39.1 39.2 39.3 39.4 39.5 39.6 39.7 39.8 39.9 40.\n",
      " 40.1 40.2 40.3 40.4 40.5 40.6 40.7 40.8 40.9 41.  41.1 41.2 41.3 41.4\n",
      " 41.5 41.6 41.7 41.8 41.9 42.  42.1 42.2 42.3 42.4 42.5 42.6 42.7 42.8\n",
      " 42.9 43.  43.1 43.2 43.3 43.4 43.5 43.6 43.7 43.8 43.9 44.  44.1 44.2\n",
      " 44.3 44.4 44.5 44.6 44.7 44.8 44.9 45.  45.1 45.2 45.3 45.4 45.5 45.6\n",
      " 45.7 45.8 46.  46.1 46.2 46.3 46.4 46.5 46.6 46.7 46.8 46.9 47.  47.3\n",
      " 48.1  nan]\n",
      "==============================\n",
      "Nilai unik atribut RAINFALL (681 nilai)\n",
      "[0.000e+00 1.000e-01 2.000e-01 3.000e-01 4.000e-01 5.000e-01 6.000e-01\n",
      " 7.000e-01 8.000e-01 9.000e-01 1.000e+00 1.100e+00 1.200e+00 1.300e+00\n",
      " 1.400e+00 1.500e+00 1.600e+00 1.700e+00 1.800e+00 1.900e+00 2.000e+00\n",
      " 2.100e+00 2.200e+00 2.300e+00 2.400e+00 2.500e+00 2.600e+00 2.700e+00\n",
      " 2.800e+00 2.900e+00 3.000e+00 3.100e+00 3.200e+00 3.300e+00 3.400e+00\n",
      " 3.500e+00 3.600e+00 3.800e+00 3.900e+00 4.000e+00 4.100e+00 4.200e+00\n",
      " 4.400e+00 4.500e+00 4.600e+00 4.700e+00 4.800e+00 4.900e+00 5.000e+00\n",
      " 5.200e+00 5.300e+00 5.400e+00 5.500e+00 5.600e+00 5.700e+00 5.800e+00\n",
      " 5.900e+00 6.000e+00 6.100e+00 6.200e+00 6.300e+00 6.400e+00 6.500e+00\n",
      " 6.600e+00 6.700e+00 6.800e+00 6.900e+00 7.000e+00 7.100e+00 7.200e+00\n",
      " 7.300e+00 7.400e+00 7.500e+00 7.600e+00 7.800e+00 7.900e+00 8.000e+00\n",
      " 8.200e+00 8.400e+00 8.500e+00 8.600e+00 8.700e+00 8.800e+00 8.900e+00\n",
      " 9.000e+00 9.100e+00 9.200e+00 9.400e+00 9.500e+00 9.600e+00 9.800e+00\n",
      " 9.900e+00 1.000e+01 1.010e+01 1.020e+01 1.040e+01 1.050e+01 1.060e+01\n",
      " 1.070e+01 1.080e+01 1.090e+01 1.100e+01 1.110e+01 1.120e+01 1.140e+01\n",
      " 1.150e+01 1.160e+01 1.170e+01 1.180e+01 1.190e+01 1.200e+01 1.210e+01\n",
      " 1.220e+01 1.230e+01 1.240e+01 1.250e+01 1.260e+01 1.270e+01 1.280e+01\n",
      " 1.300e+01 1.310e+01 1.320e+01 1.330e+01 1.340e+01 1.360e+01 1.380e+01\n",
      " 1.390e+01 1.400e+01 1.420e+01 1.440e+01 1.450e+01 1.460e+01 1.480e+01\n",
      " 1.500e+01 1.520e+01 1.540e+01 1.550e+01 1.560e+01 1.570e+01 1.580e+01\n",
      " 1.590e+01 1.600e+01 1.620e+01 1.640e+01 1.660e+01 1.680e+01 1.700e+01\n",
      " 1.720e+01 1.740e+01 1.750e+01 1.760e+01 1.780e+01 1.800e+01 1.810e+01\n",
      " 1.820e+01 1.840e+01 1.850e+01 1.860e+01 1.880e+01 1.900e+01 1.920e+01\n",
      " 1.940e+01 1.960e+01 1.970e+01 1.980e+01 2.000e+01 2.020e+01 2.040e+01\n",
      " 2.060e+01 2.070e+01 2.080e+01 2.090e+01 2.100e+01 2.120e+01 2.140e+01\n",
      " 2.150e+01 2.160e+01 2.180e+01 2.200e+01 2.220e+01 2.240e+01 2.250e+01\n",
      " 2.260e+01 2.270e+01 2.280e+01 2.290e+01 2.300e+01 2.320e+01 2.340e+01\n",
      " 2.360e+01 2.370e+01 2.380e+01 2.390e+01 2.400e+01 2.420e+01 2.440e+01\n",
      " 2.460e+01 2.480e+01 2.500e+01 2.520e+01 2.530e+01 2.540e+01 2.560e+01\n",
      " 2.580e+01 2.600e+01 2.620e+01 2.640e+01 2.650e+01 2.660e+01 2.680e+01\n",
      " 2.700e+01 2.720e+01 2.740e+01 2.760e+01 2.780e+01 2.800e+01 2.820e+01\n",
      " 2.840e+01 2.860e+01 2.880e+01 2.900e+01 2.910e+01 2.920e+01 2.930e+01\n",
      " 2.940e+01 2.950e+01 2.960e+01 2.980e+01 2.990e+01 3.000e+01 3.020e+01\n",
      " 3.040e+01 3.060e+01 3.070e+01 3.080e+01 3.100e+01 3.110e+01 3.120e+01\n",
      " 3.140e+01 3.160e+01 3.180e+01 3.200e+01 3.220e+01 3.240e+01 3.250e+01\n",
      " 3.260e+01 3.270e+01 3.280e+01 3.300e+01 3.320e+01 3.340e+01 3.360e+01\n",
      " 3.380e+01 3.390e+01 3.400e+01 3.420e+01 3.430e+01 3.440e+01 3.460e+01\n",
      " 3.480e+01 3.500e+01 3.520e+01 3.540e+01 3.560e+01 3.580e+01 3.600e+01\n",
      " 3.620e+01 3.640e+01 3.660e+01 3.680e+01 3.700e+01 3.720e+01 3.740e+01\n",
      " 3.760e+01 3.780e+01 3.790e+01 3.800e+01 3.820e+01 3.840e+01 3.860e+01\n",
      " 3.880e+01 3.900e+01 3.920e+01 3.940e+01 3.960e+01 3.980e+01 3.990e+01\n",
      " 4.000e+01 4.020e+01 4.040e+01 4.060e+01 4.080e+01 4.100e+01 4.120e+01\n",
      " 4.140e+01 4.150e+01 4.160e+01 4.180e+01 4.200e+01 4.220e+01 4.240e+01\n",
      " 4.260e+01 4.280e+01 4.300e+01 4.320e+01 4.340e+01 4.360e+01 4.380e+01\n",
      " 4.400e+01 4.420e+01 4.440e+01 4.460e+01 4.480e+01 4.500e+01 4.520e+01\n",
      " 4.540e+01 4.550e+01 4.560e+01 4.580e+01 4.600e+01 4.620e+01 4.640e+01\n",
      " 4.660e+01 4.680e+01 4.700e+01 4.720e+01 4.730e+01 4.740e+01 4.760e+01\n",
      " 4.780e+01 4.800e+01 4.820e+01 4.840e+01 4.860e+01 4.880e+01 4.900e+01\n",
      " 4.920e+01 4.940e+01 4.960e+01 4.980e+01 5.000e+01 5.020e+01 5.040e+01\n",
      " 5.060e+01 5.080e+01 5.100e+01 5.120e+01 5.140e+01 5.160e+01 5.180e+01\n",
      " 5.200e+01 5.220e+01 5.240e+01 5.260e+01 5.280e+01 5.300e+01 5.320e+01\n",
      " 5.340e+01 5.360e+01 5.380e+01 5.400e+01 5.420e+01 5.440e+01 5.460e+01\n",
      " 5.480e+01 5.500e+01 5.520e+01 5.540e+01 5.560e+01 5.580e+01 5.600e+01\n",
      " 5.620e+01 5.640e+01 5.660e+01 5.680e+01 5.700e+01 5.740e+01 5.760e+01\n",
      " 5.780e+01 5.800e+01 5.820e+01 5.840e+01 5.860e+01 5.880e+01 5.900e+01\n",
      " 5.920e+01 5.940e+01 5.960e+01 5.980e+01 6.000e+01 6.020e+01 6.040e+01\n",
      " 6.060e+01 6.080e+01 6.100e+01 6.120e+01 6.140e+01 6.160e+01 6.180e+01\n",
      " 6.200e+01 6.220e+01 6.240e+01 6.260e+01 6.280e+01 6.300e+01 6.320e+01\n",
      " 6.340e+01 6.360e+01 6.380e+01 6.400e+01 6.410e+01 6.420e+01 6.440e+01\n",
      " 6.460e+01 6.480e+01 6.500e+01 6.520e+01 6.540e+01 6.560e+01 6.580e+01\n",
      " 6.600e+01 6.620e+01 6.640e+01 6.700e+01 6.760e+01 6.780e+01 6.800e+01\n",
      " 6.820e+01 6.840e+01 6.860e+01 6.880e+01 6.900e+01 6.920e+01 6.940e+01\n",
      " 6.950e+01 6.960e+01 6.980e+01 7.000e+01 7.020e+01 7.040e+01 7.060e+01\n",
      " 7.080e+01 7.100e+01 7.120e+01 7.140e+01 7.160e+01 7.180e+01 7.200e+01\n",
      " 7.220e+01 7.260e+01 7.280e+01 7.300e+01 7.320e+01 7.340e+01 7.360e+01\n",
      " 7.380e+01 7.400e+01 7.420e+01 7.440e+01 7.460e+01 7.480e+01 7.500e+01\n",
      " 7.520e+01 7.560e+01 7.580e+01 7.600e+01 7.620e+01 7.640e+01 7.660e+01\n",
      " 7.680e+01 7.720e+01 7.740e+01 7.760e+01 7.780e+01 7.800e+01 7.820e+01\n",
      " 7.840e+01 7.860e+01 7.880e+01 7.900e+01 7.920e+01 7.940e+01 7.960e+01\n",
      " 7.980e+01 8.020e+01 8.040e+01 8.060e+01 8.080e+01 8.100e+01 8.120e+01\n",
      " 8.140e+01 8.160e+01 8.180e+01 8.220e+01 8.240e+01 8.260e+01 8.280e+01\n",
      " 8.300e+01 8.320e+01 8.340e+01 8.360e+01 8.380e+01 8.400e+01 8.420e+01\n",
      " 8.440e+01 8.460e+01 8.480e+01 8.500e+01 8.540e+01 8.560e+01 8.620e+01\n",
      " 8.640e+01 8.680e+01 8.700e+01 8.740e+01 8.760e+01 8.780e+01 8.800e+01\n",
      " 8.820e+01 8.860e+01 8.900e+01 8.920e+01 8.940e+01 8.980e+01 9.000e+01\n",
      " 9.040e+01 9.060e+01 9.100e+01 9.140e+01 9.160e+01 9.220e+01 9.260e+01\n",
      " 9.280e+01 9.300e+01 9.320e+01 9.340e+01 9.360e+01 9.380e+01 9.400e+01\n",
      " 9.440e+01 9.500e+01 9.520e+01 9.560e+01 9.580e+01 9.600e+01 9.610e+01\n",
      " 9.640e+01 9.680e+01 9.700e+01 9.720e+01 9.800e+01 9.820e+01 9.920e+01\n",
      " 9.940e+01 1.002e+02 1.004e+02 1.018e+02 1.020e+02 1.022e+02 1.034e+02\n",
      " 1.042e+02 1.046e+02 1.048e+02 1.050e+02 1.052e+02 1.054e+02 1.056e+02\n",
      " 1.058e+02 1.060e+02 1.062e+02 1.064e+02 1.068e+02 1.074e+02 1.076e+02\n",
      " 1.082e+02 1.090e+02 1.092e+02 1.094e+02 1.096e+02 1.098e+02 1.106e+02\n",
      " 1.108e+02 1.110e+02 1.112e+02 1.118e+02 1.120e+02 1.122e+02 1.130e+02\n",
      " 1.134e+02 1.138e+02 1.144e+02 1.150e+02 1.152e+02 1.154e+02 1.158e+02\n",
      " 1.160e+02 1.176e+02 1.180e+02 1.182e+02 1.186e+02 1.194e+02 1.202e+02\n",
      " 1.208e+02 1.214e+02 1.216e+02 1.226e+02 1.228e+02 1.248e+02 1.260e+02\n",
      " 1.264e+02 1.276e+02 1.280e+02 1.282e+02 1.284e+02 1.290e+02 1.294e+02\n",
      " 1.314e+02 1.325e+02 1.326e+02 1.348e+02 1.364e+02 1.366e+02 1.390e+02\n",
      " 1.402e+02 1.412e+02 1.418e+02 1.422e+02 1.428e+02 1.438e+02 1.442e+02\n",
      " 1.450e+02 1.452e+02 1.456e+02 1.472e+02 1.478e+02 1.486e+02 1.502e+02\n",
      " 1.532e+02 1.550e+02 1.558e+02 1.560e+02 1.568e+02 1.576e+02 1.578e+02\n",
      " 1.580e+02 1.598e+02 1.616e+02 1.622e+02 1.642e+02 1.646e+02 1.652e+02\n",
      " 1.668e+02 1.670e+02 1.684e+02 1.704e+02 1.722e+02 1.746e+02 1.752e+02\n",
      " 1.776e+02 1.782e+02 1.822e+02 1.826e+02 1.830e+02 1.834e+02 1.846e+02\n",
      " 1.890e+02 1.920e+02 2.062e+02 2.068e+02 2.085e+02 2.106e+02 2.163e+02\n",
      " 2.196e+02 2.250e+02 2.368e+02 2.400e+02 2.472e+02 2.686e+02 2.784e+02\n",
      " 3.676e+02 3.710e+02       nan]\n",
      "==============================\n",
      "Nilai unik atribut EVAPORATION (358 nilai)\n",
      "[0.00e+00 1.00e-01 2.00e-01 3.00e-01 4.00e-01 5.00e-01 6.00e-01 7.00e-01\n",
      " 8.00e-01 9.00e-01 1.00e+00 1.10e+00 1.20e+00 1.30e+00 1.40e+00 1.50e+00\n",
      " 1.60e+00 1.70e+00 1.80e+00 1.90e+00 2.00e+00 2.10e+00 2.20e+00 2.30e+00\n",
      " 2.40e+00 2.50e+00 2.60e+00 2.70e+00 2.80e+00 2.90e+00 3.00e+00 3.10e+00\n",
      " 3.20e+00 3.30e+00 3.40e+00 3.50e+00 3.60e+00 3.70e+00 3.80e+00 3.90e+00\n",
      " 4.00e+00 4.10e+00 4.20e+00 4.30e+00 4.40e+00 4.50e+00 4.60e+00 4.70e+00\n",
      " 4.80e+00 4.90e+00 5.00e+00 5.10e+00 5.20e+00 5.30e+00 5.40e+00 5.50e+00\n",
      " 5.60e+00 5.70e+00 5.80e+00 5.90e+00 6.00e+00 6.10e+00 6.20e+00 6.30e+00\n",
      " 6.40e+00 6.50e+00 6.60e+00 6.70e+00 6.80e+00 6.90e+00 7.00e+00 7.10e+00\n",
      " 7.20e+00 7.30e+00 7.40e+00 7.50e+00 7.60e+00 7.70e+00 7.80e+00 7.90e+00\n",
      " 8.00e+00 8.10e+00 8.20e+00 8.30e+00 8.40e+00 8.50e+00 8.60e+00 8.70e+00\n",
      " 8.80e+00 8.90e+00 9.00e+00 9.10e+00 9.20e+00 9.30e+00 9.40e+00 9.50e+00\n",
      " 9.60e+00 9.70e+00 9.80e+00 9.90e+00 1.00e+01 1.01e+01 1.02e+01 1.03e+01\n",
      " 1.04e+01 1.05e+01 1.06e+01 1.07e+01 1.08e+01 1.09e+01 1.10e+01 1.11e+01\n",
      " 1.12e+01 1.13e+01 1.14e+01 1.15e+01 1.16e+01 1.17e+01 1.18e+01 1.19e+01\n",
      " 1.20e+01 1.21e+01 1.22e+01 1.23e+01 1.24e+01 1.25e+01 1.26e+01 1.27e+01\n",
      " 1.28e+01 1.30e+01 1.31e+01 1.32e+01 1.33e+01 1.34e+01 1.35e+01 1.36e+01\n",
      " 1.38e+01 1.39e+01 1.40e+01 1.41e+01 1.42e+01 1.43e+01 1.44e+01 1.45e+01\n",
      " 1.46e+01 1.47e+01 1.48e+01 1.49e+01 1.50e+01 1.51e+01 1.52e+01 1.53e+01\n",
      " 1.54e+01 1.56e+01 1.58e+01 1.60e+01 1.62e+01 1.64e+01 1.65e+01 1.66e+01\n",
      " 1.68e+01 1.70e+01 1.71e+01 1.72e+01 1.74e+01 1.76e+01 1.77e+01 1.78e+01\n",
      " 1.80e+01 1.81e+01 1.82e+01 1.84e+01 1.86e+01 1.88e+01 1.90e+01 1.91e+01\n",
      " 1.92e+01 1.93e+01 1.94e+01 1.96e+01 1.97e+01 1.98e+01 2.00e+01 2.02e+01\n",
      " 2.04e+01 2.05e+01 2.06e+01 2.08e+01 2.10e+01 2.12e+01 2.14e+01 2.16e+01\n",
      " 2.18e+01 2.20e+01 2.21e+01 2.22e+01 2.24e+01 2.25e+01 2.26e+01 2.28e+01\n",
      " 2.30e+01 2.31e+01 2.32e+01 2.33e+01 2.34e+01 2.36e+01 2.38e+01 2.40e+01\n",
      " 2.42e+01 2.44e+01 2.46e+01 2.48e+01 2.50e+01 2.51e+01 2.52e+01 2.54e+01\n",
      " 2.55e+01 2.56e+01 2.58e+01 2.60e+01 2.62e+01 2.64e+01 2.66e+01 2.68e+01\n",
      " 2.70e+01 2.72e+01 2.74e+01 2.76e+01 2.78e+01 2.80e+01 2.82e+01 2.84e+01\n",
      " 2.86e+01 2.88e+01 2.92e+01 2.94e+01 2.98e+01 3.00e+01 3.02e+01 3.04e+01\n",
      " 3.06e+01 3.08e+01 3.10e+01 3.12e+01 3.14e+01 3.16e+01 3.20e+01 3.22e+01\n",
      " 3.24e+01 3.26e+01 3.28e+01 3.30e+01 3.32e+01 3.34e+01 3.36e+01 3.38e+01\n",
      " 3.40e+01 3.42e+01 3.44e+01 3.45e+01 3.46e+01 3.50e+01 3.52e+01 3.54e+01\n",
      " 3.56e+01 3.58e+01 3.60e+01 3.62e+01 3.64e+01 3.66e+01 3.68e+01 3.70e+01\n",
      " 3.72e+01 3.74e+01 3.76e+01 3.80e+01 3.84e+01 3.86e+01 3.88e+01 3.92e+01\n",
      " 3.94e+01 3.96e+01 4.00e+01 4.04e+01 4.06e+01 4.08e+01 4.12e+01 4.16e+01\n",
      " 4.18e+01 4.20e+01 4.22e+01 4.23e+01 4.24e+01 4.26e+01 4.28e+01 4.30e+01\n",
      " 4.32e+01 4.34e+01 4.36e+01 4.40e+01 4.42e+01 4.44e+01 4.62e+01 4.66e+01\n",
      " 4.68e+01 4.70e+01 4.72e+01 4.80e+01 4.84e+01 4.88e+01 4.94e+01 5.02e+01\n",
      " 5.04e+01 5.08e+01 5.10e+01 5.16e+01 5.24e+01 5.36e+01 5.40e+01 5.48e+01\n",
      " 5.50e+01 5.52e+01 5.54e+01 5.56e+01 5.58e+01 5.60e+01 5.62e+01 5.64e+01\n",
      " 5.66e+01 5.72e+01 5.76e+01 5.80e+01 5.85e+01 5.90e+01 5.92e+01 5.94e+01\n",
      " 5.96e+01 5.98e+01 6.02e+01 6.08e+01 6.20e+01 6.30e+01 6.40e+01 6.44e+01\n",
      " 6.48e+01 6.54e+01 6.58e+01 6.72e+01 6.88e+01 7.00e+01 7.04e+01 7.22e+01\n",
      " 7.48e+01 7.73e+01 8.12e+01 8.24e+01 8.62e+01 1.45e+02      nan]\n",
      "==============================\n",
      "Nilai unik atribut SUNSHINE (145 nilai)\n",
      "[ 0.   0.1  0.2  0.3  0.4  0.5  0.6  0.7  0.8  0.9  1.   1.1  1.2  1.3\n",
      "  1.4  1.5  1.6  1.7  1.8  1.9  2.   2.1  2.2  2.3  2.4  2.5  2.6  2.7\n",
      "  2.8  2.9  3.   3.1  3.2  3.3  3.4  3.5  3.6  3.7  3.8  3.9  4.   4.1\n",
      "  4.2  4.3  4.4  4.5  4.6  4.7  4.8  4.9  5.   5.1  5.2  5.3  5.4  5.5\n",
      "  5.6  5.7  5.8  5.9  6.   6.1  6.2  6.3  6.4  6.5  6.6  6.7  6.8  6.9\n",
      "  7.   7.1  7.2  7.3  7.4  7.5  7.6  7.7  7.8  7.9  8.   8.1  8.2  8.3\n",
      "  8.4  8.5  8.6  8.7  8.8  8.9  9.   9.1  9.2  9.3  9.4  9.5  9.6  9.7\n",
      "  9.8  9.9 10.  10.1 10.2 10.3 10.4 10.5 10.6 10.7 10.8 10.9 11.  11.1\n",
      " 11.2 11.3 11.4 11.5 11.6 11.7 11.8 11.9 12.  12.1 12.2 12.3 12.4 12.5\n",
      " 12.6 12.7 12.8 12.9 13.  13.1 13.2 13.3 13.4 13.5 13.6 13.7 13.8 13.9\n",
      " 14.  14.1 14.2 14.3 14.5  nan]\n",
      "==============================\n",
      "Nilai unik atribut WINDGUSTSPEED (67 nilai)\n",
      "[  6.   7.   9.  11.  13.  15.  17.  19.  20.  22.  24.  26.  28.  30.\n",
      "  31.  33.  35.  37.  39.  41.  43.  44.  46.  48.  50.  52.  54.  56.\n",
      "  57.  59.  61.  63.  65.  67.  69.  70.  72.  74.  76.  78.  80.  81.\n",
      "  83.  85.  87.  89.  91.  93.  94.  96.  98. 100. 102. 104. 106. 107.\n",
      " 109. 111. 113. 115. 117. 120. 122. 124. 126. 130. 135.  nan]\n",
      "==============================\n",
      "Nilai unik atribut WINDSPEED9AM (43 nilai)\n",
      "[  0.   2.   4.   6.   7.   9.  11.  13.  15.  17.  19.  20.  22.  24.\n",
      "  26.  28.  30.  31.  33.  35.  37.  39.  41.  43.  44.  46.  48.  50.\n",
      "  52.  54.  56.  57.  59.  61.  63.  65.  67.  69.  72.  74.  83.  87.\n",
      " 130.  nan]\n",
      "==============================\n",
      "Nilai unik atribut WINDSPEED3PM (44 nilai)\n",
      "[ 0.  2.  4.  6.  7.  9. 11. 13. 15. 17. 19. 20. 22. 24. 26. 28. 30. 31.\n",
      " 33. 35. 37. 39. 41. 43. 44. 46. 48. 50. 52. 54. 56. 57. 59. 61. 63. 65.\n",
      " 67. 69. 72. 74. 76. 78. 83. 87. nan]\n",
      "==============================\n",
      "Nilai unik atribut HUMIDITY9AM (101 nilai)\n",
      "[  0.   1.   2.   3.   4.   5.   6.   7.   8.   9.  10.  11.  12.  13.\n",
      "  14.  15.  16.  17.  18.  19.  20.  21.  22.  23.  24.  25.  26.  27.\n",
      "  28.  29.  30.  31.  32.  33.  34.  35.  36.  37.  38.  39.  40.  41.\n",
      "  42.  43.  44.  45.  46.  47.  48.  49.  50.  51.  52.  53.  54.  55.\n",
      "  56.  57.  58.  59.  60.  61.  62.  63.  64.  65.  66.  67.  68.  69.\n",
      "  70.  71.  72.  73.  74.  75.  76.  77.  78.  79.  80.  81.  82.  83.\n",
      "  84.  85.  86.  87.  88.  89.  90.  91.  92.  93.  94.  95.  96.  97.\n",
      "  98.  99. 100.  nan]\n",
      "==============================\n",
      "Nilai unik atribut HUMIDITY3PM (101 nilai)\n",
      "[  0.   1.   2.   3.   4.   5.   6.   7.   8.   9.  10.  11.  12.  13.\n",
      "  14.  15.  16.  17.  18.  19.  20.  21.  22.  23.  24.  25.  26.  27.\n",
      "  28.  29.  30.  31.  32.  33.  34.  35.  36.  37.  38.  39.  40.  41.\n",
      "  42.  43.  44.  45.  46.  47.  48.  49.  50.  51.  52.  53.  54.  55.\n",
      "  56.  57.  58.  59.  60.  61.  62.  63.  64.  65.  66.  67.  68.  69.\n",
      "  70.  71.  72.  73.  74.  75.  76.  77.  78.  79.  80.  81.  82.  83.\n",
      "  84.  85.  86.  87.  88.  89.  90.  91.  92.  93.  94.  95.  96.  97.\n",
      "  98.  99. 100.  nan]\n",
      "==============================\n"
     ]
    },
    {
     "name": "stdout",
     "output_type": "stream",
     "text": [
      "Nilai unik atribut PRESSURE9AM (546 nilai)\n",
      "[ 980.5  982.   982.2  982.3  982.9  983.7  983.9  984.4  984.6  985.\n",
      "  985.1  985.8  985.9  986.2  986.3  986.6  986.7  986.9  987.   987.1\n",
      "  987.2  987.3  987.4  987.9  988.   988.1  988.2  988.3  988.5  988.8\n",
      "  988.9  989.   989.1  989.2  989.3  989.4  989.5  989.6  989.7  989.8\n",
      "  989.9  990.2  990.3  990.4  990.5  990.6  990.8  990.9  991.   991.1\n",
      "  991.2  991.3  991.4  991.5  991.6  991.7  991.8  991.9  992.   992.1\n",
      "  992.2  992.3  992.4  992.5  992.6  992.7  992.8  992.9  993.   993.1\n",
      "  993.2  993.3  993.4  993.5  993.6  993.7  993.8  993.9  994.   994.1\n",
      "  994.2  994.3  994.4  994.5  994.6  994.7  994.8  994.9  995.   995.1\n",
      "  995.2  995.3  995.4  995.5  995.6  995.7  995.8  995.9  996.   996.1\n",
      "  996.2  996.3  996.4  996.5  996.6  996.7  996.8  996.9  997.   997.1\n",
      "  997.2  997.3  997.4  997.5  997.6  997.7  997.8  997.9  998.   998.1\n",
      "  998.2  998.3  998.4  998.5  998.6  998.7  998.8  998.9  999.   999.1\n",
      "  999.2  999.3  999.4  999.5  999.6  999.7  999.8  999.9 1000.  1000.1\n",
      " 1000.2 1000.3 1000.4 1000.5 1000.6 1000.7 1000.8 1000.9 1001.  1001.1\n",
      " 1001.2 1001.3 1001.4 1001.5 1001.6 1001.7 1001.8 1001.9 1002.  1002.1\n",
      " 1002.2 1002.3 1002.4 1002.5 1002.6 1002.7 1002.8 1002.9 1003.  1003.1\n",
      " 1003.2 1003.3 1003.4 1003.5 1003.6 1003.7 1003.8 1003.9 1004.  1004.1\n",
      " 1004.2 1004.3 1004.4 1004.5 1004.6 1004.7 1004.8 1004.9 1005.  1005.1\n",
      " 1005.2 1005.3 1005.4 1005.5 1005.6 1005.7 1005.8 1005.9 1006.  1006.1\n",
      " 1006.2 1006.3 1006.4 1006.5 1006.6 1006.7 1006.8 1006.9 1007.  1007.1\n",
      " 1007.2 1007.3 1007.4 1007.5 1007.6 1007.7 1007.8 1007.9 1008.  1008.1\n",
      " 1008.2 1008.3 1008.4 1008.5 1008.6 1008.7 1008.8 1008.9 1009.  1009.1\n",
      " 1009.2 1009.3 1009.4 1009.5 1009.6 1009.7 1009.8 1009.9 1010.  1010.1\n",
      " 1010.2 1010.3 1010.4 1010.5 1010.6 1010.7 1010.8 1010.9 1011.  1011.1\n",
      " 1011.2 1011.3 1011.4 1011.5 1011.6 1011.7 1011.8 1011.9 1012.  1012.1\n",
      " 1012.2 1012.3 1012.4 1012.5 1012.6 1012.7 1012.8 1012.9 1013.  1013.1\n",
      " 1013.2 1013.3 1013.4 1013.5 1013.6 1013.7 1013.8 1013.9 1014.  1014.1\n",
      " 1014.2 1014.3 1014.4 1014.5 1014.6 1014.7 1014.8 1014.9 1015.  1015.1\n",
      " 1015.2 1015.3 1015.4 1015.5 1015.6 1015.7 1015.8 1015.9 1016.  1016.1\n",
      " 1016.2 1016.3 1016.4 1016.5 1016.6 1016.7 1016.8 1016.9 1017.  1017.1\n",
      " 1017.2 1017.3 1017.4 1017.5 1017.6 1017.7 1017.8 1017.9 1018.  1018.1\n",
      " 1018.2 1018.3 1018.4 1018.5 1018.6 1018.7 1018.8 1018.9 1019.  1019.1\n",
      " 1019.2 1019.3 1019.4 1019.5 1019.6 1019.7 1019.8 1019.9 1020.  1020.1\n",
      " 1020.2 1020.3 1020.4 1020.5 1020.6 1020.7 1020.8 1020.9 1021.  1021.1\n",
      " 1021.2 1021.3 1021.4 1021.5 1021.6 1021.7 1021.8 1021.9 1022.  1022.1\n",
      " 1022.2 1022.3 1022.4 1022.5 1022.6 1022.7 1022.8 1022.9 1023.  1023.1\n",
      " 1023.2 1023.3 1023.4 1023.5 1023.6 1023.7 1023.8 1023.9 1024.  1024.1\n",
      " 1024.2 1024.3 1024.4 1024.5 1024.6 1024.7 1024.8 1024.9 1025.  1025.1\n",
      " 1025.2 1025.3 1025.4 1025.5 1025.6 1025.7 1025.8 1025.9 1026.  1026.1\n",
      " 1026.2 1026.3 1026.4 1026.5 1026.6 1026.7 1026.8 1026.9 1027.  1027.1\n",
      " 1027.2 1027.3 1027.4 1027.5 1027.6 1027.7 1027.8 1027.9 1028.  1028.1\n",
      " 1028.2 1028.3 1028.4 1028.5 1028.6 1028.7 1028.8 1028.9 1029.  1029.1\n",
      " 1029.2 1029.3 1029.4 1029.5 1029.6 1029.7 1029.8 1029.9 1030.  1030.1\n",
      " 1030.2 1030.3 1030.4 1030.5 1030.6 1030.7 1030.8 1030.9 1031.  1031.1\n",
      " 1031.2 1031.3 1031.4 1031.5 1031.6 1031.7 1031.8 1031.9 1032.  1032.1\n",
      " 1032.2 1032.3 1032.4 1032.5 1032.6 1032.7 1032.8 1032.9 1033.  1033.1\n",
      " 1033.2 1033.3 1033.4 1033.5 1033.6 1033.7 1033.8 1033.9 1034.  1034.1\n",
      " 1034.2 1034.3 1034.4 1034.5 1034.6 1034.7 1034.8 1034.9 1035.  1035.1\n",
      " 1035.2 1035.3 1035.4 1035.5 1035.6 1035.7 1035.8 1035.9 1036.  1036.1\n",
      " 1036.2 1036.3 1036.4 1036.5 1036.6 1036.7 1036.8 1036.9 1037.  1037.1\n",
      " 1037.2 1037.3 1037.4 1037.5 1037.6 1037.7 1037.8 1037.9 1038.  1038.1\n",
      " 1038.2 1038.3 1038.4 1038.5 1038.6 1038.7 1038.8 1038.9 1039.  1039.1\n",
      " 1039.2 1039.3 1039.4 1039.5 1039.6 1039.7 1039.9 1040.  1040.1 1040.2\n",
      " 1040.3 1040.4 1040.5 1040.6 1040.9 1041.     nan]\n",
      "==============================\n",
      "Nilai unik atribut PRESSURE3PM (549 nilai)\n",
      "[ 977.1    978.2    979.     980.2    981.2    981.4    981.9    982.2\n",
      "  982.6    982.9    983.2    983.3    984.     984.2    984.4    984.5\n",
      "  984.9    985.     985.1    985.2    985.3    985.4    985.5    985.6\n",
      "  985.8    986.     986.1    986.2    986.4    986.5    986.6    986.8\n",
      "  986.9    987.     987.1    987.2    987.3    987.4    987.6    987.7\n",
      "  987.8    988.     988.1    988.2    988.3    988.4    988.5    988.6\n",
      "  988.7    988.8    988.9    989.     989.1    989.2    989.3    989.4\n",
      "  989.5    989.6    989.7    989.8    989.9    990.     990.1    990.2\n",
      "  990.3    990.4    990.5    990.6    990.7    990.8    990.9    991.\n",
      "  991.1    991.2    991.3    991.4    991.5    991.6    991.7    991.8\n",
      "  991.9    992.     992.1    992.2    992.3    992.4    992.5    992.6\n",
      "  992.7    992.8    992.9    993.     993.1    993.2    993.3    993.4\n",
      "  993.5    993.6    993.7    993.8    993.9    994.     994.1    994.2\n",
      "  994.3    994.4    994.5    994.6    994.7    994.8    994.9    995.\n",
      "  995.1    995.2    995.3    995.4    995.5    995.6    995.7    995.8\n",
      "  995.9    996.     996.1    996.2    996.3    996.4    996.5    996.6\n",
      "  996.7    996.8    996.9    997.     997.1    997.2    997.3    997.4\n",
      "  997.5    997.6    997.7    997.8    997.9    998.     998.1    998.2\n",
      "  998.3    998.4    998.5    998.6    998.7    998.8    998.9    999.\n",
      "  999.1    999.2    999.3    999.4    999.5    999.6    999.7    999.8\n",
      "  999.9   1000.    1000.1   1000.2   1000.3   1000.4   1000.5   1000.6\n",
      " 1000.7   1000.8   1000.9   1001.    1001.1   1001.2   1001.3   1001.4\n",
      " 1001.5   1001.6   1001.7   1001.8   1001.9   1002.    1002.1   1002.2\n",
      " 1002.3   1002.4   1002.5   1002.6   1002.7   1002.8   1002.9   1003.\n",
      " 1003.1   1003.2   1003.3   1003.4   1003.5   1003.6   1003.7   1003.8\n",
      " 1003.9   1004.    1004.1   1004.2   1004.3   1004.4   1004.5   1004.6\n",
      " 1004.7   1004.8   1004.9   1005.    1005.1   1005.2   1005.3   1005.4\n",
      " 1005.5   1005.6   1005.7   1005.8   1005.9   1006.    1006.1   1006.2\n",
      " 1006.3   1006.4   1006.5   1006.6   1006.7   1006.8   1006.9   1007.\n",
      " 1007.1   1007.2   1007.3   1007.4   1007.5   1007.6   1007.7   1007.8\n",
      " 1007.9   1008.    1008.1   1008.2   1008.3   1008.4   1008.5   1008.6\n",
      " 1008.7   1008.8   1008.9   1009.    1009.1   1009.2   1009.3   1009.4\n",
      " 1009.5   1009.555 1009.6   1009.7   1009.8   1009.9   1010.    1010.1\n",
      " 1010.2   1010.3   1010.4   1010.5   1010.6   1010.7   1010.8   1010.9\n",
      " 1011.    1011.1   1011.2   1011.3   1011.4   1011.5   1011.6   1011.7\n",
      " 1011.8   1011.9   1012.    1012.1   1012.2   1012.3   1012.4   1012.5\n",
      " 1012.6   1012.7   1012.8   1012.9   1013.    1013.1   1013.2   1013.3\n",
      " 1013.4   1013.5   1013.6   1013.7   1013.8   1013.9   1014.    1014.1\n",
      " 1014.2   1014.3   1014.4   1014.5   1014.6   1014.7   1014.8   1014.9\n",
      " 1015.    1015.1   1015.2   1015.3   1015.4   1015.5   1015.6   1015.7\n",
      " 1015.8   1015.9   1016.    1016.1   1016.2   1016.3   1016.4   1016.5\n",
      " 1016.6   1016.7   1016.777 1016.8   1016.9   1017.    1017.1   1017.2\n",
      " 1017.3   1017.4   1017.5   1017.6   1017.7   1017.8   1017.9   1018.\n",
      " 1018.1   1018.2   1018.3   1018.4   1018.5   1018.6   1018.7   1018.8\n",
      " 1018.9   1019.    1019.1   1019.2   1019.3   1019.4   1019.5   1019.6\n",
      " 1019.7   1019.8   1019.9   1020.    1020.1   1020.2   1020.3   1020.4\n",
      " 1020.5   1020.6   1020.7   1020.8   1020.9   1021.    1021.1   1021.2\n",
      " 1021.3   1021.4   1021.5   1021.6   1021.7   1021.8   1021.9   1022.\n",
      " 1022.1   1022.2   1022.3   1022.4   1022.5   1022.6   1022.7   1022.8\n",
      " 1022.9   1023.    1023.1   1023.2   1023.3   1023.4   1023.5   1023.6\n",
      " 1023.7   1023.8   1023.9   1024.    1024.1   1024.2   1024.3   1024.4\n",
      " 1024.5   1024.6   1024.7   1024.8   1024.9   1025.    1025.1   1025.2\n",
      " 1025.3   1025.4   1025.5   1025.6   1025.7   1025.8   1025.9   1026.\n",
      " 1026.1   1026.2   1026.3   1026.4   1026.5   1026.6   1026.66  1026.7\n",
      " 1026.8   1026.9   1027.    1027.1   1027.2   1027.3   1027.4   1027.5\n",
      " 1027.6   1027.7   1027.8   1027.9   1028.    1028.1   1028.2   1028.3\n",
      " 1028.4   1028.5   1028.6   1028.7   1028.8   1028.9   1029.    1029.1\n",
      " 1029.2   1029.3   1029.4   1029.5   1029.6   1029.7   1029.8   1029.9\n",
      " 1030.    1030.1   1030.2   1030.3   1030.4   1030.5   1030.6   1030.7\n",
      " 1030.8   1030.9   1031.    1031.1   1031.2   1031.3   1031.4   1031.5\n",
      " 1031.6   1031.7   1031.8   1031.9   1032.    1032.1   1032.2   1032.3\n",
      " 1032.4   1032.5   1032.6   1032.7   1032.8   1032.9   1033.    1033.1\n",
      " 1033.2   1033.3   1033.4   1033.5   1033.6   1033.7   1033.8   1033.9\n",
      " 1034.    1034.1   1034.2   1034.3   1034.4   1034.5   1034.6   1034.7\n",
      " 1034.8   1034.9   1035.    1035.1   1035.2   1035.3   1035.4   1035.5\n",
      " 1035.6   1035.7   1035.8   1035.9   1036.    1036.1   1036.2   1036.3\n",
      " 1036.4   1036.5   1036.6   1036.7   1036.8   1036.9   1037.    1037.1\n",
      " 1037.2   1037.3   1037.5   1037.6   1037.7   1037.8   1037.9   1038.\n",
      " 1038.2   1038.4   1038.5   1038.9   1039.6        nan]\n",
      "==============================\n",
      "Nilai unik atribut CLOUD9AM (10 nilai)\n",
      "[ 0.  1.  2.  3.  4.  5.  6.  7.  8.  9. nan]\n",
      "==============================\n",
      "Nilai unik atribut CLOUD3PM (10 nilai)\n",
      "[ 0.  1.  2.  3.  4.  5.  6.  7.  8.  9. nan]\n",
      "==============================\n",
      "Nilai unik atribut TEMP9AM (441 nilai)\n",
      "[-7.2 -7.  -6.2 -5.9 -5.6 -5.5 -5.3 -5.2 -4.9 -4.8 -4.5 -4.4 -4.3 -4.2\n",
      " -4.1 -4.  -3.9 -3.8 -3.7 -3.6 -3.5 -3.4 -3.3 -3.2 -3.1 -3.  -2.9 -2.8\n",
      " -2.7 -2.6 -2.5 -2.4 -2.3 -2.2 -2.1 -2.  -1.9 -1.8 -1.7 -1.6 -1.5 -1.4\n",
      " -1.3 -1.2 -1.1 -1.  -0.9 -0.8 -0.7 -0.6 -0.5 -0.4 -0.3 -0.2 -0.1  0.\n",
      "  0.1  0.2  0.3  0.4  0.5  0.6  0.7  0.8  0.9  1.   1.1  1.2  1.3  1.4\n",
      "  1.5  1.6  1.7  1.8  1.9  2.   2.1  2.2  2.3  2.4  2.5  2.6  2.7  2.8\n",
      "  2.9  3.   3.1  3.2  3.3  3.4  3.5  3.6  3.7  3.8  3.9  4.   4.1  4.2\n",
      "  4.3  4.4  4.5  4.6  4.7  4.8  4.9  5.   5.1  5.2  5.3  5.4  5.5  5.6\n",
      "  5.7  5.8  5.9  6.   6.1  6.2  6.3  6.4  6.5  6.6  6.7  6.8  6.9  7.\n",
      "  7.1  7.2  7.3  7.4  7.5  7.6  7.7  7.8  7.9  8.   8.1  8.2  8.3  8.4\n",
      "  8.5  8.6  8.7  8.8  8.9  9.   9.1  9.2  9.3  9.4  9.5  9.6  9.7  9.8\n",
      "  9.9 10.  10.1 10.2 10.3 10.4 10.5 10.6 10.7 10.8 10.9 11.  11.1 11.2\n",
      " 11.3 11.4 11.5 11.6 11.7 11.8 11.9 12.  12.1 12.2 12.3 12.4 12.5 12.6\n",
      " 12.7 12.8 12.9 13.  13.1 13.2 13.3 13.4 13.5 13.6 13.7 13.8 13.9 14.\n",
      " 14.1 14.2 14.3 14.4 14.5 14.6 14.7 14.8 14.9 15.  15.1 15.2 15.3 15.4\n",
      " 15.5 15.6 15.7 15.8 15.9 16.  16.1 16.2 16.3 16.4 16.5 16.6 16.7 16.8\n",
      " 16.9 17.  17.1 17.2 17.3 17.4 17.5 17.6 17.7 17.8 17.9 18.  18.1 18.2\n",
      " 18.3 18.4 18.5 18.6 18.7 18.8 18.9 19.  19.1 19.2 19.3 19.4 19.5 19.6\n",
      " 19.7 19.8 19.9 20.  20.1 20.2 20.3 20.4 20.5 20.6 20.7 20.8 20.9 21.\n",
      " 21.1 21.2 21.3 21.4 21.5 21.6 21.7 21.8 21.9 22.  22.1 22.2 22.3 22.4\n",
      " 22.5 22.6 22.7 22.8 22.9 23.  23.1 23.2 23.3 23.4 23.5 23.6 23.7 23.8\n",
      " 23.9 24.  24.1 24.2 24.3 24.4 24.5 24.6 24.7 24.8 24.9 25.  25.1 25.2\n",
      " 25.3 25.4 25.5 25.6 25.7 25.8 25.9 26.  26.1 26.2 26.3 26.4 26.5 26.6\n",
      " 26.7 26.8 26.9 27.  27.1 27.2 27.3 27.4 27.5 27.6 27.7 27.8 27.9 28.\n",
      " 28.1 28.2 28.3 28.4 28.5 28.6 28.7 28.8 28.9 29.  29.1 29.2 29.3 29.4\n",
      " 29.5 29.6 29.7 29.8 29.9 30.  30.1 30.2 30.3 30.4 30.5 30.6 30.7 30.8\n",
      " 30.9 31.  31.1 31.2 31.3 31.4 31.5 31.6 31.7 31.8 31.9 32.  32.1 32.2\n",
      " 32.3 32.4 32.5 32.6 32.7 32.8 32.9 33.  33.1 33.2 33.3 33.4 33.5 33.6\n",
      " 33.7 33.8 33.9 34.  34.1 34.2 34.3 34.4 34.5 34.6 34.7 34.8 34.9 35.\n",
      " 35.1 35.2 35.3 35.4 35.5 35.6 35.7 35.8 35.9 36.  36.1 36.2 36.3 36.4\n",
      " 36.5 36.6 36.8 36.9 37.  37.2 37.3 37.4 37.5 37.6 37.7 37.9 38.  38.2\n",
      " 38.3 38.6 38.9 39.  39.1 39.4 40.2  nan]\n",
      "==============================\n",
      "Nilai unik atribut TEMP3PM (502 nilai)\n",
      "[-5.4 -5.1 -4.4 -4.2 -4.1 -4.  -3.9 -3.8 -3.7 -3.5 -3.4 -3.3 -3.2 -3.1\n",
      " -3.  -2.9 -2.8 -2.7 -2.6 -2.5 -2.4 -2.3 -2.2 -2.1 -2.  -1.9 -1.8 -1.7\n",
      " -1.6 -1.5 -1.4 -1.3 -1.2 -1.1 -1.  -0.9 -0.8 -0.7 -0.6 -0.5 -0.4 -0.3\n",
      " -0.2 -0.1  0.   0.1  0.2  0.3  0.4  0.5  0.6  0.7  0.8  0.9  1.   1.1\n",
      "  1.2  1.3  1.4  1.5  1.6  1.7  1.8  1.9  2.   2.1  2.2  2.3  2.4  2.5\n",
      "  2.6  2.7  2.8  2.9  3.   3.1  3.2  3.3  3.4  3.5  3.6  3.7  3.8  3.9\n",
      "  4.   4.1  4.2  4.3  4.4  4.5  4.6  4.7  4.8  4.9  5.   5.1  5.2  5.3\n",
      "  5.4  5.5  5.6  5.7  5.8  5.9  6.   6.1  6.2  6.3  6.4  6.5  6.6  6.7\n",
      "  6.8  6.9  7.   7.1  7.2  7.3  7.4  7.5  7.6  7.7  7.8  7.9  8.   8.1\n",
      "  8.2  8.3  8.4  8.5  8.6  8.7  8.8  8.9  9.   9.1  9.2  9.3  9.4  9.5\n",
      "  9.6  9.7  9.8  9.9 10.  10.1 10.2 10.3 10.4 10.5 10.6 10.7 10.8 10.9\n",
      " 11.  11.1 11.2 11.3 11.4 11.5 11.6 11.7 11.8 11.9 12.  12.1 12.2 12.3\n",
      " 12.4 12.5 12.6 12.7 12.8 12.9 13.  13.1 13.2 13.3 13.4 13.5 13.6 13.7\n",
      " 13.8 13.9 14.  14.1 14.2 14.3 14.4 14.5 14.6 14.7 14.8 14.9 15.  15.1\n",
      " 15.2 15.3 15.4 15.5 15.6 15.7 15.8 15.9 16.  16.1 16.2 16.3 16.4 16.5\n",
      " 16.6 16.7 16.8 16.9 17.  17.1 17.2 17.3 17.4 17.5 17.6 17.7 17.8 17.9\n",
      " 18.  18.1 18.2 18.3 18.4 18.5 18.6 18.7 18.8 18.9 19.  19.1 19.2 19.3\n",
      " 19.4 19.5 19.6 19.7 19.8 19.9 20.  20.1 20.2 20.3 20.4 20.5 20.6 20.7\n",
      " 20.8 20.9 21.  21.1 21.2 21.3 21.4 21.5 21.6 21.7 21.8 21.9 22.  22.1\n",
      " 22.2 22.3 22.4 22.5 22.6 22.7 22.8 22.9 23.  23.1 23.2 23.3 23.4 23.5\n",
      " 23.6 23.7 23.8 23.9 24.  24.1 24.2 24.3 24.4 24.5 24.6 24.7 24.8 24.9\n",
      " 25.  25.1 25.2 25.3 25.4 25.5 25.6 25.7 25.8 25.9 26.  26.1 26.2 26.3\n",
      " 26.4 26.5 26.6 26.7 26.8 26.9 27.  27.1 27.2 27.3 27.4 27.5 27.6 27.7\n",
      " 27.8 27.9 28.  28.1 28.2 28.3 28.4 28.5 28.6 28.7 28.8 28.9 29.  29.1\n",
      " 29.2 29.3 29.4 29.5 29.6 29.7 29.8 29.9 30.  30.1 30.2 30.3 30.4 30.5\n",
      " 30.6 30.7 30.8 30.9 31.  31.1 31.2 31.3 31.4 31.5 31.6 31.7 31.8 31.9\n",
      " 32.  32.1 32.2 32.3 32.4 32.5 32.6 32.7 32.8 32.9 33.  33.1 33.2 33.3\n",
      " 33.4 33.5 33.6 33.7 33.8 33.9 34.  34.1 34.2 34.3 34.4 34.5 34.6 34.7\n",
      " 34.8 34.9 35.  35.1 35.2 35.3 35.4 35.5 35.6 35.7 35.8 35.9 36.  36.1\n",
      " 36.2 36.3 36.4 36.5 36.6 36.7 36.8 36.9 37.  37.1 37.2 37.3 37.4 37.5\n",
      " 37.6 37.7 37.8 37.9 38.  38.1 38.2 38.3 38.4 38.5 38.6 38.7 38.8 38.9\n",
      " 39.  39.1 39.2 39.3 39.4 39.5 39.6 39.7 39.8 39.9 40.  40.1 40.2 40.3\n",
      " 40.4 40.5 40.6 40.7 40.8 40.9 41.  41.1 41.2 41.3 41.4 41.5 41.6 41.7\n",
      " 41.8 41.9 42.  42.1 42.2 42.3 42.4 42.5 42.6 42.7 42.8 42.9 43.  43.1\n",
      " 43.2 43.3 43.4 43.5 43.6 43.7 43.8 43.9 44.  44.1 44.2 44.3 44.4 44.5\n",
      " 44.7 44.8 44.9 45.  45.2 45.3 45.4 45.8 45.9 46.1 46.2 46.7  nan]\n",
      "==============================\n"
     ]
    }
   ],
   "source": [
    "# mencetak nilai unik yang terdapat pada setiap atribut yang bertipe numerical\n",
    "for num_col in numerical_columns:\n",
    "    print(\"Nilai unik atribut {} ({} nilai)\".format(num_col.upper(),rainAus_df[num_col].nunique()))\n",
    "    print(np.sort(rainAus_df[num_col].unique()))\n",
    "    print(\"=\"*30)"
   ]
  },
  {
   "cell_type": "markdown",
   "id": "d14190ed",
   "metadata": {},
   "source": [
    "### Merangkum total *missing values* pada setiap atribut categorical"
   ]
  },
  {
   "cell_type": "code",
   "execution_count": 15,
   "id": "615f54b6",
   "metadata": {},
   "outputs": [
    {
     "data": {
      "image/png": "[encoded data removed]",
      "text/plain": [
       "<Figure size 864x648 with 1 Axes>"
      ]
     },
     "metadata": {
      "needs_background": "light"
     },
     "output_type": "display_data"
    }
   ],
   "source": [
    "categorical_missing_values =  rainAus_df[categorical_columns].isnull().sum().sort_values()\n",
    "\n",
    "# bar plot untuk menunjukkan besaran missing values pada atribut categorical\n",
    "plt.figure(figsize=(12,9))\n",
    "categorical_missing_values.plot(kind='barh')\n",
    "plt.title('Rangkuman jumlah missing values untuk setiap atribut bertipe kategorikal', fontsize=12)\n",
    "plt.xlabel('Jumlah data missing values', fontsize=12)\n",
    "plt.ylabel('Atribut Bertipe Kategorikal', fontsize=12)\n",
    "plt.show()"
   ]
  },
  {
   "cell_type": "markdown",
   "id": "7c0dec3b",
   "metadata": {},
   "source": [
    "**ANALISIS** <br>\n",
    "1. Missing values untuk atribut kategorikal akan ditangani dengan cara mengisi nilai *nan* dengan **modus** dari suatu atribut. \n",
    "2. Label kelas **RainTomorrow** ternyata mengandung cukup banyak *missing values*. Untuk label kelas, baris data yang mengandung *missing values* akan **dihapus**. Hal ini karena kita tidak memiliki pengetahuan tentang ilmu astronomi dan ilmu hujan, sehingga kita tidak bisa menentukan label kelas yang hilang secara manual dan mengisinya."
   ]
  },
  {
   "cell_type": "markdown",
   "id": "6736eac3",
   "metadata": {},
   "source": [
    "### Merangkum total *missing values* pada atribut numerical"
   ]
  },
  {
   "cell_type": "code",
   "execution_count": 16,
   "id": "670d7d4e",
   "metadata": {},
   "outputs": [
    {
     "data": {
      "image/png": "[encoded data removed]",
      "text/plain": [
       "<Figure size 864x648 with 1 Axes>"
      ]
     },
     "metadata": {
      "needs_background": "light"
     },
     "output_type": "display_data"
    }
   ],
   "source": [
    "numerical_missing_values = rainAus_df[numerical_columns].isnull().sum().sort_values()\n",
    "\n",
    "# bar plot untuk menunjukkan besaran missing values pada atribut categorical\n",
    "plt.figure(figsize=(12,9))\n",
    "numerical_missing_values.plot(kind='barh', fontsize=12)\n",
    "plt.title('Rangkuman jumlah missing values untuk setiap atribut bertipe numerikal', fontsize=12)\n",
    "plt.xlabel('Jumlah data missing values', fontsize=12)\n",
    "plt.ylabel('Atribut Bertipe Numerikal', fontsize=12)\n",
    "plt.show()"
   ]
  },
  {
   "cell_type": "markdown",
   "id": "c9c1e201",
   "metadata": {},
   "source": [
    "**ANALISIS** <br>\n",
    "1. Missing values untuk atribut numerikal akan ditangani dengan cara mengisi nilai *nan* dengan **median** dari suatu atribut. Nilai **median** digunakan karena relatif tidak sensitif dibandingkan dengan penggunaan nilai **mean**"
   ]
  },
  {
   "cell_type": "markdown",
   "id": "ebba8992",
   "metadata": {},
   "source": [
    "## Data Cleaning"
   ]
  },
  {
   "cell_type": "markdown",
   "id": "fb471838",
   "metadata": {},
   "source": [
    "### Merename nama kolom"
   ]
  },
  {
   "cell_type": "code",
   "execution_count": 17,
   "id": "d4b83dc3",
   "metadata": {},
   "outputs": [],
   "source": [
    "# rename kolom dari datasets\n",
    "def rename_columns_df(df):\n",
    "    df = df.rename(\n",
    "        columns={\n",
    "            'Date':'Tanggal',\n",
    "            'Location':'Kota',\n",
    "            'MinTemp':'Suhu Minimum',\n",
    "            'MaxTemp':'Suhu Maximum',\n",
    "            'Rainfall':'Curah Hujan',\n",
    "            'Evaporation':'Penguapan',\n",
    "            'Sunshine':'Jam Cerah',\n",
    "            'WindGustDir':'Arah Angin 24 jam',\n",
    "            'WindGustSpeed':'Kecepatan Angin 24 jam',\n",
    "            'WindDir9am':'Arah Angin 9 Pagi',\n",
    "            'WindDir3pm':'Arah Angin 3 Sore',\n",
    "            'WindSpeed9am':'Kecepatan Angin 9 Pagi',\n",
    "            'WindSpeed3pm':'Kecepatan Angin 3 Sore',\n",
    "            'Humidity9am':'Kelembaban 9 Pagi',\n",
    "            'Humidity3pm':'Kelembaban 3 Sore',\n",
    "            'Pressure9am':'Tekanan Udara 9 Pagi',\n",
    "            'Pressure3pm':'Tekanan Udara 3 Sore',\n",
    "            'Cloud9am':'Awan 9 Pagi',\n",
    "            'Cloud3pm':'Awan 3 Sore',\n",
    "            'Temp9am':'Suhu Celcius 9 Pagi',\n",
    "            'Temp3pm':'Suhu Celcius 3 Sore',\n",
    "            'RainToday':'Hari ini Hujan',\n",
    "            'RainTomorrow':'Hari besok Hujan',\n",
    "        },\n",
    "    )\n",
    "    return df"
   ]
  },
  {
   "cell_type": "code",
   "execution_count": 18,
   "id": "d8185ef3",
   "metadata": {},
   "outputs": [],
   "source": [
    "rainAus_df = rename_columns_df(rainAus_df)\n",
    "\n",
    "# memperbarui daftar atribut numerik dan daftar atribut kategorikal\n",
    "numerical_columns = rainAus_df.select_dtypes(include=['float64','int64']).columns.values\n",
    "categorical_columns = rainAus_df.select_dtypes(include=['object']).columns.values"
   ]
  },
  {
   "cell_type": "code",
   "execution_count": 19,
   "id": "92aa8749",
   "metadata": {},
   "outputs": [
    {
     "data": {
      "text/html": [
       "<div>\n",
       "<style scoped>\n",
       "    .dataframe tbody tr th:only-of-type {\n",
       "        vertical-align: middle;\n",
       "    }\n",
       "\n",
       "    .dataframe tbody tr th {\n",
       "        vertical-align: top;\n",
       "    }\n",
       "\n",
       "    .dataframe thead th {\n",
       "        text-align: right;\n",
       "    }\n",
       "</style>\n",
       "<table border=\"1\" class=\"dataframe\">\n",
       "  <thead>\n",
       "    <tr style=\"text-align: right;\">\n",
       "      <th></th>\n",
       "      <th>Tanggal</th>\n",
       "      <th>Kota</th>\n",
       "      <th>Suhu Minimum</th>\n",
       "      <th>Suhu Maximum</th>\n",
       "      <th>Curah Hujan</th>\n",
       "      <th>Penguapan</th>\n",
       "      <th>Jam Cerah</th>\n",
       "      <th>Arah Angin 24 jam</th>\n",
       "      <th>Kecepatan Angin 24 jam</th>\n",
       "      <th>Arah Angin 9 Pagi</th>\n",
       "      <th>...</th>\n",
       "      <th>Kelembaban 9 Pagi</th>\n",
       "      <th>Kelembaban 3 Sore</th>\n",
       "      <th>Tekanan Udara 9 Pagi</th>\n",
       "      <th>Tekanan Udara 3 Sore</th>\n",
       "      <th>Awan 9 Pagi</th>\n",
       "      <th>Awan 3 Sore</th>\n",
       "      <th>Suhu Celcius 9 Pagi</th>\n",
       "      <th>Suhu Celcius 3 Sore</th>\n",
       "      <th>Hari ini Hujan</th>\n",
       "      <th>Hari besok Hujan</th>\n",
       "    </tr>\n",
       "  </thead>\n",
       "  <tbody>\n",
       "    <tr>\n",
       "      <th>0</th>\n",
       "      <td>2008-12-01</td>\n",
       "      <td>Albury</td>\n",
       "      <td>13.4</td>\n",
       "      <td>22.9</td>\n",
       "      <td>0.6</td>\n",
       "      <td>NaN</td>\n",
       "      <td>NaN</td>\n",
       "      <td>W</td>\n",
       "      <td>44.0</td>\n",
       "      <td>W</td>\n",
       "      <td>...</td>\n",
       "      <td>71.0</td>\n",
       "      <td>22.0</td>\n",
       "      <td>1007.7</td>\n",
       "      <td>1007.1</td>\n",
       "      <td>8.0</td>\n",
       "      <td>NaN</td>\n",
       "      <td>16.9</td>\n",
       "      <td>21.8</td>\n",
       "      <td>No</td>\n",
       "      <td>No</td>\n",
       "    </tr>\n",
       "    <tr>\n",
       "      <th>1</th>\n",
       "      <td>2008-12-02</td>\n",
       "      <td>Albury</td>\n",
       "      <td>7.4</td>\n",
       "      <td>25.1</td>\n",
       "      <td>0.0</td>\n",
       "      <td>NaN</td>\n",
       "      <td>NaN</td>\n",
       "      <td>WNW</td>\n",
       "      <td>44.0</td>\n",
       "      <td>NNW</td>\n",
       "      <td>...</td>\n",
       "      <td>44.0</td>\n",
       "      <td>25.0</td>\n",
       "      <td>1010.6</td>\n",
       "      <td>1007.8</td>\n",
       "      <td>NaN</td>\n",
       "      <td>NaN</td>\n",
       "      <td>17.2</td>\n",
       "      <td>24.3</td>\n",
       "      <td>No</td>\n",
       "      <td>No</td>\n",
       "    </tr>\n",
       "    <tr>\n",
       "      <th>2</th>\n",
       "      <td>2008-12-03</td>\n",
       "      <td>Albury</td>\n",
       "      <td>12.9</td>\n",
       "      <td>25.7</td>\n",
       "      <td>0.0</td>\n",
       "      <td>NaN</td>\n",
       "      <td>NaN</td>\n",
       "      <td>WSW</td>\n",
       "      <td>46.0</td>\n",
       "      <td>W</td>\n",
       "      <td>...</td>\n",
       "      <td>38.0</td>\n",
       "      <td>30.0</td>\n",
       "      <td>1007.6</td>\n",
       "      <td>1008.7</td>\n",
       "      <td>NaN</td>\n",
       "      <td>2.0</td>\n",
       "      <td>21.0</td>\n",
       "      <td>23.2</td>\n",
       "      <td>No</td>\n",
       "      <td>No</td>\n",
       "    </tr>\n",
       "    <tr>\n",
       "      <th>3</th>\n",
       "      <td>2008-12-04</td>\n",
       "      <td>Albury</td>\n",
       "      <td>9.2</td>\n",
       "      <td>28.0</td>\n",
       "      <td>0.0</td>\n",
       "      <td>NaN</td>\n",
       "      <td>NaN</td>\n",
       "      <td>NE</td>\n",
       "      <td>24.0</td>\n",
       "      <td>SE</td>\n",
       "      <td>...</td>\n",
       "      <td>45.0</td>\n",
       "      <td>16.0</td>\n",
       "      <td>1017.6</td>\n",
       "      <td>1012.8</td>\n",
       "      <td>NaN</td>\n",
       "      <td>NaN</td>\n",
       "      <td>18.1</td>\n",
       "      <td>26.5</td>\n",
       "      <td>No</td>\n",
       "      <td>No</td>\n",
       "    </tr>\n",
       "    <tr>\n",
       "      <th>4</th>\n",
       "      <td>2008-12-05</td>\n",
       "      <td>Albury</td>\n",
       "      <td>17.5</td>\n",
       "      <td>32.3</td>\n",
       "      <td>1.0</td>\n",
       "      <td>NaN</td>\n",
       "      <td>NaN</td>\n",
       "      <td>W</td>\n",
       "      <td>41.0</td>\n",
       "      <td>ENE</td>\n",
       "      <td>...</td>\n",
       "      <td>82.0</td>\n",
       "      <td>33.0</td>\n",
       "      <td>1010.8</td>\n",
       "      <td>1006.0</td>\n",
       "      <td>7.0</td>\n",
       "      <td>8.0</td>\n",
       "      <td>17.8</td>\n",
       "      <td>29.7</td>\n",
       "      <td>No</td>\n",
       "      <td>No</td>\n",
       "    </tr>\n",
       "  </tbody>\n",
       "</table>\n",
       "<p>5 rows × 23 columns</p>\n",
       "</div>"
      ],
      "text/plain": [
       "      Tanggal    Kota  Suhu Minimum  Suhu Maximum  Curah Hujan  Penguapan  \\\n",
       "0  2008-12-01  Albury          13.4          22.9          0.6        NaN   \n",
       "1  2008-12-02  Albury           7.4          25.1          0.0        NaN   \n",
       "2  2008-12-03  Albury          12.9          25.7          0.0        NaN   \n",
       "3  2008-12-04  Albury           9.2          28.0          0.0        NaN   \n",
       "4  2008-12-05  Albury          17.5          32.3          1.0        NaN   \n",
       "\n",
       "   Jam Cerah Arah Angin 24 jam  Kecepatan Angin 24 jam Arah Angin 9 Pagi  ...  \\\n",
       "0        NaN                 W                    44.0                 W  ...   \n",
       "1        NaN               WNW                    44.0               NNW  ...   \n",
       "2        NaN               WSW                    46.0                 W  ...   \n",
       "3        NaN                NE                    24.0                SE  ...   \n",
       "4        NaN                 W                    41.0               ENE  ...   \n",
       "\n",
       "  Kelembaban 9 Pagi  Kelembaban 3 Sore  Tekanan Udara 9 Pagi  \\\n",
       "0              71.0               22.0                1007.7   \n",
       "1              44.0               25.0                1010.6   \n",
       "2              38.0               30.0                1007.6   \n",
       "3              45.0               16.0                1017.6   \n",
       "4              82.0               33.0                1010.8   \n",
       "\n",
       "   Tekanan Udara 3 Sore  Awan 9 Pagi  Awan 3 Sore  Suhu Celcius 9 Pagi  \\\n",
       "0                1007.1          8.0          NaN                 16.9   \n",
       "1                1007.8          NaN          NaN                 17.2   \n",
       "2                1008.7          NaN          2.0                 21.0   \n",
       "3                1012.8          NaN          NaN                 18.1   \n",
       "4                1006.0          7.0          8.0                 17.8   \n",
       "\n",
       "   Suhu Celcius 3 Sore  Hari ini Hujan  Hari besok Hujan  \n",
       "0                 21.8              No                No  \n",
       "1                 24.3              No                No  \n",
       "2                 23.2              No                No  \n",
       "3                 26.5              No                No  \n",
       "4                 29.7              No                No  \n",
       "\n",
       "[5 rows x 23 columns]"
      ]
     },
     "execution_count": 19,
     "metadata": {},
     "output_type": "execute_result"
    }
   ],
   "source": [
    "# menampilkan 5 data teratas setelah nama kolom direname\n",
    "rainAus_df.head()"
   ]
  },
  {
   "cell_type": "markdown",
   "id": "0a9c9389",
   "metadata": {},
   "source": [
    "### Menghapus data yang label kelas ('Hari besok Hujan') mengandung *missing values*"
   ]
  },
  {
   "cell_type": "code",
   "execution_count": 20,
   "id": "2db2f109",
   "metadata": {},
   "outputs": [],
   "source": [
    "rainAus_df.drop(rainAus_df[\n",
    "    rainAus_df['Hari besok Hujan'].isnull()\n",
    "].index.values,inplace=True)"
   ]
  },
  {
   "cell_type": "markdown",
   "id": "be3f7a9a",
   "metadata": {},
   "source": [
    "### Mengisi *missing values* pada atribut kategorikal kecuali label kelas\n",
    "***\n",
    "- Atribut bertipe kategorikal (kecuali label kelas) yang terdapat *missing values* akan ditangani dengan mengisinya dengan *modus*"
   ]
  },
  {
   "cell_type": "code",
   "execution_count": 21,
   "id": "aba33680",
   "metadata": {},
   "outputs": [],
   "source": [
    "for cat_col in categorical_columns:\n",
    "    rainAus_df[cat_col].fillna(rainAus_df[cat_col].mode()[0],inplace=True)"
   ]
  },
  {
   "cell_type": "markdown",
   "id": "145d46d2",
   "metadata": {},
   "source": [
    "### Mengisi *missing values* pada atribut numerikal "
   ]
  },
  {
   "cell_type": "code",
   "execution_count": 22,
   "id": "afbf7a2e",
   "metadata": {},
   "outputs": [],
   "source": [
    "for num_col in numerical_columns:\n",
    "    rainAus_df[num_col].fillna(rainAus_df[num_col].median(),inplace=True)    "
   ]
  },
  {
   "cell_type": "markdown",
   "id": "71b22c14",
   "metadata": {},
   "source": [
    "### Mengecek rangkuman total missing values untuk setiap kolom"
   ]
  },
  {
   "cell_type": "code",
   "execution_count": 23,
   "id": "157d617f",
   "metadata": {},
   "outputs": [
    {
     "data": {
      "text/plain": [
       "Tanggal                   0\n",
       "Kota                      0\n",
       "Suhu Minimum              0\n",
       "Suhu Maximum              0\n",
       "Curah Hujan               0\n",
       "Penguapan                 0\n",
       "Jam Cerah                 0\n",
       "Arah Angin 24 jam         0\n",
       "Kecepatan Angin 24 jam    0\n",
       "Arah Angin 9 Pagi         0\n",
       "Arah Angin 3 Sore         0\n",
       "Kecepatan Angin 9 Pagi    0\n",
       "Kecepatan Angin 3 Sore    0\n",
       "Kelembaban 9 Pagi         0\n",
       "Kelembaban 3 Sore         0\n",
       "Tekanan Udara 9 Pagi      0\n",
       "Tekanan Udara 3 Sore      0\n",
       "Awan 9 Pagi               0\n",
       "Awan 3 Sore               0\n",
       "Suhu Celcius 9 Pagi       0\n",
       "Suhu Celcius 3 Sore       0\n",
       "Hari ini Hujan            0\n",
       "Hari besok Hujan          0\n",
       "dtype: int64"
      ]
     },
     "execution_count": 23,
     "metadata": {},
     "output_type": "execute_result"
    }
   ],
   "source": [
    "rainAus_df.isnull().sum()"
   ]
  },
  {
   "cell_type": "code",
   "execution_count": 24,
   "id": "4d01e28c",
   "metadata": {},
   "outputs": [
    {
     "data": {
      "text/html": [
       "<div>\n",
       "<style scoped>\n",
       "    .dataframe tbody tr th:only-of-type {\n",
       "        vertical-align: middle;\n",
       "    }\n",
       "\n",
       "    .dataframe tbody tr th {\n",
       "        vertical-align: top;\n",
       "    }\n",
       "\n",
       "    .dataframe thead th {\n",
       "        text-align: right;\n",
       "    }\n",
       "</style>\n",
       "<table border=\"1\" class=\"dataframe\">\n",
       "  <thead>\n",
       "    <tr style=\"text-align: right;\">\n",
       "      <th></th>\n",
       "      <th>Tanggal</th>\n",
       "      <th>Kota</th>\n",
       "      <th>Suhu Minimum</th>\n",
       "      <th>Suhu Maximum</th>\n",
       "      <th>Curah Hujan</th>\n",
       "      <th>Penguapan</th>\n",
       "      <th>Jam Cerah</th>\n",
       "      <th>Arah Angin 24 jam</th>\n",
       "      <th>Kecepatan Angin 24 jam</th>\n",
       "      <th>Arah Angin 9 Pagi</th>\n",
       "      <th>...</th>\n",
       "      <th>Kelembaban 9 Pagi</th>\n",
       "      <th>Kelembaban 3 Sore</th>\n",
       "      <th>Tekanan Udara 9 Pagi</th>\n",
       "      <th>Tekanan Udara 3 Sore</th>\n",
       "      <th>Awan 9 Pagi</th>\n",
       "      <th>Awan 3 Sore</th>\n",
       "      <th>Suhu Celcius 9 Pagi</th>\n",
       "      <th>Suhu Celcius 3 Sore</th>\n",
       "      <th>Hari ini Hujan</th>\n",
       "      <th>Hari besok Hujan</th>\n",
       "    </tr>\n",
       "  </thead>\n",
       "  <tbody>\n",
       "    <tr>\n",
       "      <th>0</th>\n",
       "      <td>2008-12-01</td>\n",
       "      <td>Albury</td>\n",
       "      <td>13.4</td>\n",
       "      <td>22.9</td>\n",
       "      <td>0.6</td>\n",
       "      <td>4.8</td>\n",
       "      <td>8.5</td>\n",
       "      <td>W</td>\n",
       "      <td>44.0</td>\n",
       "      <td>W</td>\n",
       "      <td>...</td>\n",
       "      <td>71.0</td>\n",
       "      <td>22.0</td>\n",
       "      <td>1007.7</td>\n",
       "      <td>1007.1</td>\n",
       "      <td>8.0</td>\n",
       "      <td>5.0</td>\n",
       "      <td>16.9</td>\n",
       "      <td>21.8</td>\n",
       "      <td>No</td>\n",
       "      <td>No</td>\n",
       "    </tr>\n",
       "    <tr>\n",
       "      <th>1</th>\n",
       "      <td>2008-12-02</td>\n",
       "      <td>Albury</td>\n",
       "      <td>7.4</td>\n",
       "      <td>25.1</td>\n",
       "      <td>0.0</td>\n",
       "      <td>4.8</td>\n",
       "      <td>8.5</td>\n",
       "      <td>WNW</td>\n",
       "      <td>44.0</td>\n",
       "      <td>NNW</td>\n",
       "      <td>...</td>\n",
       "      <td>44.0</td>\n",
       "      <td>25.0</td>\n",
       "      <td>1010.6</td>\n",
       "      <td>1007.8</td>\n",
       "      <td>5.0</td>\n",
       "      <td>5.0</td>\n",
       "      <td>17.2</td>\n",
       "      <td>24.3</td>\n",
       "      <td>No</td>\n",
       "      <td>No</td>\n",
       "    </tr>\n",
       "    <tr>\n",
       "      <th>2</th>\n",
       "      <td>2008-12-03</td>\n",
       "      <td>Albury</td>\n",
       "      <td>12.9</td>\n",
       "      <td>25.7</td>\n",
       "      <td>0.0</td>\n",
       "      <td>4.8</td>\n",
       "      <td>8.5</td>\n",
       "      <td>WSW</td>\n",
       "      <td>46.0</td>\n",
       "      <td>W</td>\n",
       "      <td>...</td>\n",
       "      <td>38.0</td>\n",
       "      <td>30.0</td>\n",
       "      <td>1007.6</td>\n",
       "      <td>1008.7</td>\n",
       "      <td>5.0</td>\n",
       "      <td>2.0</td>\n",
       "      <td>21.0</td>\n",
       "      <td>23.2</td>\n",
       "      <td>No</td>\n",
       "      <td>No</td>\n",
       "    </tr>\n",
       "    <tr>\n",
       "      <th>3</th>\n",
       "      <td>2008-12-04</td>\n",
       "      <td>Albury</td>\n",
       "      <td>9.2</td>\n",
       "      <td>28.0</td>\n",
       "      <td>0.0</td>\n",
       "      <td>4.8</td>\n",
       "      <td>8.5</td>\n",
       "      <td>NE</td>\n",
       "      <td>24.0</td>\n",
       "      <td>SE</td>\n",
       "      <td>...</td>\n",
       "      <td>45.0</td>\n",
       "      <td>16.0</td>\n",
       "      <td>1017.6</td>\n",
       "      <td>1012.8</td>\n",
       "      <td>5.0</td>\n",
       "      <td>5.0</td>\n",
       "      <td>18.1</td>\n",
       "      <td>26.5</td>\n",
       "      <td>No</td>\n",
       "      <td>No</td>\n",
       "    </tr>\n",
       "    <tr>\n",
       "      <th>4</th>\n",
       "      <td>2008-12-05</td>\n",
       "      <td>Albury</td>\n",
       "      <td>17.5</td>\n",
       "      <td>32.3</td>\n",
       "      <td>1.0</td>\n",
       "      <td>4.8</td>\n",
       "      <td>8.5</td>\n",
       "      <td>W</td>\n",
       "      <td>41.0</td>\n",
       "      <td>ENE</td>\n",
       "      <td>...</td>\n",
       "      <td>82.0</td>\n",
       "      <td>33.0</td>\n",
       "      <td>1010.8</td>\n",
       "      <td>1006.0</td>\n",
       "      <td>7.0</td>\n",
       "      <td>8.0</td>\n",
       "      <td>17.8</td>\n",
       "      <td>29.7</td>\n",
       "      <td>No</td>\n",
       "      <td>No</td>\n",
       "    </tr>\n",
       "  </tbody>\n",
       "</table>\n",
       "<p>5 rows × 23 columns</p>\n",
       "</div>"
      ],
      "text/plain": [
       "      Tanggal    Kota  Suhu Minimum  Suhu Maximum  Curah Hujan  Penguapan  \\\n",
       "0  2008-12-01  Albury          13.4          22.9          0.6        4.8   \n",
       "1  2008-12-02  Albury           7.4          25.1          0.0        4.8   \n",
       "2  2008-12-03  Albury          12.9          25.7          0.0        4.8   \n",
       "3  2008-12-04  Albury           9.2          28.0          0.0        4.8   \n",
       "4  2008-12-05  Albury          17.5          32.3          1.0        4.8   \n",
       "\n",
       "   Jam Cerah Arah Angin 24 jam  Kecepatan Angin 24 jam Arah Angin 9 Pagi  ...  \\\n",
       "0        8.5                 W                    44.0                 W  ...   \n",
       "1        8.5               WNW                    44.0               NNW  ...   \n",
       "2        8.5               WSW                    46.0                 W  ...   \n",
       "3        8.5                NE                    24.0                SE  ...   \n",
       "4        8.5                 W                    41.0               ENE  ...   \n",
       "\n",
       "  Kelembaban 9 Pagi  Kelembaban 3 Sore  Tekanan Udara 9 Pagi  \\\n",
       "0              71.0               22.0                1007.7   \n",
       "1              44.0               25.0                1010.6   \n",
       "2              38.0               30.0                1007.6   \n",
       "3              45.0               16.0                1017.6   \n",
       "4              82.0               33.0                1010.8   \n",
       "\n",
       "   Tekanan Udara 3 Sore  Awan 9 Pagi  Awan 3 Sore  Suhu Celcius 9 Pagi  \\\n",
       "0                1007.1          8.0          5.0                 16.9   \n",
       "1                1007.8          5.0          5.0                 17.2   \n",
       "2                1008.7          5.0          2.0                 21.0   \n",
       "3                1012.8          5.0          5.0                 18.1   \n",
       "4                1006.0          7.0          8.0                 17.8   \n",
       "\n",
       "   Suhu Celcius 3 Sore  Hari ini Hujan  Hari besok Hujan  \n",
       "0                 21.8              No                No  \n",
       "1                 24.3              No                No  \n",
       "2                 23.2              No                No  \n",
       "3                 26.5              No                No  \n",
       "4                 29.7              No                No  \n",
       "\n",
       "[5 rows x 23 columns]"
      ]
     },
     "execution_count": 24,
     "metadata": {},
     "output_type": "execute_result"
    }
   ],
   "source": [
    "# menampilkan 5 data teratas setelah penanganan missing values\n",
    "rainAus_df.head()"
   ]
  },
  {
   "cell_type": "markdown",
   "id": "70bba5e9",
   "metadata": {},
   "source": [
    "*Missing values* pada dataset sudah berhasil ditangani untuk atribut kategorikal dan numerikal"
   ]
  },
  {
   "cell_type": "markdown",
   "id": "0b02a0b2",
   "metadata": {},
   "source": [
    "### Menghapus kolom yang tidak dipakai\n",
    "***\n",
    "Kolom **Tanggal** akan diubah menjadi tipe *datetime*, lalu akan di-*breakdown* menjadi **Tahun, Bulan, Hari**. Selanjutnya kolom **Tanggal** akan dihapus"
   ]
  },
  {
   "cell_type": "code",
   "execution_count": 25,
   "id": "cffa24ec",
   "metadata": {},
   "outputs": [],
   "source": [
    "# mengubah tipe data menjadi datetime\n",
    "rainAus_df['Tanggal'] = pd.to_datetime(rainAus_df['Tanggal'])\n",
    "\n",
    "# ambil Tahun,Bulan,Hari dan jadikan atribut\n",
    "rainAus_df['Tahun'] = rainAus_df['Tanggal'].dt.year\n",
    "rainAus_df['Bulan'] = rainAus_df['Tanggal'].dt.month_name()\n",
    "rainAus_df['Hari'] = rainAus_df['Tanggal'].dt.day_name()\n",
    "\n",
    "# drop kolom \"Tanggal\"\n",
    "rainAus_df.drop('Tanggal', axis=1,inplace=True)"
   ]
  },
  {
   "cell_type": "code",
   "execution_count": 26,
   "id": "96266522",
   "metadata": {},
   "outputs": [
    {
     "data": {
      "text/html": [
       "<div>\n",
       "<style scoped>\n",
       "    .dataframe tbody tr th:only-of-type {\n",
       "        vertical-align: middle;\n",
       "    }\n",
       "\n",
       "    .dataframe tbody tr th {\n",
       "        vertical-align: top;\n",
       "    }\n",
       "\n",
       "    .dataframe thead th {\n",
       "        text-align: right;\n",
       "    }\n",
       "</style>\n",
       "<table border=\"1\" class=\"dataframe\">\n",
       "  <thead>\n",
       "    <tr style=\"text-align: right;\">\n",
       "      <th></th>\n",
       "      <th>Kota</th>\n",
       "      <th>Suhu Minimum</th>\n",
       "      <th>Suhu Maximum</th>\n",
       "      <th>Curah Hujan</th>\n",
       "      <th>Penguapan</th>\n",
       "      <th>Jam Cerah</th>\n",
       "      <th>Arah Angin 24 jam</th>\n",
       "      <th>Kecepatan Angin 24 jam</th>\n",
       "      <th>Arah Angin 9 Pagi</th>\n",
       "      <th>Arah Angin 3 Sore</th>\n",
       "      <th>...</th>\n",
       "      <th>Tekanan Udara 3 Sore</th>\n",
       "      <th>Awan 9 Pagi</th>\n",
       "      <th>Awan 3 Sore</th>\n",
       "      <th>Suhu Celcius 9 Pagi</th>\n",
       "      <th>Suhu Celcius 3 Sore</th>\n",
       "      <th>Hari ini Hujan</th>\n",
       "      <th>Hari besok Hujan</th>\n",
       "      <th>Tahun</th>\n",
       "      <th>Bulan</th>\n",
       "      <th>Hari</th>\n",
       "    </tr>\n",
       "  </thead>\n",
       "  <tbody>\n",
       "    <tr>\n",
       "      <th>0</th>\n",
       "      <td>Albury</td>\n",
       "      <td>13.4</td>\n",
       "      <td>22.9</td>\n",
       "      <td>0.6</td>\n",
       "      <td>4.8</td>\n",
       "      <td>8.5</td>\n",
       "      <td>W</td>\n",
       "      <td>44.0</td>\n",
       "      <td>W</td>\n",
       "      <td>WNW</td>\n",
       "      <td>...</td>\n",
       "      <td>1007.1</td>\n",
       "      <td>8.0</td>\n",
       "      <td>5.0</td>\n",
       "      <td>16.9</td>\n",
       "      <td>21.8</td>\n",
       "      <td>No</td>\n",
       "      <td>No</td>\n",
       "      <td>2008</td>\n",
       "      <td>December</td>\n",
       "      <td>Monday</td>\n",
       "    </tr>\n",
       "    <tr>\n",
       "      <th>1</th>\n",
       "      <td>Albury</td>\n",
       "      <td>7.4</td>\n",
       "      <td>25.1</td>\n",
       "      <td>0.0</td>\n",
       "      <td>4.8</td>\n",
       "      <td>8.5</td>\n",
       "      <td>WNW</td>\n",
       "      <td>44.0</td>\n",
       "      <td>NNW</td>\n",
       "      <td>WSW</td>\n",
       "      <td>...</td>\n",
       "      <td>1007.8</td>\n",
       "      <td>5.0</td>\n",
       "      <td>5.0</td>\n",
       "      <td>17.2</td>\n",
       "      <td>24.3</td>\n",
       "      <td>No</td>\n",
       "      <td>No</td>\n",
       "      <td>2008</td>\n",
       "      <td>December</td>\n",
       "      <td>Tuesday</td>\n",
       "    </tr>\n",
       "    <tr>\n",
       "      <th>2</th>\n",
       "      <td>Albury</td>\n",
       "      <td>12.9</td>\n",
       "      <td>25.7</td>\n",
       "      <td>0.0</td>\n",
       "      <td>4.8</td>\n",
       "      <td>8.5</td>\n",
       "      <td>WSW</td>\n",
       "      <td>46.0</td>\n",
       "      <td>W</td>\n",
       "      <td>WSW</td>\n",
       "      <td>...</td>\n",
       "      <td>1008.7</td>\n",
       "      <td>5.0</td>\n",
       "      <td>2.0</td>\n",
       "      <td>21.0</td>\n",
       "      <td>23.2</td>\n",
       "      <td>No</td>\n",
       "      <td>No</td>\n",
       "      <td>2008</td>\n",
       "      <td>December</td>\n",
       "      <td>Wednesday</td>\n",
       "    </tr>\n",
       "    <tr>\n",
       "      <th>3</th>\n",
       "      <td>Albury</td>\n",
       "      <td>9.2</td>\n",
       "      <td>28.0</td>\n",
       "      <td>0.0</td>\n",
       "      <td>4.8</td>\n",
       "      <td>8.5</td>\n",
       "      <td>NE</td>\n",
       "      <td>24.0</td>\n",
       "      <td>SE</td>\n",
       "      <td>E</td>\n",
       "      <td>...</td>\n",
       "      <td>1012.8</td>\n",
       "      <td>5.0</td>\n",
       "      <td>5.0</td>\n",
       "      <td>18.1</td>\n",
       "      <td>26.5</td>\n",
       "      <td>No</td>\n",
       "      <td>No</td>\n",
       "      <td>2008</td>\n",
       "      <td>December</td>\n",
       "      <td>Thursday</td>\n",
       "    </tr>\n",
       "    <tr>\n",
       "      <th>4</th>\n",
       "      <td>Albury</td>\n",
       "      <td>17.5</td>\n",
       "      <td>32.3</td>\n",
       "      <td>1.0</td>\n",
       "      <td>4.8</td>\n",
       "      <td>8.5</td>\n",
       "      <td>W</td>\n",
       "      <td>41.0</td>\n",
       "      <td>ENE</td>\n",
       "      <td>NW</td>\n",
       "      <td>...</td>\n",
       "      <td>1006.0</td>\n",
       "      <td>7.0</td>\n",
       "      <td>8.0</td>\n",
       "      <td>17.8</td>\n",
       "      <td>29.7</td>\n",
       "      <td>No</td>\n",
       "      <td>No</td>\n",
       "      <td>2008</td>\n",
       "      <td>December</td>\n",
       "      <td>Friday</td>\n",
       "    </tr>\n",
       "  </tbody>\n",
       "</table>\n",
       "<p>5 rows × 25 columns</p>\n",
       "</div>"
      ],
      "text/plain": [
       "     Kota  Suhu Minimum  Suhu Maximum  Curah Hujan  Penguapan  Jam Cerah  \\\n",
       "0  Albury          13.4          22.9          0.6        4.8        8.5   \n",
       "1  Albury           7.4          25.1          0.0        4.8        8.5   \n",
       "2  Albury          12.9          25.7          0.0        4.8        8.5   \n",
       "3  Albury           9.2          28.0          0.0        4.8        8.5   \n",
       "4  Albury          17.5          32.3          1.0        4.8        8.5   \n",
       "\n",
       "  Arah Angin 24 jam  Kecepatan Angin 24 jam Arah Angin 9 Pagi  \\\n",
       "0                 W                    44.0                 W   \n",
       "1               WNW                    44.0               NNW   \n",
       "2               WSW                    46.0                 W   \n",
       "3                NE                    24.0                SE   \n",
       "4                 W                    41.0               ENE   \n",
       "\n",
       "  Arah Angin 3 Sore  ...  Tekanan Udara 3 Sore  Awan 9 Pagi  Awan 3 Sore  \\\n",
       "0               WNW  ...                1007.1          8.0          5.0   \n",
       "1               WSW  ...                1007.8          5.0          5.0   \n",
       "2               WSW  ...                1008.7          5.0          2.0   \n",
       "3                 E  ...                1012.8          5.0          5.0   \n",
       "4                NW  ...                1006.0          7.0          8.0   \n",
       "\n",
       "   Suhu Celcius 9 Pagi  Suhu Celcius 3 Sore  Hari ini Hujan  Hari besok Hujan  \\\n",
       "0                 16.9                 21.8              No                No   \n",
       "1                 17.2                 24.3              No                No   \n",
       "2                 21.0                 23.2              No                No   \n",
       "3                 18.1                 26.5              No                No   \n",
       "4                 17.8                 29.7              No                No   \n",
       "\n",
       "   Tahun     Bulan       Hari  \n",
       "0   2008  December     Monday  \n",
       "1   2008  December    Tuesday  \n",
       "2   2008  December  Wednesday  \n",
       "3   2008  December   Thursday  \n",
       "4   2008  December     Friday  \n",
       "\n",
       "[5 rows x 25 columns]"
      ]
     },
     "execution_count": 26,
     "metadata": {},
     "output_type": "execute_result"
    }
   ],
   "source": [
    "rainAus_df.head()"
   ]
  },
  {
   "cell_type": "code",
   "execution_count": 27,
   "id": "962c9288",
   "metadata": {},
   "outputs": [
    {
     "name": "stdout",
     "output_type": "stream",
     "text": [
      "<class 'pandas.core.frame.DataFrame'>\n",
      "Int64Index: 142193 entries, 0 to 145458\n",
      "Data columns (total 25 columns):\n",
      " #   Column                  Non-Null Count   Dtype  \n",
      "---  ------                  --------------   -----  \n",
      " 0   Kota                    142193 non-null  object \n",
      " 1   Suhu Minimum            142193 non-null  float64\n",
      " 2   Suhu Maximum            142193 non-null  float64\n",
      " 3   Curah Hujan             142193 non-null  float64\n",
      " 4   Penguapan               142193 non-null  float64\n",
      " 5   Jam Cerah               142193 non-null  float64\n",
      " 6   Arah Angin 24 jam       142193 non-null  object \n",
      " 7   Kecepatan Angin 24 jam  142193 non-null  float64\n",
      " 8   Arah Angin 9 Pagi       142193 non-null  object \n",
      " 9   Arah Angin 3 Sore       142193 non-null  object \n",
      " 10  Kecepatan Angin 9 Pagi  142193 non-null  float64\n",
      " 11  Kecepatan Angin 3 Sore  142193 non-null  float64\n",
      " 12  Kelembaban 9 Pagi       142193 non-null  float64\n",
      " 13  Kelembaban 3 Sore       142193 non-null  float64\n",
      " 14  Tekanan Udara 9 Pagi    142193 non-null  float64\n",
      " 15  Tekanan Udara 3 Sore    142193 non-null  float64\n",
      " 16  Awan 9 Pagi             142193 non-null  float64\n",
      " 17  Awan 3 Sore             142193 non-null  float64\n",
      " 18  Suhu Celcius 9 Pagi     142193 non-null  float64\n",
      " 19  Suhu Celcius 3 Sore     142193 non-null  float64\n",
      " 20  Hari ini Hujan          142193 non-null  object \n",
      " 21  Hari besok Hujan        142193 non-null  object \n",
      " 22  Tahun                   142193 non-null  int64  \n",
      " 23  Bulan                   142193 non-null  object \n",
      " 24  Hari                    142193 non-null  object \n",
      "dtypes: float64(16), int64(1), object(8)\n",
      "memory usage: 28.2+ MB\n"
     ]
    }
   ],
   "source": [
    "rainAus_df.info()"
   ]
  },
  {
   "cell_type": "markdown",
   "id": "fa19d152",
   "metadata": {},
   "source": [
    "### Mengelompokkan atribut berdasarkan tipe datanya\n",
    "***\n",
    "1. Numerikal atribut\n",
    "- continous \n",
    "- diskrit\n",
    "2. Kategorikal atribut\n",
    "- ordinal\n",
    "- nominal"
   ]
  },
  {
   "cell_type": "code",
   "execution_count": 28,
   "id": "648bc173",
   "metadata": {},
   "outputs": [],
   "source": [
    "numerical_columns = rainAus_df.select_dtypes(include=['float64', 'int64']).columns.values\n",
    "diskrit_columns = ['Awan 9 Pagi','Awan 3 Sore','Tahun']\n",
    "continuous_columns = [col for col in numerical_columns if col not in diskrit_columns]\n",
    "\n",
    "categorical_columns = rainAus_df.select_dtypes(include=['object']).columns.values\n",
    "ordinal_columns = ['Hari ini Hujan', 'Hari besok Hujan']\n",
    "nominal_columns = [col for col in categorical_columns if col not in ordinal_columns]"
   ]
  },
  {
   "cell_type": "markdown",
   "id": "5facbc8f",
   "metadata": {},
   "source": [
    "## Explorasi Data"
   ]
  },
  {
   "cell_type": "markdown",
   "id": "5f686453",
   "metadata": {},
   "source": [
    "### Melakukan Data Query, Grouping, dan Visualisasi"
   ]
  },
  {
   "cell_type": "markdown",
   "id": "7a39fcad",
   "metadata": {},
   "source": [
    "#### Persentase setiap label kelasnya"
   ]
  },
  {
   "cell_type": "code",
   "execution_count": 29,
   "id": "705af54c",
   "metadata": {},
   "outputs": [
    {
     "data": {
      "text/plain": [
       "<matplotlib.legend.Legend at 0x237609a6088>"
      ]
     },
     "execution_count": 29,
     "metadata": {},
     "output_type": "execute_result"
    },
    {
     "data": {
      "image/png": "[encoded data removed]",
      "text/plain": [
       "<Figure size 1152x432 with 2 Axes>"
      ]
     },
     "metadata": {
      "needs_background": "light"
     },
     "output_type": "display_data"
    }
   ],
   "source": [
    "fig, ax = plt.subplots(1,2,figsize=(16,6))\n",
    "\n",
    "# persentase \"Hari besok Hujan\"\n",
    "rainAus_df['Hari besok Hujan'].value_counts().plot(\n",
    "    kind='pie',\n",
    "    autopct='%.1f%%',\n",
    "    explode=[0,0.05], \n",
    "    cmap='RdYlGn',\n",
    "    shadow=True,\n",
    "    ax=ax[0]\n",
    ")\n",
    "ax[0].set_title('Persentase Hari besok Hujan')\n",
    "ax[0].set_ylabel('')\n",
    "\n",
    "# Barchart besaran setiap nilai pada kelas target\n",
    "rainAus_df.groupby('Hari besok Hujan').agg({'Hari besok Hujan':'count'}).plot(\n",
    "    kind='bar',\n",
    "    ax=ax[1]\n",
    ")\n",
    "ax[1].set_title('Jumlah masing-masing kelas untuk label Hari besok Hujan')\n",
    "ax[1].set_ylabel('Jumlah')\n",
    "ax[1].set_xlabel('Hari besok Hujan')\n",
    "ax[1].legend(title='Label Target')"
   ]
  },
  {
   "cell_type": "markdown",
   "id": "083fc4c9",
   "metadata": {},
   "source": [
    "**ANALISIS** <br>\n",
    "1. Persentase 'Hari besok Hujan' untuk label **Yes** sebesar 22,4% dan label **No** sebesar 77,6%.\n",
    "2. Ada imbalanced label pada sampel dataset, label **No** 3x lebih banyak dibandingkan label **Yes**\n",
    "3. Hal ini mungkin akan menyebabkan pengaruh ke model klasifikasi dalam menghasilkan *recall* yang tidak optimal. **Sampling** mungkin diperlukan dalam melatih model dengan subsampel yang seimbang"
   ]
  },
  {
   "cell_type": "markdown",
   "id": "f9ca736d",
   "metadata": {},
   "source": [
    "#### Persentase \"Hari besok Hujan\" berdasarkan Kota"
   ]
  },
  {
   "cell_type": "code",
   "execution_count": 30,
   "id": "238d5d32",
   "metadata": {},
   "outputs": [
    {
     "data": {
      "image/png": "[encoded data removed]",
      "text/plain": [
       "<Figure size 720x1296 with 1 Axes>"
      ]
     },
     "metadata": {
      "needs_background": "light"
     },
     "output_type": "display_data"
    }
   ],
   "source": [
    "# kelompokkan data berdasarkan Kota untuk label = 'No'\n",
    "kota_no = rainAus_df[\n",
    "    (rainAus_df['Hari besok Hujan']==\"No\")\n",
    "].groupby('Kota').agg({'Hari besok Hujan':'count'}).sort_values(by='Hari besok Hujan')\n",
    "kota_no.plot(kind='barh', figsize=(10,18), color=['red'])\n",
    "\n",
    "plt.ylabel(\"Kota di Australia\", fontsize=14)\n",
    "plt.xlabel(\"Jumlah kejadian\", fontsize=14)\n",
    "plt.title(\"Jumlah kejadian Hari besok Hujan = 'No' Berdasarkan kota di Australia\")\n",
    "plt.legend()\n",
    "plt.show()"
   ]
  },
  {
   "cell_type": "markdown",
   "id": "5c375811",
   "metadata": {},
   "source": [
    "Kota **Canberra, Woomera, AliceSprings, Mildura, Cobar** menjadi lima kota dengan data kejadian \"Hari besok Hujan\" berlabel 'No' tertinggi (Tidak ada kejadian hujan di hari besoknya)"
   ]
  },
  {
   "cell_type": "code",
   "execution_count": 31,
   "id": "7c4304c6",
   "metadata": {},
   "outputs": [
    {
     "data": {
      "image/png": "[encoded data removed]",
      "text/plain": [
       "<Figure size 720x1296 with 1 Axes>"
      ]
     },
     "metadata": {
      "needs_background": "light"
     },
     "output_type": "display_data"
    }
   ],
   "source": [
    "# kelompokkan data berdasarkan Kota untuk label = 'Yes'\n",
    "kota_yes = rainAus_df[\n",
    "    (rainAus_df['Hari besok Hujan']==\"Yes\")\n",
    "].groupby('Kota').agg({'Hari besok Hujan':'count'}).sort_values(by='Hari besok Hujan')\n",
    "kota_yes.plot(kind='barh', figsize=(10,18), color=['lightblue'])\n",
    "\n",
    "plt.ylabel(\"Kota di Australia\", fontsize=14)\n",
    "plt.xlabel(\"Jumlah kejadian\", fontsize=14)\n",
    "plt.title(\"Jumlah kejadian Hari besok Hujan = 'Yes' Berdasarkan kota di Australia\")\n",
    "plt.legend()\n",
    "plt.show()"
   ]
  },
  {
   "cell_type": "markdown",
   "id": "48dfd9b4",
   "metadata": {},
   "source": [
    "Kota **Portland, Caims, Walpole, Dartmoor, MountGambier** menjadi lima kota dengan data kejadian \"Hari besok Hujan\" berlabel 'Yes' tertinggi (Ada kejadian hujan di hari besoknya)"
   ]
  },
  {
   "cell_type": "code",
   "execution_count": 32,
   "id": "d95e040c",
   "metadata": {},
   "outputs": [
    {
     "data": {
      "image/png": "[encoded data removed]",
      "text/plain": [
       "<Figure size 648x1368 with 1 Axes>"
      ]
     },
     "metadata": {
      "needs_background": "light"
     },
     "output_type": "display_data"
    }
   ],
   "source": [
    "# Target 'No' berdasarkan kota\n",
    "kota_no = rainAus_df[\n",
    "    (rainAus_df['Hari besok Hujan']==\"No\")\n",
    "].groupby('Kota').count()['Hari besok Hujan'].values\n",
    "\n",
    "# Target 'Yes' berdasarkan kota\n",
    "kota_yes = rainAus_df[\n",
    "    (rainAus_df['Hari besok Hujan']==\"Yes\")\n",
    "].groupby('Kota').count()['Hari besok Hujan'].values\n",
    "\n",
    "# Visualize\n",
    "sumbu_y_ticks = list(rainAus_df['Kota'].unique())\n",
    "sumbu_y_axis = np.arange(0,len(sumbu_y_ticks),1)\n",
    "\n",
    "plt.figure(figsize=(9,19))\n",
    "plt.barh(sumbu_y_axis-0.2, kota_no,0.4,label='No')\n",
    "plt.barh(sumbu_y_axis + 0.2, kota_yes, 0.4, label = 'yes')\n",
    "plt.yticks(sumbu_y_axis,sumbu_y_ticks, )\n",
    "plt.ylabel(\"Kota di Australia\", fontsize=14)\n",
    "plt.xlabel(\"Jumlah kejadian Hari besok Hujan\", fontsize=14)\n",
    "plt.title(\"Besaran setiap label target untuk setiap kota di Australia\")\n",
    "plt.legend()\n",
    "plt.show()"
   ]
  },
  {
   "cell_type": "markdown",
   "id": "c24a662e",
   "metadata": {},
   "source": [
    "#### Menampilkan histogram untuk setiap atribut bertipe continous\n",
    "***\n",
    "- Untuk mengetahui distribusi data\n",
    "- Untuk mengetahui ada atau tidaknya outliers"
   ]
  },
  {
   "cell_type": "code",
   "execution_count": 33,
   "id": "d3c30860",
   "metadata": {},
   "outputs": [
    {
     "data": {
      "image/png": "[encoded data removed]",
      "text/plain": [
       "<Figure size 864x2016 with 14 Axes>"
      ]
     },
     "metadata": {
      "needs_background": "light"
     },
     "output_type": "display_data"
    }
   ],
   "source": [
    "n_rows = int(len(numerical_columns)/2)+1\n",
    "n_cols = 2\n",
    "\n",
    "fig = plt.figure(figsize=(12,28))\n",
    "axs = []\n",
    "\n",
    "\n",
    "number_plot=1\n",
    "for num_col in continuous_columns: \n",
    "    axs.append(fig.add_subplot(n_rows,n_cols,number_plot))\n",
    "    sns.histplot(rainAus_df[num_col],kde=True,ax=axs[number_plot-1])\n",
    "    \n",
    "    axs[number_plot-1].set_xlabel(num_col, fontsize=12)\n",
    "    axs[number_plot-1].set_ylabel(\"Jumlah\", fontsize=12)\n",
    "    axs[number_plot-1].set_title(\"Distribusi Frekuensi Atribut ({})\".format(num_col), fontsize=12)    \n",
    "    \n",
    "    \n",
    "    number_plot+=1\n",
    "\n",
    "fig.tight_layout()"
   ]
  },
  {
   "cell_type": "markdown",
   "id": "616ed116",
   "metadata": {},
   "source": [
    "**ANALISIS** <br>\n",
    "Masih ada beberapa atribut yang distribusinya tidak normal dan cenderung skew. <br>"
   ]
  },
  {
   "cell_type": "markdown",
   "id": "f14eea65",
   "metadata": {},
   "source": [
    "#### Apakah ada hubungan \"Hari ini Hujan\" dengan \"Hari besok Hujan\"?"
   ]
  },
  {
   "cell_type": "code",
   "execution_count": 34,
   "id": "598d3145",
   "metadata": {},
   "outputs": [
    {
     "data": {
      "image/png": "[encoded data removed]",
      "text/plain": [
       "<Figure size 1008x576 with 2 Axes>"
      ]
     },
     "metadata": {
      "needs_background": "light"
     },
     "output_type": "display_data"
    }
   ],
   "source": [
    "fig,ax = plt.subplots(1,2, figsize=(14,8))\n",
    "\n",
    "# persentase 'Hari ini Hujan' dalam pie chart\n",
    "rainAus_df['Hari ini Hujan'].value_counts().plot(\n",
    "    kind='pie', \n",
    "    ax=ax[0], \n",
    "    autopct='%.1f%%',\n",
    "    explode=[0,0.1], \n",
    "    cmap='coolwarm',\n",
    "    shadow=True\n",
    ")\n",
    "ax[0].set_title('Persentase jumlah kejadian Hari ini Hujan')\n",
    "\n",
    "# \n",
    "sns.countplot(\n",
    "    x='Hari ini Hujan',\n",
    "    hue='Hari besok Hujan',\n",
    "    data=rainAus_df\n",
    ")\n",
    "ax[1].set_title('Pengaruh Hari ini Hujan dengan Hari besok Hujan')\n",
    "ax[1].set_ylabel('Jumlah Kejadian')\n",
    "fig.tight_layout()"
   ]
  },
  {
   "cell_type": "markdown",
   "id": "1e5725ff",
   "metadata": {},
   "source": [
    "**ANALISIS** <br>\n",
    "- Ada 78,1% \"Hari ini Hujan\" berlabel \"No\n",
    "- Kalau \"Hari ini Hujan\" dengan label 'No' maka kemungkinan besar 'Hari besok Hujan' berlabel 'No'. \n",
    "- Jumlah kejadian untuk setiap pasangan lainnya adalah seimbang, jadi 'Hari ini Hujan' tidak bisa dijadikan satu-satunya penentu 'Hari besok Hujan'"
   ]
  },
  {
   "cell_type": "markdown",
   "id": "4fd03179",
   "metadata": {},
   "source": [
    "#### Memvisualisasikan outliers pada continous column dengan BoxPlot"
   ]
  },
  {
   "cell_type": "code",
   "execution_count": 35,
   "id": "f04d7d41",
   "metadata": {},
   "outputs": [
    {
     "data": {
      "image/png": "[encoded data removed]",
      "text/plain": [
       "<Figure size 1152x3024 with 14 Axes>"
      ]
     },
     "metadata": {
      "needs_background": "light"
     },
     "output_type": "display_data"
    }
   ],
   "source": [
    "n_rows = int(len(continuous_columns)/2)+1\n",
    "n_cols = 2\n",
    "\n",
    "fig = plt.figure(figsize=(16,42))\n",
    "axs = []\n",
    "number_plot=1\n",
    "\n",
    "for con_col in continuous_columns:\n",
    "    axs.append(fig.add_subplot(n_rows,n_cols,number_plot))\n",
    "    sns.boxplot(x=con_col,data=rainAus_df,ax=axs[number_plot-1])\n",
    "   \n",
    "    axs[number_plot-1].set_xlabel(con_col, fontsize=12)\n",
    "    axs[number_plot-1].set_title(\"Boxplot Atribut ({})\".format(con_col), fontsize=12)    \n",
    "    \n",
    "    number_plot+=1\n",
    "\n",
    "fig.tight_layout(h_pad=1.5,w_pad=0.5)"
   ]
  },
  {
   "cell_type": "markdown",
   "id": "2fa6c47d",
   "metadata": {},
   "source": [
    "**ANALISIS** <br>\n",
    "- Seluruh atribut continous (kecuali **Kelembaban 3 Sore**) memiliki outliers yang cukup signifikan\n",
    "- Perlu penanganan lebih lanjut di **preprocessing** untuk outliers ini"
   ]
  },
  {
   "cell_type": "markdown",
   "id": "d6b9035a",
   "metadata": {},
   "source": [
    "### Melihat Pengaruh atribut ke target"
   ]
  },
  {
   "cell_type": "markdown",
   "id": "abfc2619",
   "metadata": {},
   "source": [
    "#### Pengaruh atribut numerikal ke target kategorikal (ANOVA F-Score)\n",
    "***\n",
    "Untuk melihat pengaruh ini akan dihitung ANOVA F-Score dari setiap atribut terhadap kelas target"
   ]
  },
  {
   "cell_type": "code",
   "execution_count": 36,
   "id": "b9ff4c0c",
   "metadata": {},
   "outputs": [],
   "source": [
    "# Menyiapkan data (atribut dan target) hanya untuk tipe numerikal\n",
    "X_numerical = rainAus_df.loc[:,numerical_columns]\n",
    "y_numerical= rainAus_df['Hari besok Hujan'].replace({'Yes':1,'No':0})"
   ]
  },
  {
   "cell_type": "code",
   "execution_count": 37,
   "id": "f15c52a6",
   "metadata": {},
   "outputs": [],
   "source": [
    "# instansiasi objek untuk anova\n",
    "anova_fs = SelectKBest(score_func=f_classif,k='all')\n",
    "\n",
    "# fitting ke data\n",
    "anova_fs = anova_fs.fit(X_numerical,y_numerical)"
   ]
  },
  {
   "cell_type": "code",
   "execution_count": 38,
   "id": "0b38b852",
   "metadata": {},
   "outputs": [
    {
     "data": {
      "text/plain": [
       "Text(0.5, 1.0, 'F-Score setiap atribut numerik terhadap Target')"
      ]
     },
     "execution_count": 38,
     "metadata": {},
     "output_type": "execute_result"
    },
    {
     "data": {
      "image/png": "[encoded data removed]",
      "text/plain": [
       "<Figure size 864x720 with 1 Axes>"
      ]
     },
     "metadata": {
      "needs_background": "light"
     },
     "output_type": "display_data"
    }
   ],
   "source": [
    "# Plotting score setiap atribut\n",
    "plt.figure(figsize=(12,10))\n",
    "plt.barh([num_col for num_col in numerical_columns], anova_fs.scores_)\n",
    "plt.ylabel('Daftar Atribut Numerik', fontsize=12)\n",
    "plt.xlabel('Nilai F-Score', fontsize=12)\n",
    "plt.title('F-Score setiap atribut numerik terhadap Target',fontsize=12)"
   ]
  },
  {
   "cell_type": "markdown",
   "id": "9e870673",
   "metadata": {},
   "source": [
    "**ANALISIS** <br>\n",
    "Hasil ini bisa menjadi dasar dalam pengambilan keputusan pada langkah **Data Preprocessing** khususnya pada **Feature Engineering**. <br>\n",
    "Interpretasi hasil gambar di atas: <br>\n",
    "1. Semakin besar nilai F-score semakin besar hubungan atau korelasi atribut tersebut dengan kelas target\n",
    "2. Semakin kecil nilai F-Score semakin kecil hubungan atau korelasi atribut tersebut dengan kelas target\n",
    "3. Atribut **Tahun, Suhu Celcius 9 Pagi** menjadi dua atribut dengan kepentingan atribut terkecil dengan kelas target\n",
    "4. Atribut **Kelembabab 3 Sore** paling menentukan apakah kejadian pada \"Hari besok Hujan\""
   ]
  },
  {
   "cell_type": "markdown",
   "id": "67557dd7",
   "metadata": {},
   "source": [
    "#### Pengaruh atribut kategorikal ke target kategorikal (Mutual Information)\n",
    "***\n",
    "Untuk melihat pengaruh ini bisa menggunakan Mutual Information dari setiap atribut terhadap kelas target"
   ]
  },
  {
   "cell_type": "code",
   "execution_count": 39,
   "id": "6ec49879",
   "metadata": {},
   "outputs": [],
   "source": [
    "# remove atribut 'Hari besok Hujan' karena merupakan target yang ingin dicari \n",
    "ls_categorical_columns = list(categorical_columns)\n",
    "ls_categorical_columns.remove('Hari besok Hujan')"
   ]
  },
  {
   "cell_type": "code",
   "execution_count": 40,
   "id": "adc0f545",
   "metadata": {},
   "outputs": [],
   "source": [
    "# Menyiapkan data (atribut dan target) hanya untuk tipe kategorikal\n",
    "X_kategorikal = rainAus_df[ls_categorical_columns]\n",
    "y_kategorikal= y_numerical"
   ]
  },
  {
   "cell_type": "code",
   "execution_count": 41,
   "id": "f8062b7d",
   "metadata": {},
   "outputs": [],
   "source": [
    "# Encoding categorical attributes\n",
    "ordinal_encoder = OrdinalEncoder()\n",
    "\n",
    "# fit into data\n",
    "ordinal_encoder = ordinal_encoder.fit(X_kategorikal)\n",
    "\n",
    "# transform into data\n",
    "X_kategorikal_encoded = ordinal_encoder.transform(X_kategorikal)"
   ]
  },
  {
   "cell_type": "code",
   "execution_count": 42,
   "id": "9e823a5a",
   "metadata": {},
   "outputs": [],
   "source": [
    "# instansiasi objek MutualInformation\n",
    "mutual_info_fs = SelectKBest(score_func=mutual_info_classif, k='all')\n",
    "\n",
    "# fit into encoded data\n",
    "mutual_info_fs = mutual_info_fs.fit(X_kategorikal_encoded,y_kategorikal)"
   ]
  },
  {
   "cell_type": "code",
   "execution_count": 43,
   "id": "c2e00beb",
   "metadata": {},
   "outputs": [
    {
     "data": {
      "text/plain": [
       "Text(0.5, 1.0, 'Mutual Information setiap atribut kategorikal terhadap Target')"
      ]
     },
     "execution_count": 43,
     "metadata": {},
     "output_type": "execute_result"
    },
    {
     "data": {
      "image/png": "[encoded data removed]",
      "text/plain": [
       "<Figure size 864x720 with 1 Axes>"
      ]
     },
     "metadata": {
      "needs_background": "light"
     },
     "output_type": "display_data"
    }
   ],
   "source": [
    "# Plotting score setiap atribut kategorikal\n",
    "plt.figure(figsize=(12,10))\n",
    "plt.barh([cat_col for cat_col in ls_categorical_columns], mutual_info_fs.scores_)\n",
    "plt.ylabel('Daftar Atribut Kategorikal', fontsize=12)\n",
    "plt.xlabel('Nilai Mutual Information', fontsize=12)\n",
    "plt.title('Mutual Information setiap atribut kategorikal terhadap Target',fontsize=12)"
   ]
  },
  {
   "cell_type": "markdown",
   "id": "52bf7e09",
   "metadata": {},
   "source": [
    "**ANALISIS** <br>\n",
    "Hasil ini bisa menjadi dasar dalam pengambilan keputusan pada langkah **Data Preprocessing** khususnya pada **Feature Engineering**. <br>\n",
    "Interpretasi hasil gambar di atas: <br>\n",
    "1. Semakin besar nilai Mutual Information semakin besar hubungan atau korelasi atribut tersebut dengan kelas target\n",
    "2. Semakin kecil nilai Mutual Information semakin kecil hubungan atau korelasi atribut tersebut dengan kelas target\n",
    "3. Atribut **Hari,Bulan** menjadi dua atribut dengan kepentingan atribut yang paling kecil dengan kelas target"
   ]
  },
  {
   "cell_type": "markdown",
   "id": "3f750452",
   "metadata": {},
   "source": [
    "### Menghitung central tendency"
   ]
  },
  {
   "cell_type": "markdown",
   "id": "ff12f45c",
   "metadata": {},
   "source": [
    "#### Mean"
   ]
  },
  {
   "cell_type": "code",
   "execution_count": 44,
   "id": "fa73b557",
   "metadata": {},
   "outputs": [],
   "source": [
    "mean_ = rainAus_df[numerical_columns].mean()"
   ]
  },
  {
   "cell_type": "markdown",
   "id": "fc17334d",
   "metadata": {},
   "source": [
    "#### Median"
   ]
  },
  {
   "cell_type": "code",
   "execution_count": 45,
   "id": "2b460ee2",
   "metadata": {},
   "outputs": [],
   "source": [
    "median_ = rainAus_df[numerical_columns].median()"
   ]
  },
  {
   "cell_type": "markdown",
   "id": "51a4e03d",
   "metadata": {},
   "source": [
    "#### Rangkuman Mean dan Median"
   ]
  },
  {
   "cell_type": "code",
   "execution_count": 46,
   "id": "e5eade68",
   "metadata": {},
   "outputs": [],
   "source": [
    "rainAus_df_mean_median = pd.DataFrame(data={\n",
    "    'mean':mean_,\n",
    "    'median':median_\n",
    "}).transpose()"
   ]
  },
  {
   "cell_type": "markdown",
   "id": "f6aceadd",
   "metadata": {},
   "source": [
    "#### Modus\n",
    "***\n",
    "Modus bisa diterapkan untuk data bertipe kategorikal atau numerikal"
   ]
  },
  {
   "cell_type": "code",
   "execution_count": 47,
   "id": "4193b31e",
   "metadata": {},
   "outputs": [
    {
     "data": {
      "text/html": [
       "<div>\n",
       "<style scoped>\n",
       "    .dataframe tbody tr th:only-of-type {\n",
       "        vertical-align: middle;\n",
       "    }\n",
       "\n",
       "    .dataframe tbody tr th {\n",
       "        vertical-align: top;\n",
       "    }\n",
       "\n",
       "    .dataframe thead th {\n",
       "        text-align: right;\n",
       "    }\n",
       "</style>\n",
       "<table border=\"1\" class=\"dataframe\">\n",
       "  <thead>\n",
       "    <tr style=\"text-align: right;\">\n",
       "      <th></th>\n",
       "      <th>Kota</th>\n",
       "      <th>Suhu Minimum</th>\n",
       "      <th>Suhu Maximum</th>\n",
       "      <th>Curah Hujan</th>\n",
       "      <th>Penguapan</th>\n",
       "      <th>Jam Cerah</th>\n",
       "      <th>Arah Angin 24 jam</th>\n",
       "      <th>Kecepatan Angin 24 jam</th>\n",
       "      <th>Arah Angin 9 Pagi</th>\n",
       "      <th>Arah Angin 3 Sore</th>\n",
       "      <th>...</th>\n",
       "      <th>Tekanan Udara 3 Sore</th>\n",
       "      <th>Awan 9 Pagi</th>\n",
       "      <th>Awan 3 Sore</th>\n",
       "      <th>Suhu Celcius 9 Pagi</th>\n",
       "      <th>Suhu Celcius 3 Sore</th>\n",
       "      <th>Hari ini Hujan</th>\n",
       "      <th>Hari besok Hujan</th>\n",
       "      <th>Tahun</th>\n",
       "      <th>Bulan</th>\n",
       "      <th>Hari</th>\n",
       "    </tr>\n",
       "  </thead>\n",
       "  <tbody>\n",
       "    <tr>\n",
       "      <th>0</th>\n",
       "      <td>Canberra</td>\n",
       "      <td>12.0</td>\n",
       "      <td>22.6</td>\n",
       "      <td>0.0</td>\n",
       "      <td>4.8</td>\n",
       "      <td>8.5</td>\n",
       "      <td>W</td>\n",
       "      <td>39.0</td>\n",
       "      <td>N</td>\n",
       "      <td>SE</td>\n",
       "      <td>...</td>\n",
       "      <td>1015.2</td>\n",
       "      <td>5.0</td>\n",
       "      <td>5.0</td>\n",
       "      <td>16.7</td>\n",
       "      <td>21.1</td>\n",
       "      <td>No</td>\n",
       "      <td>No</td>\n",
       "      <td>2016</td>\n",
       "      <td>May</td>\n",
       "      <td>Sunday</td>\n",
       "    </tr>\n",
       "  </tbody>\n",
       "</table>\n",
       "<p>1 rows × 25 columns</p>\n",
       "</div>"
      ],
      "text/plain": [
       "       Kota  Suhu Minimum  Suhu Maximum  Curah Hujan  Penguapan  Jam Cerah  \\\n",
       "0  Canberra          12.0          22.6          0.0        4.8        8.5   \n",
       "\n",
       "  Arah Angin 24 jam  Kecepatan Angin 24 jam Arah Angin 9 Pagi  \\\n",
       "0                 W                    39.0                 N   \n",
       "\n",
       "  Arah Angin 3 Sore  ...  Tekanan Udara 3 Sore  Awan 9 Pagi  Awan 3 Sore  \\\n",
       "0                SE  ...                1015.2          5.0          5.0   \n",
       "\n",
       "   Suhu Celcius 9 Pagi  Suhu Celcius 3 Sore  Hari ini Hujan  Hari besok Hujan  \\\n",
       "0                 16.7                 21.1              No                No   \n",
       "\n",
       "   Tahun  Bulan    Hari  \n",
       "0   2016    May  Sunday  \n",
       "\n",
       "[1 rows x 25 columns]"
      ]
     },
     "execution_count": 47,
     "metadata": {},
     "output_type": "execute_result"
    }
   ],
   "source": [
    "rainAus_df.mode()"
   ]
  },
  {
   "cell_type": "code",
   "execution_count": 48,
   "id": "7a60833a",
   "metadata": {},
   "outputs": [
    {
     "data": {
      "text/html": [
       "<div>\n",
       "<style scoped>\n",
       "    .dataframe tbody tr th:only-of-type {\n",
       "        vertical-align: middle;\n",
       "    }\n",
       "\n",
       "    .dataframe tbody tr th {\n",
       "        vertical-align: top;\n",
       "    }\n",
       "\n",
       "    .dataframe thead th {\n",
       "        text-align: right;\n",
       "    }\n",
       "</style>\n",
       "<table border=\"1\" class=\"dataframe\">\n",
       "  <thead>\n",
       "    <tr style=\"text-align: right;\">\n",
       "      <th></th>\n",
       "      <th>Suhu Minimum</th>\n",
       "      <th>Suhu Maximum</th>\n",
       "      <th>Curah Hujan</th>\n",
       "      <th>Penguapan</th>\n",
       "      <th>Jam Cerah</th>\n",
       "      <th>Kecepatan Angin 24 jam</th>\n",
       "      <th>Kecepatan Angin 9 Pagi</th>\n",
       "      <th>Kecepatan Angin 3 Sore</th>\n",
       "      <th>Kelembaban 9 Pagi</th>\n",
       "      <th>Kelembaban 3 Sore</th>\n",
       "      <th>Tekanan Udara 9 Pagi</th>\n",
       "      <th>Tekanan Udara 3 Sore</th>\n",
       "      <th>Awan 9 Pagi</th>\n",
       "      <th>Awan 3 Sore</th>\n",
       "      <th>Suhu Celcius 9 Pagi</th>\n",
       "      <th>Suhu Celcius 3 Sore</th>\n",
       "      <th>Tahun</th>\n",
       "    </tr>\n",
       "  </thead>\n",
       "  <tbody>\n",
       "    <tr>\n",
       "      <th>mean</th>\n",
       "      <td>12.185565</td>\n",
       "      <td>23.225365</td>\n",
       "      <td>2.326738</td>\n",
       "      <td>5.183213</td>\n",
       "      <td>8.042236</td>\n",
       "      <td>39.920123</td>\n",
       "      <td>13.992489</td>\n",
       "      <td>18.644279</td>\n",
       "      <td>68.858235</td>\n",
       "      <td>51.495742</td>\n",
       "      <td>1017.64846</td>\n",
       "      <td>1015.252481</td>\n",
       "      <td>4.649568</td>\n",
       "      <td>4.702658</td>\n",
       "      <td>16.985681</td>\n",
       "      <td>21.675977</td>\n",
       "      <td>2012.758926</td>\n",
       "    </tr>\n",
       "    <tr>\n",
       "      <th>median</th>\n",
       "      <td>12.000000</td>\n",
       "      <td>22.600000</td>\n",
       "      <td>0.000000</td>\n",
       "      <td>4.800000</td>\n",
       "      <td>8.500000</td>\n",
       "      <td>39.000000</td>\n",
       "      <td>13.000000</td>\n",
       "      <td>19.000000</td>\n",
       "      <td>70.000000</td>\n",
       "      <td>52.000000</td>\n",
       "      <td>1017.60000</td>\n",
       "      <td>1015.200000</td>\n",
       "      <td>5.000000</td>\n",
       "      <td>5.000000</td>\n",
       "      <td>16.700000</td>\n",
       "      <td>21.100000</td>\n",
       "      <td>2013.000000</td>\n",
       "    </tr>\n",
       "  </tbody>\n",
       "</table>\n",
       "</div>"
      ],
      "text/plain": [
       "        Suhu Minimum  Suhu Maximum  Curah Hujan  Penguapan  Jam Cerah  \\\n",
       "mean       12.185565     23.225365     2.326738   5.183213   8.042236   \n",
       "median     12.000000     22.600000     0.000000   4.800000   8.500000   \n",
       "\n",
       "        Kecepatan Angin 24 jam  Kecepatan Angin 9 Pagi  \\\n",
       "mean                 39.920123               13.992489   \n",
       "median               39.000000               13.000000   \n",
       "\n",
       "        Kecepatan Angin 3 Sore  Kelembaban 9 Pagi  Kelembaban 3 Sore  \\\n",
       "mean                 18.644279          68.858235          51.495742   \n",
       "median               19.000000          70.000000          52.000000   \n",
       "\n",
       "        Tekanan Udara 9 Pagi  Tekanan Udara 3 Sore  Awan 9 Pagi  Awan 3 Sore  \\\n",
       "mean              1017.64846           1015.252481     4.649568     4.702658   \n",
       "median            1017.60000           1015.200000     5.000000     5.000000   \n",
       "\n",
       "        Suhu Celcius 9 Pagi  Suhu Celcius 3 Sore        Tahun  \n",
       "mean              16.985681            21.675977  2012.758926  \n",
       "median            16.700000            21.100000  2013.000000  "
      ]
     },
     "execution_count": 48,
     "metadata": {},
     "output_type": "execute_result"
    }
   ],
   "source": [
    "rainAus_df_mean_median"
   ]
  },
  {
   "cell_type": "markdown",
   "id": "ce5a713c",
   "metadata": {},
   "source": [
    "### Deskripsi Perhitungan Tendensi Central"
   ]
  },
  {
   "cell_type": "markdown",
   "id": "839b3230",
   "metadata": {},
   "source": [
    "**ANALISIS PERHITUNGAN TENDENSI SENTRAL** <br>\n",
    "1. Hampir mayoritas atribut bertipe numerikal memiliki nilai **mean**, **median**, dan **modus** yang hampir sama (selisihnya cukup kecil). Hal ini bisa menandakan bahwa mayoritas distribusi data pada atribut numerik cenderung simetris. Namun, masih ada beberapa atribut numerik yang selisih antara **mean** dan **median** nya cukup besar (cenderung tidak simetris), seperti **Curah Hujan, Penguapan, Kecepatan Angin 24 Jam, Kecepatan Angin 9 Pagi, dan Kelembaban 9 Pagi**\n",
    "2. Atribut **Curah Hujan** memiliki **mean > median** (kecenderungan right skew) dan juga nilai **modus** sebesar **0**. Hal ini menandakan bahwa sampel data yang ada lebih banyak tidak ada curah hujannya. \n",
    "3. Mayoritas **Arah Angin 24 Jam** pada sampel dataset mengarah ke barat (**W**)\n",
    "4. Sampel dataset didonimasi oleh label kelas 'Hari ini Hujan' dan 'Hari besok Hujan' berlabel **No**"
   ]
  },
  {
   "cell_type": "markdown",
   "id": "0b2ea3d0",
   "metadata": {},
   "source": [
    "### Menghitung measure of spread (variability)"
   ]
  },
  {
   "cell_type": "markdown",
   "id": "4a543a3f",
   "metadata": {},
   "source": [
    "#### Sampel Variance"
   ]
  },
  {
   "cell_type": "code",
   "execution_count": 49,
   "id": "c649567b",
   "metadata": {},
   "outputs": [
    {
     "data": {
      "text/plain": [
       "Awan 3 Sore                 4.489116\n",
       "Awan 9 Pagi                 5.264075\n",
       "Tahun                       6.457981\n",
       "Jam Cerah                   7.670892\n",
       "Penguapan                  10.146782\n",
       "Suhu Minimum               40.818501\n",
       "Suhu Celcius 9 Pagi        41.889455\n",
       "Tekanan Udara 3 Sore       44.646586\n",
       "Tekanan Udara 9 Pagi       45.512123\n",
       "Suhu Celcius 3 Sore        47.213976\n",
       "Suhu Maximum               50.546653\n",
       "Curah Hujan                71.004650\n",
       "Kecepatan Angin 3 Sore     76.067840\n",
       "Kecepatan Angin 9 Pagi     78.351074\n",
       "Kecepatan Angin 24 jam    172.676204\n",
       "Kelembaban 9 Pagi         358.439999\n",
       "Kelembaban 3 Sore         421.572336\n",
       "dtype: float64"
      ]
     },
     "execution_count": 49,
     "metadata": {},
     "output_type": "execute_result"
    }
   ],
   "source": [
    "# menghitung sampel variance ddof=1\n",
    "rainAus_df[numerical_columns].var(ddof=1).sort_values()"
   ]
  },
  {
   "cell_type": "markdown",
   "id": "5a42dab7",
   "metadata": {},
   "source": [
    "#### Sampel Standard Deviation"
   ]
  },
  {
   "cell_type": "code",
   "execution_count": 50,
   "id": "47381b09",
   "metadata": {},
   "outputs": [
    {
     "data": {
      "text/plain": [
       "Awan 3 Sore                2.118753\n",
       "Awan 9 Pagi                2.294357\n",
       "Tahun                      2.541256\n",
       "Jam Cerah                  2.769638\n",
       "Penguapan                  3.185401\n",
       "Suhu Minimum               6.388936\n",
       "Suhu Celcius 9 Pagi        6.472206\n",
       "Tekanan Udara 3 Sore       6.681810\n",
       "Tekanan Udara 9 Pagi       6.746267\n",
       "Suhu Celcius 3 Sore        6.871243\n",
       "Suhu Maximum               7.109617\n",
       "Curah Hujan                8.426426\n",
       "Kecepatan Angin 3 Sore     8.721688\n",
       "Kecepatan Angin 9 Pagi     8.851614\n",
       "Kecepatan Angin 24 jam    13.140632\n",
       "Kelembaban 9 Pagi         18.932512\n",
       "Kelembaban 3 Sore         20.532227\n",
       "dtype: float64"
      ]
     },
     "execution_count": 50,
     "metadata": {},
     "output_type": "execute_result"
    }
   ],
   "source": [
    "rainAus_df[numerical_columns].std(ddof=1).sort_values()"
   ]
  },
  {
   "cell_type": "markdown",
   "id": "663445c7",
   "metadata": {},
   "source": [
    "#### Skewness"
   ]
  },
  {
   "cell_type": "code",
   "execution_count": 51,
   "id": "f6b4e134",
   "metadata": {},
   "outputs": [
    {
     "data": {
      "text/plain": [
       "Curah Hujan               9.934023\n",
       "Penguapan                 5.140075\n",
       "Kecepatan Angin 24 jam    0.918436\n",
       "Kecepatan Angin 9 Pagi    0.782261\n",
       "Kecepatan Angin 3 Sore    0.635020\n",
       "Suhu Celcius 3 Sore       0.247242\n",
       "Suhu Maximum              0.225763\n",
       "Suhu Celcius 9 Pagi       0.092524\n",
       "Kelembaban 3 Sore         0.033042\n",
       "Suhu Minimum              0.024345\n",
       "Tahun                    -0.042629\n",
       "Tekanan Udara 3 Sore     -0.046081\n",
       "Tekanan Udara 9 Pagi     -0.098977\n",
       "Kelembaban 9 Pagi        -0.488110\n",
       "Awan 9 Pagi              -0.551152\n",
       "Awan 3 Sore              -0.562072\n",
       "Jam Cerah                -1.110020\n",
       "dtype: float64"
      ]
     },
     "execution_count": 51,
     "metadata": {},
     "output_type": "execute_result"
    }
   ],
   "source": [
    "rainAus_df[numerical_columns].skew().sort_values(ascending=False)"
   ]
  },
  {
   "cell_type": "markdown",
   "id": "c7086d01",
   "metadata": {},
   "source": [
    "#### Percentiles"
   ]
  },
  {
   "cell_type": "code",
   "execution_count": 52,
   "id": "2a5d4cad",
   "metadata": {},
   "outputs": [],
   "source": [
    "# menghitung kuartile 1,2,3\n",
    "Q1,Q2, Q3 = rainAus_df[numerical_columns].quantile(0.25), rainAus_df[numerical_columns].quantile(0.5),rainAus_df[numerical_columns].quantile(0.75)\n",
    "\n",
    "# menghitung IQR (selisih Q3 dengan Q1)\n",
    "IQR = Q3-Q1"
   ]
  },
  {
   "cell_type": "markdown",
   "id": "db106f7f",
   "metadata": {},
   "source": [
    "#### Ranges"
   ]
  },
  {
   "cell_type": "code",
   "execution_count": 53,
   "id": "5f51c68d",
   "metadata": {},
   "outputs": [],
   "source": [
    "max_ = rainAus_df[numerical_columns].max()\n",
    "min_ = rainAus_df[numerical_columns].min()\n",
    "ranges =  max_ - min_"
   ]
  },
  {
   "cell_type": "markdown",
   "id": "186b93d8",
   "metadata": {},
   "source": [
    "#### Merangkum hasil pengukuran variabilitas"
   ]
  },
  {
   "cell_type": "code",
   "execution_count": 54,
   "id": "f673a555",
   "metadata": {},
   "outputs": [],
   "source": [
    "rainAus_df_variability = pd.DataFrame(data={\n",
    "    'Q1':Q1,\n",
    "    'Q2':Q2,\n",
    "    'Q3':Q3,\n",
    "    'IQR':IQR,\n",
    "    'Maximum':max_,\n",
    "    'Minimum':min_,\n",
    "    'Ranges':ranges\n",
    "}).transpose()"
   ]
  },
  {
   "cell_type": "code",
   "execution_count": 55,
   "id": "c63b7c6c",
   "metadata": {},
   "outputs": [
    {
     "data": {
      "text/html": [
       "<div>\n",
       "<style scoped>\n",
       "    .dataframe tbody tr th:only-of-type {\n",
       "        vertical-align: middle;\n",
       "    }\n",
       "\n",
       "    .dataframe tbody tr th {\n",
       "        vertical-align: top;\n",
       "    }\n",
       "\n",
       "    .dataframe thead th {\n",
       "        text-align: right;\n",
       "    }\n",
       "</style>\n",
       "<table border=\"1\" class=\"dataframe\">\n",
       "  <thead>\n",
       "    <tr style=\"text-align: right;\">\n",
       "      <th></th>\n",
       "      <th>Suhu Minimum</th>\n",
       "      <th>Suhu Maximum</th>\n",
       "      <th>Curah Hujan</th>\n",
       "      <th>Penguapan</th>\n",
       "      <th>Jam Cerah</th>\n",
       "      <th>Kecepatan Angin 24 jam</th>\n",
       "      <th>Kecepatan Angin 9 Pagi</th>\n",
       "      <th>Kecepatan Angin 3 Sore</th>\n",
       "      <th>Kelembaban 9 Pagi</th>\n",
       "      <th>Kelembaban 3 Sore</th>\n",
       "      <th>Tekanan Udara 9 Pagi</th>\n",
       "      <th>Tekanan Udara 3 Sore</th>\n",
       "      <th>Awan 9 Pagi</th>\n",
       "      <th>Awan 3 Sore</th>\n",
       "      <th>Suhu Celcius 9 Pagi</th>\n",
       "      <th>Suhu Celcius 3 Sore</th>\n",
       "      <th>Tahun</th>\n",
       "    </tr>\n",
       "  </thead>\n",
       "  <tbody>\n",
       "    <tr>\n",
       "      <th>Q1</th>\n",
       "      <td>7.6</td>\n",
       "      <td>17.9</td>\n",
       "      <td>0.0</td>\n",
       "      <td>4.0</td>\n",
       "      <td>8.2</td>\n",
       "      <td>31.0</td>\n",
       "      <td>7.0</td>\n",
       "      <td>13.0</td>\n",
       "      <td>57.0</td>\n",
       "      <td>37.0</td>\n",
       "      <td>1013.5</td>\n",
       "      <td>1011.0</td>\n",
       "      <td>3.0</td>\n",
       "      <td>4.0</td>\n",
       "      <td>12.3</td>\n",
       "      <td>16.7</td>\n",
       "      <td>2011.0</td>\n",
       "    </tr>\n",
       "    <tr>\n",
       "      <th>Q2</th>\n",
       "      <td>12.0</td>\n",
       "      <td>22.6</td>\n",
       "      <td>0.0</td>\n",
       "      <td>4.8</td>\n",
       "      <td>8.5</td>\n",
       "      <td>39.0</td>\n",
       "      <td>13.0</td>\n",
       "      <td>19.0</td>\n",
       "      <td>70.0</td>\n",
       "      <td>52.0</td>\n",
       "      <td>1017.6</td>\n",
       "      <td>1015.2</td>\n",
       "      <td>5.0</td>\n",
       "      <td>5.0</td>\n",
       "      <td>16.7</td>\n",
       "      <td>21.1</td>\n",
       "      <td>2013.0</td>\n",
       "    </tr>\n",
       "    <tr>\n",
       "      <th>Q3</th>\n",
       "      <td>16.8</td>\n",
       "      <td>28.2</td>\n",
       "      <td>0.6</td>\n",
       "      <td>5.4</td>\n",
       "      <td>8.7</td>\n",
       "      <td>46.0</td>\n",
       "      <td>19.0</td>\n",
       "      <td>24.0</td>\n",
       "      <td>83.0</td>\n",
       "      <td>65.0</td>\n",
       "      <td>1021.8</td>\n",
       "      <td>1019.4</td>\n",
       "      <td>6.0</td>\n",
       "      <td>6.0</td>\n",
       "      <td>21.5</td>\n",
       "      <td>26.3</td>\n",
       "      <td>2015.0</td>\n",
       "    </tr>\n",
       "    <tr>\n",
       "      <th>IQR</th>\n",
       "      <td>9.2</td>\n",
       "      <td>10.3</td>\n",
       "      <td>0.6</td>\n",
       "      <td>1.4</td>\n",
       "      <td>0.5</td>\n",
       "      <td>15.0</td>\n",
       "      <td>12.0</td>\n",
       "      <td>11.0</td>\n",
       "      <td>26.0</td>\n",
       "      <td>28.0</td>\n",
       "      <td>8.3</td>\n",
       "      <td>8.4</td>\n",
       "      <td>3.0</td>\n",
       "      <td>2.0</td>\n",
       "      <td>9.2</td>\n",
       "      <td>9.6</td>\n",
       "      <td>4.0</td>\n",
       "    </tr>\n",
       "    <tr>\n",
       "      <th>Maximum</th>\n",
       "      <td>33.9</td>\n",
       "      <td>48.1</td>\n",
       "      <td>371.0</td>\n",
       "      <td>145.0</td>\n",
       "      <td>14.5</td>\n",
       "      <td>135.0</td>\n",
       "      <td>130.0</td>\n",
       "      <td>87.0</td>\n",
       "      <td>100.0</td>\n",
       "      <td>100.0</td>\n",
       "      <td>1041.0</td>\n",
       "      <td>1039.6</td>\n",
       "      <td>9.0</td>\n",
       "      <td>9.0</td>\n",
       "      <td>40.2</td>\n",
       "      <td>46.7</td>\n",
       "      <td>2017.0</td>\n",
       "    </tr>\n",
       "    <tr>\n",
       "      <th>Minimum</th>\n",
       "      <td>-8.5</td>\n",
       "      <td>-4.8</td>\n",
       "      <td>0.0</td>\n",
       "      <td>0.0</td>\n",
       "      <td>0.0</td>\n",
       "      <td>6.0</td>\n",
       "      <td>0.0</td>\n",
       "      <td>0.0</td>\n",
       "      <td>0.0</td>\n",
       "      <td>0.0</td>\n",
       "      <td>980.5</td>\n",
       "      <td>977.1</td>\n",
       "      <td>0.0</td>\n",
       "      <td>0.0</td>\n",
       "      <td>-7.2</td>\n",
       "      <td>-5.4</td>\n",
       "      <td>2007.0</td>\n",
       "    </tr>\n",
       "    <tr>\n",
       "      <th>Ranges</th>\n",
       "      <td>42.4</td>\n",
       "      <td>52.9</td>\n",
       "      <td>371.0</td>\n",
       "      <td>145.0</td>\n",
       "      <td>14.5</td>\n",
       "      <td>129.0</td>\n",
       "      <td>130.0</td>\n",
       "      <td>87.0</td>\n",
       "      <td>100.0</td>\n",
       "      <td>100.0</td>\n",
       "      <td>60.5</td>\n",
       "      <td>62.5</td>\n",
       "      <td>9.0</td>\n",
       "      <td>9.0</td>\n",
       "      <td>47.4</td>\n",
       "      <td>52.1</td>\n",
       "      <td>10.0</td>\n",
       "    </tr>\n",
       "  </tbody>\n",
       "</table>\n",
       "</div>"
      ],
      "text/plain": [
       "         Suhu Minimum  Suhu Maximum  Curah Hujan  Penguapan  Jam Cerah  \\\n",
       "Q1                7.6          17.9          0.0        4.0        8.2   \n",
       "Q2               12.0          22.6          0.0        4.8        8.5   \n",
       "Q3               16.8          28.2          0.6        5.4        8.7   \n",
       "IQR               9.2          10.3          0.6        1.4        0.5   \n",
       "Maximum          33.9          48.1        371.0      145.0       14.5   \n",
       "Minimum          -8.5          -4.8          0.0        0.0        0.0   \n",
       "Ranges           42.4          52.9        371.0      145.0       14.5   \n",
       "\n",
       "         Kecepatan Angin 24 jam  Kecepatan Angin 9 Pagi  \\\n",
       "Q1                         31.0                     7.0   \n",
       "Q2                         39.0                    13.0   \n",
       "Q3                         46.0                    19.0   \n",
       "IQR                        15.0                    12.0   \n",
       "Maximum                   135.0                   130.0   \n",
       "Minimum                     6.0                     0.0   \n",
       "Ranges                    129.0                   130.0   \n",
       "\n",
       "         Kecepatan Angin 3 Sore  Kelembaban 9 Pagi  Kelembaban 3 Sore  \\\n",
       "Q1                         13.0               57.0               37.0   \n",
       "Q2                         19.0               70.0               52.0   \n",
       "Q3                         24.0               83.0               65.0   \n",
       "IQR                        11.0               26.0               28.0   \n",
       "Maximum                    87.0              100.0              100.0   \n",
       "Minimum                     0.0                0.0                0.0   \n",
       "Ranges                     87.0              100.0              100.0   \n",
       "\n",
       "         Tekanan Udara 9 Pagi  Tekanan Udara 3 Sore  Awan 9 Pagi  Awan 3 Sore  \\\n",
       "Q1                     1013.5                1011.0          3.0          4.0   \n",
       "Q2                     1017.6                1015.2          5.0          5.0   \n",
       "Q3                     1021.8                1019.4          6.0          6.0   \n",
       "IQR                       8.3                   8.4          3.0          2.0   \n",
       "Maximum                1041.0                1039.6          9.0          9.0   \n",
       "Minimum                 980.5                 977.1          0.0          0.0   \n",
       "Ranges                   60.5                  62.5          9.0          9.0   \n",
       "\n",
       "         Suhu Celcius 9 Pagi  Suhu Celcius 3 Sore   Tahun  \n",
       "Q1                      12.3                 16.7  2011.0  \n",
       "Q2                      16.7                 21.1  2013.0  \n",
       "Q3                      21.5                 26.3  2015.0  \n",
       "IQR                      9.2                  9.6     4.0  \n",
       "Maximum                 40.2                 46.7  2017.0  \n",
       "Minimum                 -7.2                 -5.4  2007.0  \n",
       "Ranges                  47.4                 52.1    10.0  "
      ]
     },
     "execution_count": 55,
     "metadata": {},
     "output_type": "execute_result"
    }
   ],
   "source": [
    "rainAus_df_variability"
   ]
  },
  {
   "cell_type": "markdown",
   "id": "d7366dc6",
   "metadata": {},
   "source": [
    "### Deskripsi measure of spread"
   ]
  },
  {
   "cell_type": "markdown",
   "id": "9ecce141",
   "metadata": {},
   "source": [
    "**ANALISIS PENGUKURAN SEBARAN DATA (Measure of Spread)** <br>\n",
    "1. Sebaran data dapat dijelaskan dengan menggunakan *variance* dan/atau *standar deviasi*. Namun *standar deviasi* lebih cocok daripada *variance* karena memiliki satuan yang sama dengan data points.\n",
    "2. Atribut **Awan 3 Sore** memiliki sebaran data yang tidak bervariasi, sedangkan atribut **Kelembaban 3 Sore** memiliki sebaran data yang paling bervariasi.\n",
    "3. Hasil perhitungan *skewness* menegaskan bahwa atribut **Curah Hujan, Penguapan, Kecepatan Angin 24 Jam, Kecepatan Angin 9 Pagi, dan Kelembaban 9 Pagi** cenderung memiliki distribusi data yang tidak simetris (cenderung condong ke kanan).\n",
    "4. Interpretasi perhitungan *percentile* pada atribut **Suhu Maximum** adalah: <br>\n",
    "- Sebanyak 75% bagian dari data yang ada, nilainya ada di bawah 28,2; dan 25% sisanya berada di atas 28,2 dengan batas maksimum sebesar 48,1\n",
    "5. Interpretasi perhitungan *percentile* pada atribut **Curah Hujan** adalah: <br>\n",
    "- Sebanyak 75% bagian dari data yang ada, nilainya ada di bawah 0,6; dan 25% sisanya berada di atas 0,6 dengan batas maksimum sebesar 371. Hal ini juga menjelaskan bahwa modus untuk atribut ini bernilai **0**."
   ]
  },
  {
   "cell_type": "markdown",
   "id": "f616e5ac",
   "metadata": {},
   "source": [
    "## Data Preprocessing"
   ]
  },
  {
   "cell_type": "markdown",
   "id": "43fee712",
   "metadata": {},
   "source": [
    "### Variabel Global untuk menampung semua hasil modeling"
   ]
  },
  {
   "cell_type": "code",
   "execution_count": 56,
   "id": "45520580",
   "metadata": {},
   "outputs": [],
   "source": [
    "saved_models = dict()\n",
    "saved_models['data'] = dict()"
   ]
  },
  {
   "cell_type": "markdown",
   "id": "d8b7236d",
   "metadata": {},
   "source": [
    "### Data Loading"
   ]
  },
  {
   "cell_type": "code",
   "execution_count": 57,
   "id": "a1cbf406",
   "metadata": {},
   "outputs": [],
   "source": [
    "# Loading data dengan Pandas\n",
    "rainAus_df = pd.read_csv('./dataset/weatherAUS.csv')\n",
    "\n",
    "# rename columns\n",
    "rainAus_df = rename_columns_df(rainAus_df)\n",
    "\n",
    "# replace value 'No':0 'Yes':1 in target\n",
    "rainAus_df['Hari besok Hujan'].replace({'No':0,'Yes':1},inplace=True)"
   ]
  },
  {
   "cell_type": "code",
   "execution_count": 58,
   "id": "bce4b863",
   "metadata": {},
   "outputs": [
    {
     "data": {
      "text/html": [
       "<div>\n",
       "<style scoped>\n",
       "    .dataframe tbody tr th:only-of-type {\n",
       "        vertical-align: middle;\n",
       "    }\n",
       "\n",
       "    .dataframe tbody tr th {\n",
       "        vertical-align: top;\n",
       "    }\n",
       "\n",
       "    .dataframe thead th {\n",
       "        text-align: right;\n",
       "    }\n",
       "</style>\n",
       "<table border=\"1\" class=\"dataframe\">\n",
       "  <thead>\n",
       "    <tr style=\"text-align: right;\">\n",
       "      <th></th>\n",
       "      <th>Tanggal</th>\n",
       "      <th>Kota</th>\n",
       "      <th>Suhu Minimum</th>\n",
       "      <th>Suhu Maximum</th>\n",
       "      <th>Curah Hujan</th>\n",
       "      <th>Penguapan</th>\n",
       "      <th>Jam Cerah</th>\n",
       "      <th>Arah Angin 24 jam</th>\n",
       "      <th>Kecepatan Angin 24 jam</th>\n",
       "      <th>Arah Angin 9 Pagi</th>\n",
       "      <th>...</th>\n",
       "      <th>Kelembaban 9 Pagi</th>\n",
       "      <th>Kelembaban 3 Sore</th>\n",
       "      <th>Tekanan Udara 9 Pagi</th>\n",
       "      <th>Tekanan Udara 3 Sore</th>\n",
       "      <th>Awan 9 Pagi</th>\n",
       "      <th>Awan 3 Sore</th>\n",
       "      <th>Suhu Celcius 9 Pagi</th>\n",
       "      <th>Suhu Celcius 3 Sore</th>\n",
       "      <th>Hari ini Hujan</th>\n",
       "      <th>Hari besok Hujan</th>\n",
       "    </tr>\n",
       "  </thead>\n",
       "  <tbody>\n",
       "    <tr>\n",
       "      <th>0</th>\n",
       "      <td>2008-12-01</td>\n",
       "      <td>Albury</td>\n",
       "      <td>13.4</td>\n",
       "      <td>22.9</td>\n",
       "      <td>0.6</td>\n",
       "      <td>NaN</td>\n",
       "      <td>NaN</td>\n",
       "      <td>W</td>\n",
       "      <td>44.0</td>\n",
       "      <td>W</td>\n",
       "      <td>...</td>\n",
       "      <td>71.0</td>\n",
       "      <td>22.0</td>\n",
       "      <td>1007.7</td>\n",
       "      <td>1007.1</td>\n",
       "      <td>8.0</td>\n",
       "      <td>NaN</td>\n",
       "      <td>16.9</td>\n",
       "      <td>21.8</td>\n",
       "      <td>No</td>\n",
       "      <td>0.0</td>\n",
       "    </tr>\n",
       "    <tr>\n",
       "      <th>1</th>\n",
       "      <td>2008-12-02</td>\n",
       "      <td>Albury</td>\n",
       "      <td>7.4</td>\n",
       "      <td>25.1</td>\n",
       "      <td>0.0</td>\n",
       "      <td>NaN</td>\n",
       "      <td>NaN</td>\n",
       "      <td>WNW</td>\n",
       "      <td>44.0</td>\n",
       "      <td>NNW</td>\n",
       "      <td>...</td>\n",
       "      <td>44.0</td>\n",
       "      <td>25.0</td>\n",
       "      <td>1010.6</td>\n",
       "      <td>1007.8</td>\n",
       "      <td>NaN</td>\n",
       "      <td>NaN</td>\n",
       "      <td>17.2</td>\n",
       "      <td>24.3</td>\n",
       "      <td>No</td>\n",
       "      <td>0.0</td>\n",
       "    </tr>\n",
       "    <tr>\n",
       "      <th>2</th>\n",
       "      <td>2008-12-03</td>\n",
       "      <td>Albury</td>\n",
       "      <td>12.9</td>\n",
       "      <td>25.7</td>\n",
       "      <td>0.0</td>\n",
       "      <td>NaN</td>\n",
       "      <td>NaN</td>\n",
       "      <td>WSW</td>\n",
       "      <td>46.0</td>\n",
       "      <td>W</td>\n",
       "      <td>...</td>\n",
       "      <td>38.0</td>\n",
       "      <td>30.0</td>\n",
       "      <td>1007.6</td>\n",
       "      <td>1008.7</td>\n",
       "      <td>NaN</td>\n",
       "      <td>2.0</td>\n",
       "      <td>21.0</td>\n",
       "      <td>23.2</td>\n",
       "      <td>No</td>\n",
       "      <td>0.0</td>\n",
       "    </tr>\n",
       "    <tr>\n",
       "      <th>3</th>\n",
       "      <td>2008-12-04</td>\n",
       "      <td>Albury</td>\n",
       "      <td>9.2</td>\n",
       "      <td>28.0</td>\n",
       "      <td>0.0</td>\n",
       "      <td>NaN</td>\n",
       "      <td>NaN</td>\n",
       "      <td>NE</td>\n",
       "      <td>24.0</td>\n",
       "      <td>SE</td>\n",
       "      <td>...</td>\n",
       "      <td>45.0</td>\n",
       "      <td>16.0</td>\n",
       "      <td>1017.6</td>\n",
       "      <td>1012.8</td>\n",
       "      <td>NaN</td>\n",
       "      <td>NaN</td>\n",
       "      <td>18.1</td>\n",
       "      <td>26.5</td>\n",
       "      <td>No</td>\n",
       "      <td>0.0</td>\n",
       "    </tr>\n",
       "    <tr>\n",
       "      <th>4</th>\n",
       "      <td>2008-12-05</td>\n",
       "      <td>Albury</td>\n",
       "      <td>17.5</td>\n",
       "      <td>32.3</td>\n",
       "      <td>1.0</td>\n",
       "      <td>NaN</td>\n",
       "      <td>NaN</td>\n",
       "      <td>W</td>\n",
       "      <td>41.0</td>\n",
       "      <td>ENE</td>\n",
       "      <td>...</td>\n",
       "      <td>82.0</td>\n",
       "      <td>33.0</td>\n",
       "      <td>1010.8</td>\n",
       "      <td>1006.0</td>\n",
       "      <td>7.0</td>\n",
       "      <td>8.0</td>\n",
       "      <td>17.8</td>\n",
       "      <td>29.7</td>\n",
       "      <td>No</td>\n",
       "      <td>0.0</td>\n",
       "    </tr>\n",
       "  </tbody>\n",
       "</table>\n",
       "<p>5 rows × 23 columns</p>\n",
       "</div>"
      ],
      "text/plain": [
       "      Tanggal    Kota  Suhu Minimum  Suhu Maximum  Curah Hujan  Penguapan  \\\n",
       "0  2008-12-01  Albury          13.4          22.9          0.6        NaN   \n",
       "1  2008-12-02  Albury           7.4          25.1          0.0        NaN   \n",
       "2  2008-12-03  Albury          12.9          25.7          0.0        NaN   \n",
       "3  2008-12-04  Albury           9.2          28.0          0.0        NaN   \n",
       "4  2008-12-05  Albury          17.5          32.3          1.0        NaN   \n",
       "\n",
       "   Jam Cerah Arah Angin 24 jam  Kecepatan Angin 24 jam Arah Angin 9 Pagi  ...  \\\n",
       "0        NaN                 W                    44.0                 W  ...   \n",
       "1        NaN               WNW                    44.0               NNW  ...   \n",
       "2        NaN               WSW                    46.0                 W  ...   \n",
       "3        NaN                NE                    24.0                SE  ...   \n",
       "4        NaN                 W                    41.0               ENE  ...   \n",
       "\n",
       "  Kelembaban 9 Pagi  Kelembaban 3 Sore  Tekanan Udara 9 Pagi  \\\n",
       "0              71.0               22.0                1007.7   \n",
       "1              44.0               25.0                1010.6   \n",
       "2              38.0               30.0                1007.6   \n",
       "3              45.0               16.0                1017.6   \n",
       "4              82.0               33.0                1010.8   \n",
       "\n",
       "   Tekanan Udara 3 Sore  Awan 9 Pagi  Awan 3 Sore  Suhu Celcius 9 Pagi  \\\n",
       "0                1007.1          8.0          NaN                 16.9   \n",
       "1                1007.8          NaN          NaN                 17.2   \n",
       "2                1008.7          NaN          2.0                 21.0   \n",
       "3                1012.8          NaN          NaN                 18.1   \n",
       "4                1006.0          7.0          8.0                 17.8   \n",
       "\n",
       "   Suhu Celcius 3 Sore  Hari ini Hujan  Hari besok Hujan  \n",
       "0                 21.8              No               0.0  \n",
       "1                 24.3              No               0.0  \n",
       "2                 23.2              No               0.0  \n",
       "3                 26.5              No               0.0  \n",
       "4                 29.7              No               0.0  \n",
       "\n",
       "[5 rows x 23 columns]"
      ]
     },
     "execution_count": 58,
     "metadata": {},
     "output_type": "execute_result"
    }
   ],
   "source": [
    "rainAus_df.head()"
   ]
  },
  {
   "cell_type": "markdown",
   "id": "2ffee42a",
   "metadata": {},
   "source": [
    "### Drop data dengan target *missing values*"
   ]
  },
  {
   "cell_type": "code",
   "execution_count": 59,
   "id": "338bdf2c",
   "metadata": {},
   "outputs": [],
   "source": [
    "rainAus_df.drop(rainAus_df[\n",
    "    rainAus_df['Hari besok Hujan'].isnull()\n",
    "].index.values,inplace=True)"
   ]
  },
  {
   "cell_type": "markdown",
   "id": "6aa08576",
   "metadata": {},
   "source": [
    "### Train Test Split\n",
    "***\n",
    "Dilakukan di awal untuk menghindari data leackage. Proporsi 70% training, 30% testing"
   ]
  },
  {
   "cell_type": "code",
   "execution_count": 60,
   "id": "b9a80a52",
   "metadata": {},
   "outputs": [],
   "source": [
    "# splitting attributes and target\n",
    "X, y= rainAus_df.drop('Hari besok Hujan',axis=1), rainAus_df['Hari besok Hujan']\n",
    "\n",
    "# train test split\n",
    "X_train, X_test, y_train, y_test = train_test_split(X, y, test_size=0.3, random_state=42, stratify = y)"
   ]
  },
  {
   "cell_type": "markdown",
   "id": "8c4e6429",
   "metadata": {},
   "source": [
    "### Simpan Data hasil splitting dan sebelum preprocessing"
   ]
  },
  {
   "cell_type": "code",
   "execution_count": 61,
   "id": "8b46b772",
   "metadata": {},
   "outputs": [],
   "source": [
    "# saved_models['data']['before_preprocessing'] = {\n",
    "#     'X_train': X_train,\n",
    "#     'y_train': y_train,\n",
    "#     'X_test': X_test,\n",
    "#     'y_test': y_test,\n",
    "# }"
   ]
  },
  {
   "cell_type": "code",
   "execution_count": 62,
   "id": "5f380485",
   "metadata": {},
   "outputs": [
    {
     "data": {
      "text/plain": [
       "(99535, 22)"
      ]
     },
     "execution_count": 62,
     "metadata": {},
     "output_type": "execute_result"
    }
   ],
   "source": [
    "X_train.shape"
   ]
  },
  {
   "cell_type": "code",
   "execution_count": 63,
   "id": "0eeef211",
   "metadata": {},
   "outputs": [
    {
     "data": {
      "text/html": [
       "<div>\n",
       "<style scoped>\n",
       "    .dataframe tbody tr th:only-of-type {\n",
       "        vertical-align: middle;\n",
       "    }\n",
       "\n",
       "    .dataframe tbody tr th {\n",
       "        vertical-align: top;\n",
       "    }\n",
       "\n",
       "    .dataframe thead th {\n",
       "        text-align: right;\n",
       "    }\n",
       "</style>\n",
       "<table border=\"1\" class=\"dataframe\">\n",
       "  <thead>\n",
       "    <tr style=\"text-align: right;\">\n",
       "      <th></th>\n",
       "      <th>Tanggal</th>\n",
       "      <th>Kota</th>\n",
       "      <th>Suhu Minimum</th>\n",
       "      <th>Suhu Maximum</th>\n",
       "      <th>Curah Hujan</th>\n",
       "      <th>Penguapan</th>\n",
       "      <th>Jam Cerah</th>\n",
       "      <th>Arah Angin 24 jam</th>\n",
       "      <th>Kecepatan Angin 24 jam</th>\n",
       "      <th>Arah Angin 9 Pagi</th>\n",
       "      <th>...</th>\n",
       "      <th>Kecepatan Angin 3 Sore</th>\n",
       "      <th>Kelembaban 9 Pagi</th>\n",
       "      <th>Kelembaban 3 Sore</th>\n",
       "      <th>Tekanan Udara 9 Pagi</th>\n",
       "      <th>Tekanan Udara 3 Sore</th>\n",
       "      <th>Awan 9 Pagi</th>\n",
       "      <th>Awan 3 Sore</th>\n",
       "      <th>Suhu Celcius 9 Pagi</th>\n",
       "      <th>Suhu Celcius 3 Sore</th>\n",
       "      <th>Hari ini Hujan</th>\n",
       "    </tr>\n",
       "  </thead>\n",
       "  <tbody>\n",
       "    <tr>\n",
       "      <th>26038</th>\n",
       "      <td>2014-05-24</td>\n",
       "      <td>Penrith</td>\n",
       "      <td>10.6</td>\n",
       "      <td>24.9</td>\n",
       "      <td>0.0</td>\n",
       "      <td>NaN</td>\n",
       "      <td>NaN</td>\n",
       "      <td>NW</td>\n",
       "      <td>20.0</td>\n",
       "      <td>SSW</td>\n",
       "      <td>...</td>\n",
       "      <td>0.0</td>\n",
       "      <td>68.0</td>\n",
       "      <td>47.0</td>\n",
       "      <td>NaN</td>\n",
       "      <td>NaN</td>\n",
       "      <td>NaN</td>\n",
       "      <td>NaN</td>\n",
       "      <td>16.7</td>\n",
       "      <td>23.3</td>\n",
       "      <td>No</td>\n",
       "    </tr>\n",
       "    <tr>\n",
       "      <th>83712</th>\n",
       "      <td>2016-09-04</td>\n",
       "      <td>Dartmoor</td>\n",
       "      <td>6.0</td>\n",
       "      <td>15.1</td>\n",
       "      <td>1.6</td>\n",
       "      <td>NaN</td>\n",
       "      <td>NaN</td>\n",
       "      <td>NW</td>\n",
       "      <td>41.0</td>\n",
       "      <td>NNW</td>\n",
       "      <td>...</td>\n",
       "      <td>24.0</td>\n",
       "      <td>94.0</td>\n",
       "      <td>77.0</td>\n",
       "      <td>1023.0</td>\n",
       "      <td>1024.0</td>\n",
       "      <td>NaN</td>\n",
       "      <td>NaN</td>\n",
       "      <td>10.6</td>\n",
       "      <td>13.9</td>\n",
       "      <td>Yes</td>\n",
       "    </tr>\n",
       "    <tr>\n",
       "      <th>12822</th>\n",
       "      <td>2011-01-26</td>\n",
       "      <td>Moree</td>\n",
       "      <td>24.6</td>\n",
       "      <td>41.4</td>\n",
       "      <td>0.0</td>\n",
       "      <td>12.4</td>\n",
       "      <td>12.8</td>\n",
       "      <td>NE</td>\n",
       "      <td>31.0</td>\n",
       "      <td>NNE</td>\n",
       "      <td>...</td>\n",
       "      <td>11.0</td>\n",
       "      <td>51.0</td>\n",
       "      <td>24.0</td>\n",
       "      <td>1012.7</td>\n",
       "      <td>1009.6</td>\n",
       "      <td>0.0</td>\n",
       "      <td>1.0</td>\n",
       "      <td>30.1</td>\n",
       "      <td>39.3</td>\n",
       "      <td>No</td>\n",
       "    </tr>\n",
       "    <tr>\n",
       "      <th>59778</th>\n",
       "      <td>2013-08-22</td>\n",
       "      <td>Bendigo</td>\n",
       "      <td>3.7</td>\n",
       "      <td>12.6</td>\n",
       "      <td>6.6</td>\n",
       "      <td>1.4</td>\n",
       "      <td>NaN</td>\n",
       "      <td>NW</td>\n",
       "      <td>41.0</td>\n",
       "      <td>WNW</td>\n",
       "      <td>...</td>\n",
       "      <td>19.0</td>\n",
       "      <td>95.0</td>\n",
       "      <td>71.0</td>\n",
       "      <td>1011.3</td>\n",
       "      <td>1009.4</td>\n",
       "      <td>8.0</td>\n",
       "      <td>8.0</td>\n",
       "      <td>8.5</td>\n",
       "      <td>12.2</td>\n",
       "      <td>Yes</td>\n",
       "    </tr>\n",
       "    <tr>\n",
       "      <th>78980</th>\n",
       "      <td>2011-10-19</td>\n",
       "      <td>Watsonia</td>\n",
       "      <td>7.6</td>\n",
       "      <td>27.9</td>\n",
       "      <td>0.0</td>\n",
       "      <td>8.0</td>\n",
       "      <td>12.5</td>\n",
       "      <td>N</td>\n",
       "      <td>54.0</td>\n",
       "      <td>NE</td>\n",
       "      <td>...</td>\n",
       "      <td>22.0</td>\n",
       "      <td>57.0</td>\n",
       "      <td>36.0</td>\n",
       "      <td>1026.6</td>\n",
       "      <td>1023.1</td>\n",
       "      <td>1.0</td>\n",
       "      <td>1.0</td>\n",
       "      <td>19.8</td>\n",
       "      <td>27.3</td>\n",
       "      <td>No</td>\n",
       "    </tr>\n",
       "    <tr>\n",
       "      <th>...</th>\n",
       "      <td>...</td>\n",
       "      <td>...</td>\n",
       "      <td>...</td>\n",
       "      <td>...</td>\n",
       "      <td>...</td>\n",
       "      <td>...</td>\n",
       "      <td>...</td>\n",
       "      <td>...</td>\n",
       "      <td>...</td>\n",
       "      <td>...</td>\n",
       "      <td>...</td>\n",
       "      <td>...</td>\n",
       "      <td>...</td>\n",
       "      <td>...</td>\n",
       "      <td>...</td>\n",
       "      <td>...</td>\n",
       "      <td>...</td>\n",
       "      <td>...</td>\n",
       "      <td>...</td>\n",
       "      <td>...</td>\n",
       "      <td>...</td>\n",
       "    </tr>\n",
       "    <tr>\n",
       "      <th>5518</th>\n",
       "      <td>2016-01-12</td>\n",
       "      <td>BadgerysCreek</td>\n",
       "      <td>19.7</td>\n",
       "      <td>34.6</td>\n",
       "      <td>5.0</td>\n",
       "      <td>NaN</td>\n",
       "      <td>NaN</td>\n",
       "      <td>SE</td>\n",
       "      <td>33.0</td>\n",
       "      <td>N</td>\n",
       "      <td>...</td>\n",
       "      <td>19.0</td>\n",
       "      <td>65.0</td>\n",
       "      <td>53.0</td>\n",
       "      <td>1010.3</td>\n",
       "      <td>1011.1</td>\n",
       "      <td>NaN</td>\n",
       "      <td>NaN</td>\n",
       "      <td>27.0</td>\n",
       "      <td>29.2</td>\n",
       "      <td>Yes</td>\n",
       "    </tr>\n",
       "    <tr>\n",
       "      <th>71785</th>\n",
       "      <td>2012-11-23</td>\n",
       "      <td>Mildura</td>\n",
       "      <td>12.4</td>\n",
       "      <td>32.3</td>\n",
       "      <td>0.0</td>\n",
       "      <td>10.2</td>\n",
       "      <td>10.5</td>\n",
       "      <td>NE</td>\n",
       "      <td>24.0</td>\n",
       "      <td>E</td>\n",
       "      <td>...</td>\n",
       "      <td>9.0</td>\n",
       "      <td>43.0</td>\n",
       "      <td>19.0</td>\n",
       "      <td>1017.9</td>\n",
       "      <td>1014.4</td>\n",
       "      <td>4.0</td>\n",
       "      <td>6.0</td>\n",
       "      <td>21.2</td>\n",
       "      <td>29.9</td>\n",
       "      <td>No</td>\n",
       "    </tr>\n",
       "    <tr>\n",
       "      <th>7835</th>\n",
       "      <td>2014-02-19</td>\n",
       "      <td>Cobar</td>\n",
       "      <td>23.0</td>\n",
       "      <td>34.1</td>\n",
       "      <td>0.0</td>\n",
       "      <td>8.2</td>\n",
       "      <td>NaN</td>\n",
       "      <td>W</td>\n",
       "      <td>56.0</td>\n",
       "      <td>NNW</td>\n",
       "      <td>...</td>\n",
       "      <td>28.0</td>\n",
       "      <td>73.0</td>\n",
       "      <td>19.0</td>\n",
       "      <td>1002.1</td>\n",
       "      <td>999.2</td>\n",
       "      <td>7.0</td>\n",
       "      <td>1.0</td>\n",
       "      <td>25.6</td>\n",
       "      <td>33.3</td>\n",
       "      <td>No</td>\n",
       "    </tr>\n",
       "    <tr>\n",
       "      <th>120043</th>\n",
       "      <td>2015-11-09</td>\n",
       "      <td>PerthAirport</td>\n",
       "      <td>14.7</td>\n",
       "      <td>30.4</td>\n",
       "      <td>0.0</td>\n",
       "      <td>7.0</td>\n",
       "      <td>12.4</td>\n",
       "      <td>E</td>\n",
       "      <td>52.0</td>\n",
       "      <td>S</td>\n",
       "      <td>...</td>\n",
       "      <td>30.0</td>\n",
       "      <td>58.0</td>\n",
       "      <td>40.0</td>\n",
       "      <td>1019.7</td>\n",
       "      <td>1016.0</td>\n",
       "      <td>1.0</td>\n",
       "      <td>2.0</td>\n",
       "      <td>22.6</td>\n",
       "      <td>28.1</td>\n",
       "      <td>No</td>\n",
       "    </tr>\n",
       "    <tr>\n",
       "      <th>122308</th>\n",
       "      <td>2013-04-25</td>\n",
       "      <td>Perth</td>\n",
       "      <td>15.7</td>\n",
       "      <td>26.4</td>\n",
       "      <td>0.0</td>\n",
       "      <td>4.4</td>\n",
       "      <td>0.4</td>\n",
       "      <td>NW</td>\n",
       "      <td>19.0</td>\n",
       "      <td>NNE</td>\n",
       "      <td>...</td>\n",
       "      <td>6.0</td>\n",
       "      <td>51.0</td>\n",
       "      <td>41.0</td>\n",
       "      <td>1015.6</td>\n",
       "      <td>1012.8</td>\n",
       "      <td>7.0</td>\n",
       "      <td>7.0</td>\n",
       "      <td>21.0</td>\n",
       "      <td>26.2</td>\n",
       "      <td>No</td>\n",
       "    </tr>\n",
       "  </tbody>\n",
       "</table>\n",
       "<p>99535 rows × 22 columns</p>\n",
       "</div>"
      ],
      "text/plain": [
       "           Tanggal           Kota  Suhu Minimum  Suhu Maximum  Curah Hujan  \\\n",
       "26038   2014-05-24        Penrith          10.6          24.9          0.0   \n",
       "83712   2016-09-04       Dartmoor           6.0          15.1          1.6   \n",
       "12822   2011-01-26          Moree          24.6          41.4          0.0   \n",
       "59778   2013-08-22        Bendigo           3.7          12.6          6.6   \n",
       "78980   2011-10-19       Watsonia           7.6          27.9          0.0   \n",
       "...            ...            ...           ...           ...          ...   \n",
       "5518    2016-01-12  BadgerysCreek          19.7          34.6          5.0   \n",
       "71785   2012-11-23        Mildura          12.4          32.3          0.0   \n",
       "7835    2014-02-19          Cobar          23.0          34.1          0.0   \n",
       "120043  2015-11-09   PerthAirport          14.7          30.4          0.0   \n",
       "122308  2013-04-25          Perth          15.7          26.4          0.0   \n",
       "\n",
       "        Penguapan  Jam Cerah Arah Angin 24 jam  Kecepatan Angin 24 jam  \\\n",
       "26038         NaN        NaN                NW                    20.0   \n",
       "83712         NaN        NaN                NW                    41.0   \n",
       "12822        12.4       12.8                NE                    31.0   \n",
       "59778         1.4        NaN                NW                    41.0   \n",
       "78980         8.0       12.5                 N                    54.0   \n",
       "...           ...        ...               ...                     ...   \n",
       "5518          NaN        NaN                SE                    33.0   \n",
       "71785        10.2       10.5                NE                    24.0   \n",
       "7835          8.2        NaN                 W                    56.0   \n",
       "120043        7.0       12.4                 E                    52.0   \n",
       "122308        4.4        0.4                NW                    19.0   \n",
       "\n",
       "       Arah Angin 9 Pagi  ... Kecepatan Angin 3 Sore  Kelembaban 9 Pagi  \\\n",
       "26038                SSW  ...                    0.0               68.0   \n",
       "83712                NNW  ...                   24.0               94.0   \n",
       "12822                NNE  ...                   11.0               51.0   \n",
       "59778                WNW  ...                   19.0               95.0   \n",
       "78980                 NE  ...                   22.0               57.0   \n",
       "...                  ...  ...                    ...                ...   \n",
       "5518                   N  ...                   19.0               65.0   \n",
       "71785                  E  ...                    9.0               43.0   \n",
       "7835                 NNW  ...                   28.0               73.0   \n",
       "120043                 S  ...                   30.0               58.0   \n",
       "122308               NNE  ...                    6.0               51.0   \n",
       "\n",
       "        Kelembaban 3 Sore  Tekanan Udara 9 Pagi  Tekanan Udara 3 Sore  \\\n",
       "26038                47.0                   NaN                   NaN   \n",
       "83712                77.0                1023.0                1024.0   \n",
       "12822                24.0                1012.7                1009.6   \n",
       "59778                71.0                1011.3                1009.4   \n",
       "78980                36.0                1026.6                1023.1   \n",
       "...                   ...                   ...                   ...   \n",
       "5518                 53.0                1010.3                1011.1   \n",
       "71785                19.0                1017.9                1014.4   \n",
       "7835                 19.0                1002.1                 999.2   \n",
       "120043               40.0                1019.7                1016.0   \n",
       "122308               41.0                1015.6                1012.8   \n",
       "\n",
       "        Awan 9 Pagi  Awan 3 Sore  Suhu Celcius 9 Pagi  Suhu Celcius 3 Sore  \\\n",
       "26038           NaN          NaN                 16.7                 23.3   \n",
       "83712           NaN          NaN                 10.6                 13.9   \n",
       "12822           0.0          1.0                 30.1                 39.3   \n",
       "59778           8.0          8.0                  8.5                 12.2   \n",
       "78980           1.0          1.0                 19.8                 27.3   \n",
       "...             ...          ...                  ...                  ...   \n",
       "5518            NaN          NaN                 27.0                 29.2   \n",
       "71785           4.0          6.0                 21.2                 29.9   \n",
       "7835            7.0          1.0                 25.6                 33.3   \n",
       "120043          1.0          2.0                 22.6                 28.1   \n",
       "122308          7.0          7.0                 21.0                 26.2   \n",
       "\n",
       "        Hari ini Hujan  \n",
       "26038               No  \n",
       "83712              Yes  \n",
       "12822               No  \n",
       "59778              Yes  \n",
       "78980               No  \n",
       "...                ...  \n",
       "5518               Yes  \n",
       "71785               No  \n",
       "7835                No  \n",
       "120043              No  \n",
       "122308              No  \n",
       "\n",
       "[99535 rows x 22 columns]"
      ]
     },
     "execution_count": 63,
     "metadata": {},
     "output_type": "execute_result"
    }
   ],
   "source": [
    "X_train"
   ]
  },
  {
   "cell_type": "markdown",
   "id": "841c2ede",
   "metadata": {},
   "source": [
    "Karena jumlah data train cukup besar, akan dilakukan undersampling untuk memperkecil ukuran sampet data training"
   ]
  },
  {
   "cell_type": "markdown",
   "id": "7482fa69",
   "metadata": {},
   "source": [
    "### Undersampling data latih\n",
    "***\n",
    "Tujuan dilakukannya undersampling adalah: <br>\n",
    "1. agar kelas target balanced \n",
    "2. mereduce ukuran sampel latih yang cukup besar\n",
    "3. Mengurangi waktu komputasi saat training model\n",
    "4. Meningkatkan nilai recall model"
   ]
  },
  {
   "cell_type": "code",
   "execution_count": 64,
   "id": "70b642ea",
   "metadata": {},
   "outputs": [],
   "source": [
    "# menyatukan atribut dan target pada data latih\n",
    "df = pd.concat([pd.DataFrame(data=X_train.reset_index(drop=True)),y_train.reset_index(drop=True)],axis=1)"
   ]
  },
  {
   "cell_type": "code",
   "execution_count": 65,
   "id": "ddeded36",
   "metadata": {},
   "outputs": [
    {
     "data": {
      "text/plain": [
       "0.0    77221\n",
       "1.0    22314\n",
       "Name: Hari besok Hujan, dtype: int64"
      ]
     },
     "execution_count": 65,
     "metadata": {},
     "output_type": "execute_result"
    }
   ],
   "source": [
    "# melihat banyak setiap nilai pada label kelas\n",
    "df['Hari besok Hujan'].value_counts()"
   ]
  },
  {
   "cell_type": "code",
   "execution_count": 66,
   "id": "d524213b",
   "metadata": {},
   "outputs": [],
   "source": [
    "# jumlah sampel untuk diundersampling\n",
    "n_sampel = 5500\n",
    "\n",
    "# under-sampling kelas 'No' agar jumlahnya sama dengan kelas 'Yes' sebesar n_sampel\n",
    "no_df = df[df['Hari besok Hujan']==0].sample(frac=1, random_state=42)[:n_sampel]\n",
    "yes_df = df[df['Hari besok Hujan']==1].sample(frac=1, random_state=42)[:n_sampel]\n",
    "\n",
    "# concat data berlabel 'yes' dan 'no' hasil balanced sampling\n",
    "normal_distributed_df = pd.concat([yes_df,no_df])\n",
    "\n",
    "# shuffle row pada data yang sudah digabung agar acak\n",
    "rainAus_df_normal_distributed = normal_distributed_df.sample(frac=1, random_state=42)\n",
    "\n",
    "X_train = rainAus_df_normal_distributed.drop('Hari besok Hujan',axis=1)\n",
    "y_train = rainAus_df_normal_distributed['Hari besok Hujan']"
   ]
  },
  {
   "cell_type": "markdown",
   "id": "e6eed726",
   "metadata": {},
   "source": [
    "### Drop columns based on Anova and Chi Squared"
   ]
  },
  {
   "cell_type": "code",
   "execution_count": 67,
   "id": "c8f697ee",
   "metadata": {},
   "outputs": [],
   "source": [
    "dropped_columns = ['Tanggal', 'Suhu Celcius 9 Pagi']\n",
    "\n",
    "X_train.drop(dropped_columns,axis=1,inplace=True)\n",
    "X_test.drop(dropped_columns,axis=1,inplace=True)"
   ]
  },
  {
   "cell_type": "markdown",
   "id": "0edc5770",
   "metadata": {},
   "source": [
    "### Mengelompokkan Atribut berdasarkan tipe datanya"
   ]
  },
  {
   "cell_type": "code",
   "execution_count": 68,
   "id": "1fb38af6",
   "metadata": {},
   "outputs": [],
   "source": [
    "# numerical features\n",
    "numerical_columns = list(X_train.select_dtypes(include=['float64', 'int64']).columns.values)\n",
    "diskrit_columns = ['Awan 9 Pagi','Awan 3 Sore']\n",
    "continuous_columns = [col for col in numerical_columns if col not in diskrit_columns]\n",
    "\n",
    "# categorical features\n",
    "categorical_columns = list(X_train.select_dtypes(include=['object']).columns.values)\n",
    "ordinal_columns = ['Hari ini Hujan']\n",
    "nominal_columns = [col for col in categorical_columns if col not in ordinal_columns]"
   ]
  },
  {
   "cell_type": "markdown",
   "id": "9981dc1e",
   "metadata": {},
   "source": [
    "### Imputasi *missing values*"
   ]
  },
  {
   "cell_type": "code",
   "execution_count": 69,
   "id": "2048c943",
   "metadata": {},
   "outputs": [],
   "source": [
    "# imputer untuk kolom numerikal dan kategorikal\n",
    "numerical_imputer = SimpleImputer(strategy='median')\n",
    "cateogrical_imputer = SimpleImputer(strategy='most_frequent')\n",
    "\n",
    "# fit into train\n",
    "numerical_imputer.fit(X_train[numerical_columns])\n",
    "cateogrical_imputer.fit(X_train[categorical_columns])\n",
    "\n",
    "# transform into train \n",
    "X_train[numerical_columns] = numerical_imputer.transform(X_train[numerical_columns])\n",
    "X_train[categorical_columns] = cateogrical_imputer.transform(X_train[categorical_columns])\n",
    "\n",
    "X_test[numerical_columns] = numerical_imputer.transform(X_test[numerical_columns])\n",
    "X_test[categorical_columns] = cateogrical_imputer.transform(X_test[categorical_columns])"
   ]
  },
  {
   "cell_type": "markdown",
   "id": "e355f2ab",
   "metadata": {},
   "source": [
    "### One Hot Encoding Categorical Features"
   ]
  },
  {
   "cell_type": "code",
   "execution_count": 70,
   "id": "e30a6bdb",
   "metadata": {},
   "outputs": [],
   "source": [
    "onehot_encoder = OneHotEncoder()\n",
    "onehot_encoder.fit(X_train[categorical_columns])\n",
    "\n",
    "# transform into train and test\n",
    "X_train_ohe = onehot_encoder.transform(X_train[categorical_columns]).toarray()\n",
    "X_test_ohe = onehot_encoder.transform(X_test[categorical_columns]).toarray()\n",
    "\n",
    "# make dataframe for ohe results\n",
    "X_train_cat = pd.DataFrame(data=X_train_ohe, columns=onehot_encoder.get_feature_names_out(categorical_columns))\n",
    "X_test_cat = pd.DataFrame(data=X_test_ohe, columns=onehot_encoder.get_feature_names_out(categorical_columns))"
   ]
  },
  {
   "cell_type": "markdown",
   "id": "3703f212",
   "metadata": {},
   "source": [
    "### Concat Numerical and Categorical Features"
   ]
  },
  {
   "cell_type": "markdown",
   "id": "782e091c",
   "metadata": {},
   "source": [
    "#### Kolom Numerikal"
   ]
  },
  {
   "cell_type": "code",
   "execution_count": 71,
   "id": "b6bd26d1",
   "metadata": {},
   "outputs": [],
   "source": [
    "# train numerikal\n",
    "X_train_num = X_train[numerical_columns].reset_index()\n",
    "X_train_num.drop('index',axis=1,inplace=True)\n",
    "\n",
    "# test numerikal\n",
    "X_test_num = X_test[numerical_columns].reset_index()\n",
    "X_test_num.drop('index',axis=1,inplace=True)"
   ]
  },
  {
   "cell_type": "markdown",
   "id": "185127a2",
   "metadata": {},
   "source": [
    "#### Simpan Data X,y berdasarkan tipe data atribut"
   ]
  },
  {
   "cell_type": "code",
   "execution_count": 72,
   "id": "ff6b3546",
   "metadata": {},
   "outputs": [],
   "source": [
    "# saved_models['data']['groupped'] = {\n",
    "#     'numerical':{\n",
    "#         'X_train':X_train_num,\n",
    "#         'X_test':X_test_num\n",
    "#     },\n",
    "#     'categorical':{\n",
    "#         'X_train':X_train_cat,\n",
    "#         'X_test':X_test_cat\n",
    "#     }\n",
    "# }"
   ]
  },
  {
   "cell_type": "markdown",
   "id": "74a3b488",
   "metadata": {},
   "source": [
    "#### Concat"
   ]
  },
  {
   "cell_type": "code",
   "execution_count": 73,
   "id": "322f0ae6",
   "metadata": {},
   "outputs": [],
   "source": [
    "X_train = pd.concat([X_train_num,X_train_cat],axis=1)\n",
    "X_test = pd.concat([X_test_num, X_test_cat],axis=1)\n",
    "\n",
    "# reset index y_train dan y_test agar sama dengan X_train dan X_test\n",
    "y_train = y_train.reset_index(drop=True)\n",
    "y_test = y_test.reset_index(drop=True)"
   ]
  },
  {
   "cell_type": "markdown",
   "id": "86b22a83",
   "metadata": {},
   "source": [
    "### Features Scaling"
   ]
  },
  {
   "cell_type": "code",
   "execution_count": 74,
   "id": "0e0cc167",
   "metadata": {},
   "outputs": [],
   "source": [
    "# define standardscaler scaler\n",
    "standard_scaler = StandardScaler()\n",
    "\n",
    "# fit into training data\n",
    "standard_scaler.fit(X_train)\n",
    "\n",
    "# transform into train and test data\n",
    "X_train = standard_scaler.transform(X_train)\n",
    "X_test = standard_scaler.transform(X_test)"
   ]
  },
  {
   "cell_type": "markdown",
   "id": "5984f4b0",
   "metadata": {},
   "source": [
    "### Dimensionality Reduction"
   ]
  },
  {
   "cell_type": "markdown",
   "id": "422d4bbe",
   "metadata": {},
   "source": [
    "#### Menghitung PCA untuk data train "
   ]
  },
  {
   "cell_type": "code",
   "execution_count": 75,
   "id": "bd9a35e6",
   "metadata": {},
   "outputs": [
    {
     "name": "stdout",
     "output_type": "stream",
     "text": [
      "Nilai Eigen setiap Principal Component\n",
      "[5.20022530e+00 3.67107432e+00 3.00080522e+00 2.50704249e+00\n",
      " 2.19905297e+00 2.06285319e+00 1.90943602e+00 1.81466036e+00\n",
      " 1.67287000e+00 1.58200977e+00 1.52112153e+00 1.45006680e+00\n",
      " 1.42320734e+00 1.36095300e+00 1.30484860e+00 1.29843988e+00\n",
      " 1.26797068e+00 1.25851901e+00 1.23629025e+00 1.22145122e+00\n",
      " 1.21678776e+00 1.19921148e+00 1.18254568e+00 1.17329740e+00\n",
      " 1.16659795e+00 1.14932923e+00 1.14512919e+00 1.13156841e+00\n",
      " 1.12071663e+00 1.11193507e+00 1.10783429e+00 1.09833117e+00\n",
      " 1.08983042e+00 1.08716025e+00 1.07878445e+00 1.07424316e+00\n",
      " 1.06667858e+00 1.05516411e+00 1.05432048e+00 1.05263668e+00\n",
      " 1.04254676e+00 1.03887717e+00 1.03663786e+00 1.03380001e+00\n",
      " 1.03256893e+00 1.02930810e+00 1.02516056e+00 1.02363945e+00\n",
      " 1.02212882e+00 1.02178571e+00 1.02076495e+00 1.01746646e+00\n",
      " 1.01304179e+00 1.00746990e+00 1.00463084e+00 1.00393684e+00\n",
      " 1.00028738e+00 9.86880278e-01 9.82961963e-01 9.80448725e-01\n",
      " 9.71011219e-01 9.64457547e-01 9.64070990e-01 9.54983544e-01\n",
      " 9.50089237e-01 9.37851399e-01 9.33500863e-01 9.28386916e-01\n",
      " 9.21185701e-01 9.10776765e-01 9.07612193e-01 9.01407432e-01\n",
      " 8.94454175e-01 8.85144495e-01 8.68309225e-01 8.59439555e-01\n",
      " 8.51793269e-01 8.43371220e-01 8.33520399e-01 8.17722699e-01\n",
      " 8.12623467e-01 8.01704390e-01 7.79073568e-01 7.63400383e-01\n",
      " 7.34617867e-01 7.32596655e-01 6.84942234e-01 6.81507415e-01\n",
      " 6.75002638e-01 6.45393582e-01 6.20238586e-01 5.94836046e-01\n",
      " 5.75558375e-01 5.36271412e-01 5.27524133e-01 4.75175150e-01\n",
      " 4.57510607e-01 4.39930795e-01 4.00186258e-01 3.79019445e-01\n",
      " 3.69716764e-01 3.39084626e-01 3.33358775e-01 2.99018024e-01\n",
      " 2.49952673e-01 2.21427638e-01 8.40419799e-02 2.54214643e-02\n",
      " 2.27979858e-02 1.05682544e-30 6.43930567e-31 6.15554328e-31\n",
      " 4.96411910e-31 1.50781766e-31]\n",
      "==============================\n",
      "Rasio Nilai Eigen setiap Principal Component\n",
      "[4.56118645e-02 3.21994788e-02 2.63204598e-02 2.19896015e-02\n",
      " 1.92881847e-02 1.80935584e-02 1.67479161e-02 1.59166262e-02\n",
      " 1.46729642e-02 1.38760171e-02 1.33419583e-02 1.27187279e-02\n",
      " 1.24831400e-02 1.19370989e-02 1.14449998e-02 1.13887881e-02\n",
      " 1.11215387e-02 1.10386369e-02 1.08436654e-02 1.07135104e-02\n",
      " 1.06726065e-02 1.05184427e-02 1.03722647e-02 1.02911468e-02\n",
      " 1.02323851e-02 1.00809188e-02 1.00440797e-02 9.92513631e-03\n",
      " 9.82995393e-03 9.75292965e-03 9.71696121e-03 9.63360804e-03\n",
      " 9.55904688e-03 9.53562645e-03 9.46216120e-03 9.42232897e-03\n",
      " 9.35597902e-03 9.25498406e-03 9.24758449e-03 9.23281564e-03\n",
      " 9.14431564e-03 9.11212917e-03 9.09248788e-03 9.06759670e-03\n",
      " 9.05679881e-03 9.02819760e-03 8.99181898e-03 8.97847708e-03\n",
      " 8.96522722e-03 8.96221773e-03 8.95326452e-03 8.92433302e-03\n",
      " 8.88552361e-03 8.83665183e-03 8.81175011e-03 8.80566295e-03\n",
      " 8.77365302e-03 8.65605756e-03 8.62168950e-03 8.59964555e-03\n",
      " 8.51686794e-03 8.45938482e-03 8.45599427e-03 8.37628709e-03\n",
      " 8.33335847e-03 8.22601877e-03 8.18785965e-03 8.14300454e-03\n",
      " 8.07984172e-03 7.98854357e-03 7.96078669e-03 7.90636391e-03\n",
      " 7.84537597e-03 7.76371954e-03 7.61605516e-03 7.53825811e-03\n",
      " 7.47119152e-03 7.39732062e-03 7.31091776e-03 7.17235404e-03\n",
      " 7.12762800e-03 7.03185533e-03 6.83335739e-03 6.69588581e-03\n",
      " 6.44343056e-03 6.42570224e-03 6.00771901e-03 5.97759175e-03\n",
      " 5.92053749e-03 5.66083254e-03 5.44019474e-03 5.21738571e-03\n",
      " 5.04829870e-03 4.70370755e-03 4.62698400e-03 4.16782414e-03\n",
      " 4.01288610e-03 3.85869124e-03 3.51008665e-03 3.32442973e-03\n",
      " 3.24283468e-03 2.97415614e-03 2.92393394e-03 2.62272667e-03\n",
      " 2.19236799e-03 1.94217113e-03 7.37143331e-04 2.22975028e-04\n",
      " 1.99964152e-04 9.26955585e-33 5.64800024e-33 5.39910850e-33\n",
      " 4.35409457e-33 1.32252683e-33]\n",
      "==============================\n"
     ]
    }
   ],
   "source": [
    "# instansiasi objek PCA\n",
    "pca_ = PCA()\n",
    "\n",
    "# fit into training data\n",
    "pca_.fit(X_train)\n",
    "\n",
    "# mencetak nilai eigen setiap principal component\n",
    "print('Nilai Eigen setiap Principal Component')\n",
    "print(pca_.explained_variance_)\n",
    "print(\"=\"*30)\n",
    "\n",
    "# mencetak ratio masing-masing nilai eigen terhadap keseluruhan\n",
    "print('Rasio Nilai Eigen setiap Principal Component')\n",
    "print(pca_.explained_variance_ratio_)\n",
    "print(\"=\"*30)"
   ]
  },
  {
   "cell_type": "code",
   "execution_count": 76,
   "id": "af807e76",
   "metadata": {},
   "outputs": [
    {
     "data": {
      "image/png": "[encoded data removed]",
      "text/plain": [
       "<Figure size 1080x720 with 1 Axes>"
      ]
     },
     "metadata": {
      "needs_background": "light"
     },
     "output_type": "display_data"
    }
   ],
   "source": [
    "plt.figure(figsize=(15,10))\n",
    "plt.plot(np.cumsum(pca_.explained_variance_ratio_), '-o')\n",
    "plt.title('Grafik Penjumlahan Kumulatif dari Rasio Nilai Eigen Setiap Principal Component')\n",
    "plt.xlabel(\"Principal Component ke-\")\n",
    "plt.ylabel('Penjumlahan Kumulatif')\n",
    "plt.show()"
   ]
  },
  {
   "cell_type": "markdown",
   "id": "9d22f1bb",
   "metadata": {},
   "source": [
    "Grafik ini menjelaskan berapa persen informasi yang bisa dijelaskan dari kumpulan beberapa principal component"
   ]
  },
  {
   "cell_type": "markdown",
   "id": "850690a7",
   "metadata": {},
   "source": [
    "#### Menentukan n_best component dengan threshold tertentu"
   ]
  },
  {
   "cell_type": "code",
   "execution_count": 77,
   "id": "3c499aa9",
   "metadata": {},
   "outputs": [],
   "source": [
    "threshold_cumsum = 0.65\n",
    "best_principal_component = 0\n",
    "for pc_ke,cumsum in enumerate(np.cumsum(pca_.explained_variance_ratio_)):\n",
    "    if cumsum >=threshold_cumsum:\n",
    "        # tambah 1 karna start index dari 0\n",
    "        best_principal_component=pc_ke+1\n",
    "        break"
   ]
  },
  {
   "cell_type": "code",
   "execution_count": 78,
   "id": "4f263937",
   "metadata": {},
   "outputs": [
    {
     "data": {
      "text/plain": [
       "53"
      ]
     },
     "execution_count": 78,
     "metadata": {},
     "output_type": "execute_result"
    }
   ],
   "source": [
    "best_principal_component"
   ]
  },
  {
   "cell_type": "markdown",
   "id": "e7d80936",
   "metadata": {},
   "source": [
    "**Analisis** <br>\n",
    "Dengan menggunakan **53** principal component, kita bisa mempertahankan informasi dari data sebesar += 65%"
   ]
  },
  {
   "cell_type": "markdown",
   "id": "102e53ab",
   "metadata": {},
   "source": [
    "#### Fit and Transform PCA dengan best_component yang didapat"
   ]
  },
  {
   "cell_type": "code",
   "execution_count": 79,
   "id": "04078a7e",
   "metadata": {},
   "outputs": [],
   "source": [
    "# instansiasi objek PCA dengan jumlah komponen terbaik\n",
    "pca_scaler_ = PCA(n_components=best_principal_component)\n",
    "\n",
    "# fit into training\n",
    "pca_scaler_.fit(X_train)\n",
    "\n",
    "# transform into train and test\n",
    "X_train_pca = pca_scaler_.transform(X_train)\n",
    "X_test_pca = pca_scaler_.transform(X_test)"
   ]
  },
  {
   "cell_type": "markdown",
   "id": "570bc011",
   "metadata": {},
   "source": [
    "## Modelling"
   ]
  },
  {
   "cell_type": "code",
   "execution_count": 80,
   "id": "c6130b22",
   "metadata": {},
   "outputs": [],
   "source": [
    "# Inisialisasi fold dan scoring yang digunakan\n",
    "num_fold = 10\n",
    "scoring_accuracy ='accuracy'\n",
    "scoring_recall = 'recall'"
   ]
  },
  {
   "cell_type": "markdown",
   "id": "dfa84009",
   "metadata": {},
   "source": [
    "### Buat list dari model yang akan digunakan"
   ]
  },
  {
   "cell_type": "code",
   "execution_count": 81,
   "id": "8ed7f2a3",
   "metadata": {},
   "outputs": [],
   "source": [
    "# buat list dari seluruh model yang digunakan\n",
    "models = []\n",
    "\n",
    "# append model\n",
    "models.append(('Logistic Regression', LogisticRegression()))\n",
    "models.append(('Support Vector Machine', SVC()))\n",
    "\n",
    "#k-fold cross validation initialization object\n",
    "kfold = KFold(n_splits=num_fold, random_state=42, shuffle=True)"
   ]
  },
  {
   "cell_type": "markdown",
   "id": "15bf80fa",
   "metadata": {},
   "source": [
    "### Fungsi untuk K-fold cross validation setiap model"
   ]
  },
  {
   "cell_type": "code",
   "execution_count": 82,
   "id": "4bf47b40",
   "metadata": {},
   "outputs": [],
   "source": [
    "def perform_model(models,X_train,y_train,kfold, scoring='accuracy'):\n",
    "    \"\"\"\n",
    "        Deskripsi Function:\n",
    "        - Fungsi ini digunakan untuk melakukan model cross-validation dengan data latih yang ada. Setiap model\n",
    "        akan divalidasi dengan ukuran skor (scoring) yang telah ditetapkan, semisal (akurasi, recall, etc).\n",
    "        \n",
    "        Function parameters:\n",
    "        - models: list of tuples dari model yang ingin dituning (LogisticRegression, SVM, etc)\n",
    "        - X_train: dataframe atau np.array dari atribut data latih yang sudah dipreprocessing\n",
    "        - y_train: dataframe atau np.array dari target data latih yang sudah dipreprocessing\n",
    "        - kfold: objek hasil instansiasi kelas KFold \n",
    "        - scoring: metode untuk memngukur performa model (accuracy, recall, precision, etc)\n",
    "        \n",
    "        Function returns:\n",
    "        - cv_results: List dari hasil cross validation setiap model yang sudah dituning\n",
    "        - model_names: List dari nama setiap model (string)\n",
    "        - print_msg: List berupa pesan untuk menampilkan model dengan hasil performanya pada data validasi\n",
    "    \"\"\"\n",
    "    cv_results = [] #menampung hasil crossvalidation setiap model\n",
    "    model_names = [] #menampung nama model\n",
    "    print_msg = [] #menampung pesan yang akan ditampilkan\n",
    "    \n",
    "    \n",
    "    for model_name, model in models:\n",
    "        #cross validation result\n",
    "        cv_result = cross_val_score(model,X_train,y_train, cv=kfold,scoring=scoring)\n",
    "\n",
    "        #append into list\n",
    "        cv_results.append(cv_result)\n",
    "        model_names.append(model_name)\n",
    "\n",
    "        #print result\n",
    "        msg_result = \"{}: mean {} = {}  std {} = {}\".format(model_name,scoring,cv_result.mean(),scoring,cv_result.std())\n",
    "        print_msg.append(msg_result)\n",
    "    \n",
    "    return cv_results,model_names,print_msg"
   ]
  },
  {
   "cell_type": "markdown",
   "id": "c2c55900",
   "metadata": {},
   "source": [
    "### Tuning model dengan scoring \"accuracy\""
   ]
  },
  {
   "cell_type": "code",
   "execution_count": 83,
   "id": "2eb5040f",
   "metadata": {},
   "outputs": [],
   "source": [
    "cv_results_accuracy, model_names, print_msg_accuracy = perform_model(\n",
    "    models=models,\n",
    "    X_train=X_train_pca,\n",
    "    y_train=y_train,\n",
    "    kfold=kfold,\n",
    "    scoring=scoring_accuracy\n",
    ")"
   ]
  },
  {
   "cell_type": "code",
   "execution_count": 84,
   "id": "3ee78a6e",
   "metadata": {},
   "outputs": [
    {
     "name": "stdout",
     "output_type": "stream",
     "text": [
      "Logistic Regression: mean accuracy = 0.7498181818181818  std accuracy = 0.00781818181818183\n",
      "Support Vector Machine: mean accuracy = 0.7722727272727273  std accuracy = 0.01083497550596567\n"
     ]
    }
   ],
   "source": [
    "# cetak hasil rata-rata akurasi setiap model\n",
    "for msg in print_msg_accuracy:\n",
    "    print(msg)"
   ]
  },
  {
   "cell_type": "markdown",
   "id": "f2ac84ba",
   "metadata": {},
   "source": [
    "#### Bandingkan hasil akurasi setiap model"
   ]
  },
  {
   "cell_type": "code",
   "execution_count": 85,
   "id": "4b266b79",
   "metadata": {},
   "outputs": [
    {
     "data": {
      "image/png": "[encoded data removed]",
      "text/plain": [
       "<Figure size 576x288 with 1 Axes>"
      ]
     },
     "metadata": {
      "needs_background": "light"
     },
     "output_type": "display_data"
    }
   ],
   "source": [
    "fig = plt.figure(figsize=(10,8))\n",
    "fig.suptitle('Hasil perbandingan akurasi setiap model klasifikasi')\n",
    "ax = fig.add_subplot(111)\n",
    "\n",
    "plt.boxplot(cv_results_accuracy)\n",
    "ax.set_xticklabels(model_names, rotation=90)\n",
    "fig.set_size_inches(8,4)\n",
    "plt.show()"
   ]
  },
  {
   "cell_type": "markdown",
   "id": "a477a4ec",
   "metadata": {},
   "source": [
    "**ANALISIS** <br>"
   ]
  },
  {
   "cell_type": "code",
   "execution_count": null,
   "id": "bfabb202",
   "metadata": {},
   "outputs": [],
   "source": []
  },
  {
   "cell_type": "markdown",
   "id": "51f7d7a3",
   "metadata": {},
   "source": [
    "#### Classification report untuk masing-masing model\n",
    "***\n",
    "Ukuran performa yang digunakan pada permasalahan ini adalah memaksimalkan **recall**"
   ]
  },
  {
   "cell_type": "code",
   "execution_count": 86,
   "id": "a72f8802",
   "metadata": {},
   "outputs": [],
   "source": [
    "def print_classification_report(y_train,y_test,y_pred_train,y_pred_test,model_name):\n",
    "    # print score\n",
    "    print(\"Training Accuracy score {}  = {}%\".format(model_name,(metrics.accuracy_score(y_train,y_pred_train))*100))\n",
    "    print(\"Training Recall score {}  = {}%\".format(model_name,(metrics.recall_score(y_train,y_pred_train))*100))\n",
    "    print(\"Testing Accuracy score {}  = {}%\".format(model_name,(metrics.accuracy_score(y_test,y_pred_test))*100))\n",
    "    print(\"Testing Recall score {}  = {}%\".format(model_name,(metrics.recall_score(y_test,y_pred_test))*100))\n",
    "    print(\"=\"*100)\n",
    "    print(\"Confusion Matrix of {} on Training\".format(model_name))\n",
    "    print(metrics.confusion_matrix(y_train,y_pred_train))\n",
    "    print(\"Confusion Matrix of {} on Testing\".format(model_name))\n",
    "    print(metrics.confusion_matrix(y_test,y_pred_test))\n",
    "    print(\"=\"*100)\n",
    "    # hasil klasifikasi\n",
    "    print(\"Detailed Classification Report of {} on Training\".format(model_name))\n",
    "    print(metrics.classification_report(y_train,y_pred_train))\n",
    "    print(\"Detailed Classification Report of {} on Testing\".format(model_name))\n",
    "    print(metrics.classification_report(y_test,y_pred_test))"
   ]
  },
  {
   "cell_type": "markdown",
   "id": "0cca1908",
   "metadata": {},
   "source": [
    "**SVM**"
   ]
  },
  {
   "cell_type": "code",
   "execution_count": 87,
   "id": "33cc410c",
   "metadata": {},
   "outputs": [],
   "source": [
    "# inisialisasi model\n",
    "svm_balanced = SVC()\n",
    "# fit model into training data\n",
    "svm_balanced.fit(X_train_pca,y_train)\n",
    "# get y prediction\n",
    "y_pred_train_svm_balanced = svm_balanced.predict(X_train_pca)\n",
    "y_pred_test_svm_balanced = svm_balanced.predict(X_test_pca)"
   ]
  },
  {
   "cell_type": "code",
   "execution_count": 88,
   "id": "c4fb253e",
   "metadata": {},
   "outputs": [
    {
     "name": "stdout",
     "output_type": "stream",
     "text": [
      "Training Accuracy score SVM  = 83.62727272727273%\n",
      "Training Recall score SVM  = 83.87272727272727%\n",
      "Testing Accuracy score SVM  = 77.85409536312063%\n",
      "Testing Recall score SVM  = 77.89396632855798%\n",
      "====================================================================================================\n",
      "Confusion Matrix of SVM on Training\n",
      "[[4586  914]\n",
      " [ 887 4613]]\n",
      "Confusion Matrix of SVM on Testing\n",
      "[[25762  7333]\n",
      " [ 2114  7449]]\n",
      "====================================================================================================\n",
      "Detailed Classification Report of SVM on Training\n",
      "              precision    recall  f1-score   support\n",
      "\n",
      "         0.0       0.84      0.83      0.84      5500\n",
      "         1.0       0.83      0.84      0.84      5500\n",
      "\n",
      "    accuracy                           0.84     11000\n",
      "   macro avg       0.84      0.84      0.84     11000\n",
      "weighted avg       0.84      0.84      0.84     11000\n",
      "\n",
      "Detailed Classification Report of SVM on Testing\n",
      "              precision    recall  f1-score   support\n",
      "\n",
      "         0.0       0.92      0.78      0.85     33095\n",
      "         1.0       0.50      0.78      0.61      9563\n",
      "\n",
      "    accuracy                           0.78     42658\n",
      "   macro avg       0.71      0.78      0.73     42658\n",
      "weighted avg       0.83      0.78      0.79     42658\n",
      "\n"
     ]
    }
   ],
   "source": [
    "print_classification_report(y_train,y_test,y_pred_train_svm_balanced,y_pred_test_svm_balanced,'SVM')"
   ]
  },
  {
   "cell_type": "markdown",
   "id": "d27b94ec",
   "metadata": {},
   "source": [
    "**LogReg**"
   ]
  },
  {
   "cell_type": "code",
   "execution_count": 89,
   "id": "f08d4bcf",
   "metadata": {},
   "outputs": [],
   "source": [
    "# inisialisasi model\n",
    "logreg_balanced = LogisticRegression()\n",
    "# fit model into training data\n",
    "logreg_balanced.fit(X_train_pca,y_train)\n",
    "# get y prediction\n",
    "y_pred_train_logreg_balanced = logreg_balanced.predict(X_train_pca)\n",
    "y_pred_test_logreg_balanced = logreg_balanced.predict(X_test_pca)"
   ]
  },
  {
   "cell_type": "code",
   "execution_count": 90,
   "id": "7bed08cc",
   "metadata": {},
   "outputs": [
    {
     "name": "stdout",
     "output_type": "stream",
     "text": [
      "Training Accuracy score Logistic Regression  = 75.38181818181819%\n",
      "Training Recall score Logistic Regression  = 75.09090909090908%\n",
      "Testing Accuracy score Logistic Regression  = 75.55675371559848%\n",
      "Testing Recall score Logistic Regression  = 75.78165847537383%\n",
      "====================================================================================================\n",
      "Confusion Matrix of Logistic Regression on Training\n",
      "[[4162 1338]\n",
      " [1370 4130]]\n",
      "Confusion Matrix of Logistic Regression on Testing\n",
      "[[24984  8111]\n",
      " [ 2316  7247]]\n",
      "====================================================================================================\n",
      "Detailed Classification Report of Logistic Regression on Training\n",
      "              precision    recall  f1-score   support\n",
      "\n",
      "         0.0       0.75      0.76      0.75      5500\n",
      "         1.0       0.76      0.75      0.75      5500\n",
      "\n",
      "    accuracy                           0.75     11000\n",
      "   macro avg       0.75      0.75      0.75     11000\n",
      "weighted avg       0.75      0.75      0.75     11000\n",
      "\n",
      "Detailed Classification Report of Logistic Regression on Testing\n",
      "              precision    recall  f1-score   support\n",
      "\n",
      "         0.0       0.92      0.75      0.83     33095\n",
      "         1.0       0.47      0.76      0.58      9563\n",
      "\n",
      "    accuracy                           0.76     42658\n",
      "   macro avg       0.69      0.76      0.70     42658\n",
      "weighted avg       0.82      0.76      0.77     42658\n",
      "\n"
     ]
    }
   ],
   "source": [
    "print_classification_report(y_train,y_test,y_pred_train_logreg_balanced,y_pred_test_logreg_balanced,'Logistic Regression')"
   ]
  },
  {
   "cell_type": "markdown",
   "id": "3973b004",
   "metadata": {},
   "source": [
    "### Tuning model dengan hyperparameter tuning"
   ]
  },
  {
   "cell_type": "markdown",
   "id": "2d12057e",
   "metadata": {},
   "source": [
    "####  Hyperparameter Logistic Regression Model"
   ]
  },
  {
   "cell_type": "code",
   "execution_count": 91,
   "id": "fda4be8c",
   "metadata": {},
   "outputs": [],
   "source": [
    "# inisialisasi LogReg Model\n",
    "logreg_params_tuned_model = LogisticRegression()\n",
    "\n",
    "# inisialisasi objek KFold dengan k=10\n",
    "kfold = kfold\n",
    "\n",
    "# inisialisasi daftar hyperparameter yang akan dituning\n",
    "logreg_params_grid={\n",
    "    'C':[0.01,0.1,1],\n",
    "    'tol':[0.1,0.01,0.001],\n",
    "    'solver':['lbfgs', 'liblinear', 'sag', 'saga','newton-cg'],\n",
    "}\n",
    "\n",
    "# instansiasi grid seach objek\n",
    "grid_params_logreg = GridSearchCV(\n",
    "    estimator= logreg_params_tuned_model,\n",
    "    param_grid=logreg_params_grid,\n",
    "    scoring=scoring_recall,\n",
    "    cv = kfold\n",
    ")\n",
    "\n",
    "# fit grid objek ke data train\n",
    "grid_results_logreg_ = grid_params_logreg.fit(X_train_pca,y_train)"
   ]
  },
  {
   "cell_type": "code",
   "execution_count": 92,
   "id": "e3bf5726",
   "metadata": {},
   "outputs": [
    {
     "name": "stdout",
     "output_type": "stream",
     "text": [
      "Best Logistic Regression Hyperparameter: {'C': 0.1, 'solver': 'saga', 'tol': 0.1}\n",
      "Best Logistic Regression Recall Score: 0.7477935571209744\n"
     ]
    }
   ],
   "source": [
    "# Cetak hyperparameter yang memberikan hasil terbaik\n",
    "print('Best Logistic Regression Hyperparameter: {}'.format(grid_results_logreg_.best_params_))\n",
    "print('Best Logistic Regression Recall Score: {}'.format(grid_results_logreg_.best_score_))"
   ]
  },
  {
   "cell_type": "markdown",
   "id": "6daec187",
   "metadata": {},
   "source": [
    "#### Hyperparameter SVM Model"
   ]
  },
  {
   "cell_type": "code",
   "execution_count": 93,
   "id": "09d2a805",
   "metadata": {},
   "outputs": [],
   "source": [
    "# inisialisasi SVM model\n",
    "svm_params_tuned_model = SVC()\n",
    "\n",
    "# inisialisasi objek KFold dengan k=10\n",
    "kfold = kfold\n",
    "\n",
    "# inisialisasi daftar hyperparameter yang akan dituning\n",
    "params_grid={\n",
    "    'C':[0.01,0.1,1],\n",
    "    'kernel' : ['linear', 'poly', 'rbf'],\n",
    "    'gamma':[0.01,0.1,1],\n",
    "}\n",
    "\n",
    "# instansiasi grid seach objek\n",
    "grid_params_svm = GridSearchCV(\n",
    "    estimator= svm_params_tuned_model,\n",
    "    param_grid=params_grid,\n",
    "    scoring=scoring_recall,\n",
    "    cv = kfold\n",
    ")\n",
    "\n",
    "# fit grid objek ke data train\n",
    "grid_results_svm_ = grid_params_svm.fit(X_train_pca,y_train)"
   ]
  },
  {
   "cell_type": "code",
   "execution_count": 94,
   "id": "d32ee084",
   "metadata": {},
   "outputs": [
    {
     "name": "stdout",
     "output_type": "stream",
     "text": [
      "Best SVM Hyperparameter: {'C': 1, 'gamma': 0.01, 'kernel': 'rbf'}\n",
      "Best SVM Recall Score: 0.7656425086281855\n"
     ]
    }
   ],
   "source": [
    "# Cetak hyperparameter yang memberikan hasil terbaik\n",
    "print('Best SVM Hyperparameter: {}'.format(grid_results_svm_.best_params_))\n",
    "print('Best SVM Recall Score: {}'.format(grid_results_svm_.best_score_))"
   ]
  },
  {
   "cell_type": "markdown",
   "id": "87da1eda",
   "metadata": {},
   "source": [
    "## Evaluasi dan Finalisasi Model\n",
    "***\n",
    "Model yang sudah dilatih akan dievaluasi dengan data uji (30%) dengan parameter optimal yang sudah dituning"
   ]
  },
  {
   "cell_type": "markdown",
   "id": "0f0ff0c9",
   "metadata": {},
   "source": [
    "### Logistic Regression"
   ]
  },
  {
   "cell_type": "code",
   "execution_count": 95,
   "id": "e2b06cf0",
   "metadata": {},
   "outputs": [],
   "source": [
    "# inisialisasi model LR dengan hyperparameter terbaik hasil tuning\n",
    "logreg_final = LogisticRegression(solver=grid_results_logreg_.best_params_['solver'])\n",
    "\n",
    "# fit model into training data\n",
    "logreg_final.fit(X_train_pca,y_train)\n",
    "\n",
    "# get y prediction\n",
    "y_pred_train_logreg = logreg_final.predict(X_train_pca)\n",
    "y_pred_test_logreg = logreg_final.predict(X_test_pca)"
   ]
  },
  {
   "cell_type": "code",
   "execution_count": 96,
   "id": "0b71b73d",
   "metadata": {},
   "outputs": [
    {
     "name": "stdout",
     "output_type": "stream",
     "text": [
      "Training Accuracy score Logistic Regression  = 75.38181818181819%\n",
      "Training Recall score Logistic Regression  = 75.09090909090908%\n",
      "Testing Accuracy score Logistic Regression  = 75.55675371559848%\n",
      "Testing Recall score Logistic Regression  = 75.78165847537383%\n",
      "====================================================================================================\n",
      "Confusion Matrix of Logistic Regression on Training\n",
      "[[4162 1338]\n",
      " [1370 4130]]\n",
      "Confusion Matrix of Logistic Regression on Testing\n",
      "[[24984  8111]\n",
      " [ 2316  7247]]\n",
      "====================================================================================================\n",
      "Detailed Classification Report of Logistic Regression on Training\n",
      "              precision    recall  f1-score   support\n",
      "\n",
      "         0.0       0.75      0.76      0.75      5500\n",
      "         1.0       0.76      0.75      0.75      5500\n",
      "\n",
      "    accuracy                           0.75     11000\n",
      "   macro avg       0.75      0.75      0.75     11000\n",
      "weighted avg       0.75      0.75      0.75     11000\n",
      "\n",
      "Detailed Classification Report of Logistic Regression on Testing\n",
      "              precision    recall  f1-score   support\n",
      "\n",
      "         0.0       0.92      0.75      0.83     33095\n",
      "         1.0       0.47      0.76      0.58      9563\n",
      "\n",
      "    accuracy                           0.76     42658\n",
      "   macro avg       0.69      0.76      0.70     42658\n",
      "weighted avg       0.82      0.76      0.77     42658\n",
      "\n"
     ]
    }
   ],
   "source": [
    "print_classification_report(y_train,y_test,y_pred_train_logreg,y_pred_test_logreg,'Logistic Regression')"
   ]
  },
  {
   "cell_type": "markdown",
   "id": "b114744e",
   "metadata": {},
   "source": [
    "### SVM"
   ]
  },
  {
   "cell_type": "code",
   "execution_count": 97,
   "id": "3e7b1a06",
   "metadata": {
    "scrolled": true
   },
   "outputs": [],
   "source": [
    "# inisialisasi model SVM dengan hyperparameter terbaik hasil tuning\n",
    "svm_final = SVC(\n",
    "    C=grid_results_svm_.best_params_['C'],\n",
    "    kernel=grid_results_svm_.best_params_['kernel'],\n",
    "    gamma=grid_results_svm_.best_params_['gamma'],\n",
    ")\n",
    "\n",
    "# fit model into training data\n",
    "svm_final.fit(X_train_pca,y_train)\n",
    "\n",
    "# get y prediction\n",
    "y_pred_train_svm = svm_final.predict(X_train_pca)\n",
    "y_pred_test_svm = svm_final.predict(X_test_pca)"
   ]
  },
  {
   "cell_type": "code",
   "execution_count": 98,
   "id": "d88885d3",
   "metadata": {},
   "outputs": [
    {
     "name": "stdout",
     "output_type": "stream",
     "text": [
      "Training Accuracy score SVM  = 82.04545454545455%\n",
      "Training Recall score SVM  = 81.85454545454546%\n",
      "Testing Accuracy score SVM  = 78.01350274274462%\n",
      "Testing Recall score SVM  = 77.60117118059186%\n",
      "====================================================================================================\n",
      "Confusion Matrix of SVM on Training\n",
      "[[4523  977]\n",
      " [ 998 4502]]\n",
      "Confusion Matrix of SVM on Testing\n",
      "[[25858  7237]\n",
      " [ 2142  7421]]\n",
      "====================================================================================================\n",
      "Detailed Classification Report of SVM on Training\n",
      "              precision    recall  f1-score   support\n",
      "\n",
      "         0.0       0.82      0.82      0.82      5500\n",
      "         1.0       0.82      0.82      0.82      5500\n",
      "\n",
      "    accuracy                           0.82     11000\n",
      "   macro avg       0.82      0.82      0.82     11000\n",
      "weighted avg       0.82      0.82      0.82     11000\n",
      "\n",
      "Detailed Classification Report of SVM on Testing\n",
      "              precision    recall  f1-score   support\n",
      "\n",
      "         0.0       0.92      0.78      0.85     33095\n",
      "         1.0       0.51      0.78      0.61      9563\n",
      "\n",
      "    accuracy                           0.78     42658\n",
      "   macro avg       0.71      0.78      0.73     42658\n",
      "weighted avg       0.83      0.78      0.79     42658\n",
      "\n"
     ]
    }
   ],
   "source": [
    "print_classification_report(y_train,y_test,y_pred_train_svm,y_pred_test_svm,'SVM')"
   ]
  },
  {
   "cell_type": "markdown",
   "id": "80020f77",
   "metadata": {},
   "source": [
    "**ANALISIS** <br>\n"
   ]
  },
  {
   "cell_type": "code",
   "execution_count": null,
   "id": "e854f399",
   "metadata": {},
   "outputs": [],
   "source": []
  },
  {
   "cell_type": "code",
   "execution_count": null,
   "id": "49ef59ab",
   "metadata": {},
   "outputs": [],
   "source": []
  },
  {
   "cell_type": "markdown",
   "id": "81be2d93",
   "metadata": {},
   "source": [
    "## Model Inference"
   ]
  },
  {
   "cell_type": "markdown",
   "id": "3c65409c",
   "metadata": {},
   "source": [
    "## Pengambilan Keputusan"
   ]
  },
  {
   "cell_type": "markdown",
   "id": "cd76926f",
   "metadata": {},
   "source": [
    "## Save for deployment"
   ]
  },
  {
   "cell_type": "code",
   "execution_count": 99,
   "id": "22c597e4",
   "metadata": {},
   "outputs": [],
   "source": [
    "saved_models['data']['after_preprocessing'] = {\n",
    "    'X_train': X_train_pca,\n",
    "    'y_train': y_train,\n",
    "    'X_test': X_test_pca,\n",
    "    'y_test': y_test,\n",
    "}\n",
    "\n",
    "saved_models['columns'] = {\n",
    "    'numerical': {\n",
    "        'all': numerical_columns,\n",
    "        'continous': continuous_columns,\n",
    "        'discrete': diskrit_columns,\n",
    "    },\n",
    "    'categorical': {\n",
    "        'all': categorical_columns,\n",
    "        'nominal': nominal_columns,\n",
    "        'ordinal': ordinal_columns\n",
    "    },\n",
    "\n",
    "}\n",
    "\n",
    "saved_models['imputer'] = {\n",
    "    'numerical': numerical_imputer,\n",
    "    'categorical': cateogrical_imputer\n",
    "}\n",
    "\n",
    "saved_models['encoder'] = {\n",
    "    'method': 'One Hot Encoder',\n",
    "    'type': 'categorical',\n",
    "    'encoder': onehot_encoder\n",
    "}\n",
    "\n",
    "saved_models['feature_scaling'] = {\n",
    "    'method': 'Standard Scaler',\n",
    "    'scaler': standard_scaler\n",
    "}\n",
    "\n",
    "saved_models['feature_selection'] = {\n",
    "    'dropped_columns': dropped_columns\n",
    "}\n",
    "saved_models['dimensionality_reduction'] = {\n",
    "    'method': PCA,\n",
    "    'threshold': threshold_cumsum,\n",
    "    'best_k': best_principal_component,\n",
    "    'pca_':pca_,\n",
    "    'pca_scaler_final': pca_scaler_,\n",
    "}\n",
    "\n",
    "saved_models['grid_search_results'] = {\n",
    "    'logreg': {\n",
    "        'results': grid_results_logreg_,\n",
    "        'params': logreg_params_grid,\n",
    "    },\n",
    "    'svm': {\n",
    "        'results': grid_results_svm_,\n",
    "        'params': params_grid,\n",
    "    }\n",
    "}\n",
    "\n",
    "saved_models['final_models'] = {\n",
    "    'logreg': logreg_final,\n",
    "    'svm': svm_final\n",
    "}"
   ]
  },
  {
   "cell_type": "code",
   "execution_count": 100,
   "id": "1a70912a",
   "metadata": {},
   "outputs": [],
   "source": [
    "pickle.dump(saved_models,open('models/models_trained.pkl','wb'))"
   ]
  },
  {
   "cell_type": "code",
   "execution_count": null,
   "id": "7f33d5b9",
   "metadata": {},
   "outputs": [],
   "source": []
  },
  {
   "cell_type": "code",
   "execution_count": null,
   "id": "b7cb3ebb",
   "metadata": {},
   "outputs": [],
   "source": []
  },
  {
   "cell_type": "code",
   "execution_count": null,
   "id": "52998416",
   "metadata": {},
   "outputs": [],
   "source": []
  },
  {
   "cell_type": "code",
   "execution_count": null,
   "id": "c753684c",
   "metadata": {},
   "outputs": [],
   "source": []
  },
  {
   "cell_type": "code",
   "execution_count": null,
   "id": "cbd588e1",
   "metadata": {},
   "outputs": [],
   "source": []
  },
  {
   "cell_type": "code",
   "execution_count": null,
   "id": "45b64e0e",
   "metadata": {},
   "outputs": [],
   "source": []
  },
  {
   "cell_type": "code",
   "execution_count": null,
   "id": "e2f852bf",
   "metadata": {},
   "outputs": [],
   "source": []
  },
  {
   "cell_type": "code",
   "execution_count": null,
   "id": "25f1054e",
   "metadata": {},
   "outputs": [],
   "source": []
  },
  {
   "cell_type": "code",
   "execution_count": null,
   "id": "b64f55e3",
   "metadata": {},
   "outputs": [],
   "source": []
  },
  {
   "cell_type": "code",
   "execution_count": null,
   "id": "aeb95ace",
   "metadata": {},
   "outputs": [],
   "source": []
  },
  {
   "cell_type": "code",
   "execution_count": null,
   "id": "d12b4b0c",
   "metadata": {},
   "outputs": [],
   "source": []
  },
  {
   "cell_type": "code",
   "execution_count": null,
   "id": "498c5a7e",
   "metadata": {},
   "outputs": [],
   "source": []
  },
  {
   "cell_type": "code",
   "execution_count": null,
   "id": "4be87d6c",
   "metadata": {},
   "outputs": [],
   "source": []
  },
  {
   "cell_type": "code",
   "execution_count": null,
   "id": "62d9da69",
   "metadata": {},
   "outputs": [],
   "source": []
  },
  {
   "cell_type": "code",
   "execution_count": null,
   "id": "c356c61d",
   "metadata": {},
   "outputs": [],
   "source": []
  },
  {
   "cell_type": "code",
   "execution_count": null,
   "id": "b71e5d8a",
   "metadata": {},
   "outputs": [],
   "source": []
  },
  {
   "cell_type": "code",
   "execution_count": null,
   "id": "60949fa5",
   "metadata": {},
   "outputs": [],
   "source": []
  },
  {
   "cell_type": "code",
   "execution_count": null,
   "id": "1ba2bf46",
   "metadata": {},
   "outputs": [],
   "source": []
  },
  {
   "cell_type": "code",
   "execution_count": null,
   "id": "39f252cb",
   "metadata": {},
   "outputs": [],
   "source": []
  },
  {
   "cell_type": "code",
   "execution_count": null,
   "id": "5a1ba92c",
   "metadata": {},
   "outputs": [],
   "source": []
  },
  {
   "cell_type": "code",
   "execution_count": null,
   "id": "e3b355b7",
   "metadata": {},
   "outputs": [],
   "source": []
  },
  {
   "cell_type": "code",
   "execution_count": null,
   "id": "8524c5a3",
   "metadata": {},
   "outputs": [],
   "source": []
  },
  {
   "cell_type": "code",
   "execution_count": null,
   "id": "60363205",
   "metadata": {},
   "outputs": [],
   "source": []
  },
  {
   "cell_type": "code",
   "execution_count": null,
   "id": "3599a70e",
   "metadata": {},
   "outputs": [],
   "source": []
  },
  {
   "cell_type": "code",
   "execution_count": null,
   "id": "41701608",
   "metadata": {},
   "outputs": [],
   "source": []
  },
  {
   "cell_type": "code",
   "execution_count": null,
   "id": "3b582c83",
   "metadata": {},
   "outputs": [],
   "source": []
  },
  {
   "cell_type": "code",
   "execution_count": null,
   "id": "33c6d4d1",
   "metadata": {},
   "outputs": [],
   "source": []
  },
  {
   "cell_type": "code",
   "execution_count": null,
   "id": "04f12479",
   "metadata": {},
   "outputs": [],
   "source": []
  },
  {
   "cell_type": "code",
   "execution_count": null,
   "id": "07a8524d",
   "metadata": {},
   "outputs": [],
   "source": []
  },
  {
   "cell_type": "code",
   "execution_count": null,
   "id": "1cc83d9f",
   "metadata": {},
   "outputs": [],
   "source": []
  },
  {
   "cell_type": "code",
   "execution_count": null,
   "id": "08d98a19",
   "metadata": {},
   "outputs": [],
   "source": []
  },
  {
   "cell_type": "markdown",
   "id": "b5fe9796",
   "metadata": {},
   "source": [
    "**IGNORE FOLLOWING CODE FOR NOW**"
   ]
  },
  {
   "cell_type": "markdown",
   "id": "ca33800b",
   "metadata": {},
   "source": [
    "## Data Preprocessing Using Pipeline"
   ]
  },
  {
   "cell_type": "markdown",
   "id": "1a840517",
   "metadata": {},
   "source": [
    "### Load dataset and split attributes and target"
   ]
  },
  {
   "cell_type": "code",
   "execution_count": 101,
   "id": "d7707ea0",
   "metadata": {},
   "outputs": [],
   "source": [
    "# # read the dataset\n",
    "# df = pd.read_csv('dataset/weatherAUS.csv')\n",
    "\n",
    "# # rename columns \n",
    "# df = rename_columns_df(df)\n",
    "\n",
    "# # drop columns in dataframe are not relevant\n",
    "# df.drop(['Tanggal','Suhu Celcius 9 Pagi'],axis=1,inplace=True)\n",
    "# # df[categorical_columns] = df[categorical_columns].astype('category')\n",
    "\n",
    "# # drop data with missing values target\n",
    "# df.drop(df[\n",
    "#     df['Hari besok Hujan'].isnull()\n",
    "# ].index.values,inplace=True)\n",
    "\n",
    "# # splitting attributes and target\n",
    "# X, y = df.drop('Hari besok Hujan',axis=1), df['Hari besok Hujan']"
   ]
  },
  {
   "cell_type": "code",
   "execution_count": 102,
   "id": "7a2773cb",
   "metadata": {},
   "outputs": [],
   "source": [
    "# # train test split\n",
    "# X_train, X_test, y_train,y_test = train_test_split(X,y,test_size=0.2,random_state=42,shuffle=y)"
   ]
  },
  {
   "cell_type": "markdown",
   "id": "8d7af0cd",
   "metadata": {},
   "source": [
    "### Find numerical features and categorical features"
   ]
  },
  {
   "cell_type": "code",
   "execution_count": 103,
   "id": "2de97b5c",
   "metadata": {},
   "outputs": [],
   "source": [
    "# # numerical features\n",
    "# numerical_columns = list(X.select_dtypes(include=['float64', 'int64']).columns.values)\n",
    "# diskrit_columns = ['Awan 9 Pagi','Awan 3 Sore']\n",
    "# continuous_columns = [col for col in numerical_columns if col not in diskrit_columns]\n",
    "\n",
    "# # categorical features\n",
    "# categorical_columns = list(X.select_dtypes(include=['object']).columns.values)\n",
    "# ordinal_columns = ['Hari ini Hujan']\n",
    "# nominal_columns = [col for col in categorical_columns if col not in ordinal_columns]"
   ]
  },
  {
   "cell_type": "markdown",
   "id": "102d6bb7",
   "metadata": {},
   "source": [
    "### Numerical Pipeline and Categorical Pipeline"
   ]
  },
  {
   "cell_type": "code",
   "execution_count": 104,
   "id": "7baf628e",
   "metadata": {},
   "outputs": [],
   "source": [
    "# numeric_transformer = Pipeline(\n",
    "#     steps=[\n",
    "#         ('imputer', SimpleImputer(strategy='median')),\n",
    "#         ('scaler', StandardScaler())\n",
    "#     ]\n",
    "# )\n",
    "\n",
    "# categorical_transformer = Pipeline(\n",
    "#     steps=[\n",
    "#         ('imputer', SimpleImputer(strategy='most_frequent')),\n",
    "#         ('onehot',  OneHotEncoder())\n",
    "#     ]\n",
    "# )\n",
    "\n",
    "# preprocessor = ColumnTransformer(\n",
    "#     transformers=[\n",
    "#         ('num', numeric_transformer, numerical_columns),\n",
    "#         ('cat', categorical_transformer, categorical_columns),\n",
    "# ],\n",
    "#     remainder='passthrough'\n",
    "# )"
   ]
  },
  {
   "cell_type": "code",
   "execution_count": 105,
   "id": "49b39e04",
   "metadata": {},
   "outputs": [],
   "source": [
    "# pipeline = Pipeline(\n",
    "#     steps = [\n",
    "#         ('preprocessor', preprocessor),\n",
    "#         ('pca',TruncatedSVD(n_components=100)),\n",
    "#         ('classifier',LogisticRegression()),\n",
    "#     ]\n",
    "# )\n",
    "\n",
    "# pipeline.fit(X_train,y_train)\n",
    "# y_pred = pipeline.predict(X_test)\n",
    "# print(metrics.confusion_matrix(y_test,y_pred))\n",
    "# print(metrics.classification_report(y_test,y_pred))"
   ]
  },
  {
   "cell_type": "markdown",
   "id": "a6343cb4",
   "metadata": {},
   "source": [
    "## Model Pipeline"
   ]
  },
  {
   "cell_type": "markdown",
   "id": "77dfed4b",
   "metadata": {},
   "source": [
    "### Load New Dataset"
   ]
  },
  {
   "cell_type": "code",
   "execution_count": 106,
   "id": "b372c5f3",
   "metadata": {},
   "outputs": [],
   "source": [
    "# rainAus_df = pd.read_csv('dataset/weatherAUS.csv')\n",
    "\n",
    "# train_test_split()\n",
    "\n",
    "\n",
    "# X_train, X_test, y_train, y_test = train_test_split(rainAus_df, label, test_size=0.2, random_state=42, stratify = label)\n",
    "# #pre_process = ColumnTransformer(remainder='passthrough',\n",
    "# #                                transformers=[('drop_columns', 'drop', drop_columns_anova + drop_columns_chi)])\n",
    "# pipeline_lr=Pipeline([('scalar1', MinMaxScaler()),\n",
    "#                     ('pcal',PCA(n_components=best_principal_component)),\n",
    "#                     ('lr_classifier',LogisticRegression())])\n",
    "# pipeline_svm=Pipeline([('scalar2', MinMaxScaler()),\n",
    "#                     ('pcal',PCA(n_components=best_principal_component)),\n",
    "#                     ('svm_classifier',SVC())])\n",
    "# pipelines=[pipeline_lr,pipeline_svm]\n",
    "# pipe_dict = {0: 'LogisticRegression', 1:'SVM'}\n",
    "\n",
    "# for pipe in pipelines:\n",
    "#     pipe.fit(X_train, y_train)\n",
    "#     for i,model in enumerate(pipelines):\n",
    "#     print(\"{} Test Accuracy: {}\".format(pipe_dict[i],model.score(X_test,y_test)))"
   ]
  },
  {
   "cell_type": "code",
   "execution_count": null,
   "id": "777f1a37",
   "metadata": {},
   "outputs": [],
   "source": []
  },
  {
   "cell_type": "code",
   "execution_count": null,
   "id": "44b34d17",
   "metadata": {},
   "outputs": [],
   "source": []
  }
 ],
 "metadata": {
  "kernelspec": {
   "display_name": "Python 3",
   "language": "python",
   "name": "python3"
  },
  "language_info": {
   "codemirror_mode": {
    "name": "ipython",
    "version": 3
   },
   "file_extension": ".py",
   "mimetype": "text/x-python",
   "name": "python",
   "nbconvert_exporter": "python",
   "pygments_lexer": "ipython3",
   "version": "3.7.11"
  },
  "toc": {
   "base_numbering": 1,
   "nav_menu": {},
   "number_sections": true,
   "sideBar": true,
   "skip_h1_title": false,
   "title_cell": "Table of Contents",
   "title_sidebar": "Contents",
   "toc_cell": false,
   "toc_position": {
    "height": "calc(100% - 180px)",
    "left": "10px",
    "top": "150px",
    "width": "286.991px"
   },
   "toc_section_display": true,
   "toc_window_display": true
  },
  "varInspector": {
   "cols": {
    "lenName": 16,
    "lenType": 16,
    "lenVar": 40
   },
   "kernels_config": {
    "python": {
     "delete_cmd_postfix": "",
     "delete_cmd_prefix": "del ",
     "library": "var_list.py",
     "varRefreshCmd": "print(var_dic_list())"
    },
    "r": {
     "delete_cmd_postfix": ") ",
     "delete_cmd_prefix": "rm(",
     "library": "var_list.r",
     "varRefreshCmd": "cat(var_dic_list()) "
    }
   },
   "types_to_exclude": [
    "module",
    "function",
    "builtin_function_or_method",
    "instance",
    "_Feature"
   ],
   "window_display": false
  }
 },
 "nbformat": 4,
 "nbformat_minor": 5
}
